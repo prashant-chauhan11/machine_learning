{
  "nbformat": 4,
  "nbformat_minor": 0,
  "metadata": {
    "colab": {
      "name": "counterfeit.ipynb",
      "version": "0.3.2",
      "provenance": [],
      "include_colab_link": true
    },
    "kernelspec": {
      "name": "python3",
      "display_name": "Python 3"
    },
    "accelerator": "TPU"
  },
  "cells": [
    {
      "cell_type": "markdown",
      "metadata": {
        "id": "view-in-github",
        "colab_type": "text"
      },
      "source": [
        "<a href=\"https://colab.research.google.com/github/prashant-chauhan11/machine_learning/blob/master/medicine_counterfeit/counterfeit.ipynb\" target=\"_parent\"><img src=\"https://colab.research.google.com/assets/colab-badge.svg\" alt=\"Open In Colab\"/></a>"
      ]
    },
    {
      "cell_type": "code",
      "metadata": {
        "id": "dQxIV0k8Ly12",
        "colab_type": "code",
        "colab": {}
      },
      "source": [
        "import pandas as pd\n",
        "import numpy as np"
      ],
      "execution_count": 0,
      "outputs": []
    },
    {
      "cell_type": "code",
      "metadata": {
        "id": "E0W7gW26MIBg",
        "colab_type": "code",
        "colab": {}
      },
      "source": [
        "df = pd.read_csv(r\"counterfeit_train.csv\")"
      ],
      "execution_count": 0,
      "outputs": []
    },
    {
      "cell_type": "code",
      "metadata": {
        "id": "Hd7et-3lMQ2V",
        "colab_type": "code",
        "outputId": "afcae6aa-c390-4c92-da87-52d555e3062d",
        "colab": {
          "base_uri": "https://localhost:8080/",
          "height": 218
        }
      },
      "source": [
        "df.head()"
      ],
      "execution_count": 0,
      "outputs": [
        {
          "output_type": "execute_result",
          "data": {
            "text/html": [
              "<div>\n",
              "<style scoped>\n",
              "    .dataframe tbody tr th:only-of-type {\n",
              "        vertical-align: middle;\n",
              "    }\n",
              "\n",
              "    .dataframe tbody tr th {\n",
              "        vertical-align: top;\n",
              "    }\n",
              "\n",
              "    .dataframe thead th {\n",
              "        text-align: right;\n",
              "    }\n",
              "</style>\n",
              "<table border=\"1\" class=\"dataframe\">\n",
              "  <thead>\n",
              "    <tr style=\"text-align: right;\">\n",
              "      <th></th>\n",
              "      <th>Medicine_ID</th>\n",
              "      <th>Counterfeit_Weight</th>\n",
              "      <th>DistArea_ID</th>\n",
              "      <th>Active_Since</th>\n",
              "      <th>Medicine_MRP</th>\n",
              "      <th>Medicine_Type</th>\n",
              "      <th>SidEffect_Level</th>\n",
              "      <th>Availability_rating</th>\n",
              "      <th>Area_Type</th>\n",
              "      <th>Area_City_Type</th>\n",
              "      <th>Area_dist_level</th>\n",
              "      <th>Counterfeit_Sales</th>\n",
              "    </tr>\n",
              "  </thead>\n",
              "  <tbody>\n",
              "    <tr>\n",
              "      <th>0</th>\n",
              "      <td>RRA15</td>\n",
              "      <td>13.100</td>\n",
              "      <td>Area046</td>\n",
              "      <td>1995</td>\n",
              "      <td>160.2366</td>\n",
              "      <td>Antimalarial</td>\n",
              "      <td>critical</td>\n",
              "      <td>0.070422</td>\n",
              "      <td>DownTown</td>\n",
              "      <td>Tier 1</td>\n",
              "      <td>Small</td>\n",
              "      <td>1775.5026</td>\n",
              "    </tr>\n",
              "    <tr>\n",
              "      <th>1</th>\n",
              "      <td>YVV26</td>\n",
              "      <td>NaN</td>\n",
              "      <td>Area027</td>\n",
              "      <td>1983</td>\n",
              "      <td>110.4384</td>\n",
              "      <td>Mstablizers</td>\n",
              "      <td>mild</td>\n",
              "      <td>0.013000</td>\n",
              "      <td>CityLimits</td>\n",
              "      <td>Tier 3</td>\n",
              "      <td>Medium</td>\n",
              "      <td>3069.1520</td>\n",
              "    </tr>\n",
              "    <tr>\n",
              "      <th>2</th>\n",
              "      <td>LJC15</td>\n",
              "      <td>9.025</td>\n",
              "      <td>Area046</td>\n",
              "      <td>1995</td>\n",
              "      <td>259.4092</td>\n",
              "      <td>Cardiac</td>\n",
              "      <td>mild</td>\n",
              "      <td>0.060783</td>\n",
              "      <td>DownTown</td>\n",
              "      <td>Tier 1</td>\n",
              "      <td>Small</td>\n",
              "      <td>2603.0920</td>\n",
              "    </tr>\n",
              "    <tr>\n",
              "      <th>3</th>\n",
              "      <td>GWC40</td>\n",
              "      <td>11.800</td>\n",
              "      <td>Area046</td>\n",
              "      <td>1995</td>\n",
              "      <td>99.9830</td>\n",
              "      <td>OralContraceptives</td>\n",
              "      <td>mild</td>\n",
              "      <td>0.065555</td>\n",
              "      <td>DownTown</td>\n",
              "      <td>Tier 1</td>\n",
              "      <td>Small</td>\n",
              "      <td>1101.7130</td>\n",
              "    </tr>\n",
              "    <tr>\n",
              "      <th>4</th>\n",
              "      <td>QMN13</td>\n",
              "      <td>NaN</td>\n",
              "      <td>Area019</td>\n",
              "      <td>1983</td>\n",
              "      <td>56.4402</td>\n",
              "      <td>Hreplacements</td>\n",
              "      <td>critical</td>\n",
              "      <td>0.248859</td>\n",
              "      <td>MidTownResidential</td>\n",
              "      <td>Tier 1</td>\n",
              "      <td>Small</td>\n",
              "      <td>158.9402</td>\n",
              "    </tr>\n",
              "  </tbody>\n",
              "</table>\n",
              "</div>"
            ],
            "text/plain": [
              "  Medicine_ID  Counterfeit_Weight  ... Area_dist_level  Counterfeit_Sales\n",
              "0       RRA15              13.100  ...           Small          1775.5026\n",
              "1       YVV26                 NaN  ...          Medium          3069.1520\n",
              "2       LJC15               9.025  ...           Small          2603.0920\n",
              "3       GWC40              11.800  ...           Small          1101.7130\n",
              "4       QMN13                 NaN  ...           Small           158.9402\n",
              "\n",
              "[5 rows x 12 columns]"
            ]
          },
          "metadata": {
            "tags": []
          },
          "execution_count": 3
        }
      ]
    },
    {
      "cell_type": "code",
      "metadata": {
        "id": "UFeCNzBFMSl5",
        "colab_type": "code",
        "outputId": "e4487a5a-7c41-4de0-c72c-f7f7ef22aeac",
        "colab": {
          "base_uri": "https://localhost:8080/",
          "height": 254
        }
      },
      "source": [
        "df.dtypes"
      ],
      "execution_count": 0,
      "outputs": [
        {
          "output_type": "execute_result",
          "data": {
            "text/plain": [
              "Medicine_ID             object\n",
              "Counterfeit_Weight     float64\n",
              "DistArea_ID             object\n",
              "Active_Since             int64\n",
              "Medicine_MRP           float64\n",
              "Medicine_Type           object\n",
              "SidEffect_Level         object\n",
              "Availability_rating    float64\n",
              "Area_Type               object\n",
              "Area_City_Type          object\n",
              "Area_dist_level         object\n",
              "Counterfeit_Sales      float64\n",
              "dtype: object"
            ]
          },
          "metadata": {
            "tags": []
          },
          "execution_count": 4
        }
      ]
    },
    {
      "cell_type": "code",
      "metadata": {
        "id": "_m90CTL3M-Px",
        "colab_type": "code",
        "outputId": "ee9febaa-70ee-49b1-a638-05b3e4bbf939",
        "colab": {
          "base_uri": "https://localhost:8080/",
          "height": 254
        }
      },
      "source": [
        "df.nunique()"
      ],
      "execution_count": 0,
      "outputs": [
        {
          "output_type": "execute_result",
          "data": {
            "text/plain": [
              "Medicine_ID            1557\n",
              "Counterfeit_Weight      414\n",
              "DistArea_ID              10\n",
              "Active_Since              9\n",
              "Medicine_MRP           5097\n",
              "Medicine_Type            16\n",
              "SidEffect_Level           2\n",
              "Availability_rating    6317\n",
              "Area_Type                 4\n",
              "Area_City_Type            3\n",
              "Area_dist_level           4\n",
              "Counterfeit_Sales      3142\n",
              "dtype: int64"
            ]
          },
          "metadata": {
            "tags": []
          },
          "execution_count": 5
        }
      ]
    },
    {
      "cell_type": "code",
      "metadata": {
        "id": "JIFVrJ62NZuL",
        "colab_type": "code",
        "outputId": "ad794ddc-bf3c-44e8-fa21-b947d35d8a09",
        "colab": {
          "base_uri": "https://localhost:8080/",
          "height": 35
        }
      },
      "source": [
        "df.shape"
      ],
      "execution_count": 0,
      "outputs": [
        {
          "output_type": "execute_result",
          "data": {
            "text/plain": [
              "(6818, 12)"
            ]
          },
          "metadata": {
            "tags": []
          },
          "execution_count": 6
        }
      ]
    },
    {
      "cell_type": "code",
      "metadata": {
        "id": "YWkfJ-OQOW5d",
        "colab_type": "code",
        "colab": {}
      },
      "source": [
        "df.drop('Medicine_ID', axis = 1, inplace= True)"
      ],
      "execution_count": 0,
      "outputs": []
    },
    {
      "cell_type": "code",
      "metadata": {
        "id": "yxJyAakal_mR",
        "colab_type": "code",
        "colab": {}
      },
      "source": [
        "df['Area_City_Type'] = pd.to_numeric(df['Area_City_Type'].str.replace(\"Tier\", \"\"), errors = 'coerce')"
      ],
      "execution_count": 0,
      "outputs": []
    },
    {
      "cell_type": "code",
      "metadata": {
        "id": "k0rKxQsymO_J",
        "colab_type": "code",
        "outputId": "5cf0e68f-4f15-41ff-9c55-de10de241588",
        "colab": {
          "base_uri": "https://localhost:8080/",
          "height": 72
        }
      },
      "source": [
        "cat_cols = df.select_dtypes(['object']).columns\n",
        "cat_cols"
      ],
      "execution_count": 0,
      "outputs": [
        {
          "output_type": "execute_result",
          "data": {
            "text/plain": [
              "Index(['DistArea_ID', 'Medicine_Type', 'SidEffect_Level', 'Area_Type',\n",
              "       'Area_dist_level'],\n",
              "      dtype='object')"
            ]
          },
          "metadata": {
            "tags": []
          },
          "execution_count": 9
        }
      ]
    },
    {
      "cell_type": "code",
      "metadata": {
        "id": "qUUV2Lonn-3j",
        "colab_type": "code",
        "colab": {}
      },
      "source": [
        "for col in cat_cols:\n",
        "  k = df[col].unique()\n",
        "  for cat in k:\n",
        "    name = col+'_'+cat\n",
        "    df[name] = (df[col]==cat).astype(int)\n",
        "  del df[col]"
      ],
      "execution_count": 0,
      "outputs": []
    },
    {
      "cell_type": "code",
      "metadata": {
        "id": "q3h-zWYXqqJh",
        "colab_type": "code",
        "outputId": "f6fb4122-f7ab-4029-e9f1-d79d6865789a",
        "colab": {
          "base_uri": "https://localhost:8080/",
          "height": 35
        }
      },
      "source": [
        "df.shape"
      ],
      "execution_count": 0,
      "outputs": [
        {
          "output_type": "execute_result",
          "data": {
            "text/plain": [
              "(6818, 42)"
            ]
          },
          "metadata": {
            "tags": []
          },
          "execution_count": 11
        }
      ]
    },
    {
      "cell_type": "code",
      "metadata": {
        "id": "ViXJKsBLrPKE",
        "colab_type": "code",
        "outputId": "bc010b94-34dd-4001-d413-fbef71cbcc91",
        "colab": {
          "base_uri": "https://localhost:8080/",
          "height": 799
        }
      },
      "source": [
        "df.dtypes"
      ],
      "execution_count": 0,
      "outputs": [
        {
          "output_type": "execute_result",
          "data": {
            "text/plain": [
              "Counterfeit_Weight                  float64\n",
              "Active_Since                          int64\n",
              "Medicine_MRP                        float64\n",
              "Availability_rating                 float64\n",
              "Area_City_Type                        int64\n",
              "Counterfeit_Sales                   float64\n",
              "DistArea_ID_Area046                   int64\n",
              "DistArea_ID_Area027                   int64\n",
              "DistArea_ID_Area019                   int64\n",
              "DistArea_ID_Area045                   int64\n",
              "DistArea_ID_Area018                   int64\n",
              "DistArea_ID_Area013                   int64\n",
              "DistArea_ID_Area017                   int64\n",
              "DistArea_ID_Area010                   int64\n",
              "DistArea_ID_Area035                   int64\n",
              "DistArea_ID_Area049                   int64\n",
              "Medicine_Type_Antimalarial            int64\n",
              "Medicine_Type_Mstablizers             int64\n",
              "Medicine_Type_Cardiac                 int64\n",
              "Medicine_Type_OralContraceptives      int64\n",
              "Medicine_Type_Hreplacements           int64\n",
              "Medicine_Type_Antiseptics             int64\n",
              "Medicine_Type_Statins                 int64\n",
              "Medicine_Type_Analgesics              int64\n",
              "Medicine_Type_MuscleRelaxants         int64\n",
              "Medicine_Type_Antibiotics             int64\n",
              "Medicine_Type_Antifungal              int64\n",
              "Medicine_Type_Antiviral               int64\n",
              "Medicine_Type_Tranquilizers           int64\n",
              "Medicine_Type_Antacids                int64\n",
              "Medicine_Type_Antipyretics            int64\n",
              "Medicine_Type_Stimulants              int64\n",
              "SidEffect_Level_critical              int64\n",
              "SidEffect_Level_mild                  int64\n",
              "Area_Type_DownTown                    int64\n",
              "Area_Type_CityLimits                  int64\n",
              "Area_Type_MidTownResidential          int64\n",
              "Area_Type_Industrial                  int64\n",
              "Area_dist_level_Small                 int64\n",
              "Area_dist_level_Medium                int64\n",
              "Area_dist_level_Unknown               int64\n",
              "Area_dist_level_High                  int64\n",
              "dtype: object"
            ]
          },
          "metadata": {
            "tags": []
          },
          "execution_count": 12
        }
      ]
    },
    {
      "cell_type": "code",
      "metadata": {
        "colab_type": "code",
        "outputId": "2cbc7fd0-f47c-4e44-cee4-8b714a6dd1c4",
        "id": "lPebRx7W9tVx",
        "colab": {
          "base_uri": "https://localhost:8080/",
          "height": 799
        }
      },
      "source": [
        "df.isnull().sum()"
      ],
      "execution_count": 0,
      "outputs": [
        {
          "output_type": "execute_result",
          "data": {
            "text/plain": [
              "Counterfeit_Weight                  1166\n",
              "Active_Since                           0\n",
              "Medicine_MRP                           0\n",
              "Availability_rating                    0\n",
              "Area_City_Type                         0\n",
              "Counterfeit_Sales                      0\n",
              "DistArea_ID_Area046                    0\n",
              "DistArea_ID_Area027                    0\n",
              "DistArea_ID_Area019                    0\n",
              "DistArea_ID_Area045                    0\n",
              "DistArea_ID_Area018                    0\n",
              "DistArea_ID_Area013                    0\n",
              "DistArea_ID_Area017                    0\n",
              "DistArea_ID_Area010                    0\n",
              "DistArea_ID_Area035                    0\n",
              "DistArea_ID_Area049                    0\n",
              "Medicine_Type_Antimalarial             0\n",
              "Medicine_Type_Mstablizers              0\n",
              "Medicine_Type_Cardiac                  0\n",
              "Medicine_Type_OralContraceptives       0\n",
              "Medicine_Type_Hreplacements            0\n",
              "Medicine_Type_Antiseptics              0\n",
              "Medicine_Type_Statins                  0\n",
              "Medicine_Type_Analgesics               0\n",
              "Medicine_Type_MuscleRelaxants          0\n",
              "Medicine_Type_Antibiotics              0\n",
              "Medicine_Type_Antifungal               0\n",
              "Medicine_Type_Antiviral                0\n",
              "Medicine_Type_Tranquilizers            0\n",
              "Medicine_Type_Antacids                 0\n",
              "Medicine_Type_Antipyretics             0\n",
              "Medicine_Type_Stimulants               0\n",
              "SidEffect_Level_critical               0\n",
              "SidEffect_Level_mild                   0\n",
              "Area_Type_DownTown                     0\n",
              "Area_Type_CityLimits                   0\n",
              "Area_Type_MidTownResidential           0\n",
              "Area_Type_Industrial                   0\n",
              "Area_dist_level_Small                  0\n",
              "Area_dist_level_Medium                 0\n",
              "Area_dist_level_Unknown                0\n",
              "Area_dist_level_High                   0\n",
              "dtype: int64"
            ]
          },
          "metadata": {
            "tags": []
          },
          "execution_count": 13
        }
      ]
    },
    {
      "cell_type": "code",
      "metadata": {
        "id": "oQCeB6WQrSib",
        "colab_type": "code",
        "colab": {}
      },
      "source": [
        "df = df[~df.Counterfeit_Weight.isnull()]\n",
        "\n",
        "#df.loc[df.Counterfeit_Weight.isnull(), 'Counterfeit_Weight'] = df.Counterfeit_Weight.mean()"
      ],
      "execution_count": 0,
      "outputs": []
    },
    {
      "cell_type": "code",
      "metadata": {
        "id": "qUGnkB1Yrnoa",
        "colab_type": "code",
        "outputId": "fd8efbc0-b04e-49ee-da72-2de6e8cca947",
        "colab": {
          "base_uri": "https://localhost:8080/",
          "height": 799
        }
      },
      "source": [
        "df.isnull().sum()"
      ],
      "execution_count": 0,
      "outputs": [
        {
          "output_type": "execute_result",
          "data": {
            "text/plain": [
              "Counterfeit_Weight                  0\n",
              "Active_Since                        0\n",
              "Medicine_MRP                        0\n",
              "Availability_rating                 0\n",
              "Area_City_Type                      0\n",
              "Counterfeit_Sales                   0\n",
              "DistArea_ID_Area046                 0\n",
              "DistArea_ID_Area027                 0\n",
              "DistArea_ID_Area019                 0\n",
              "DistArea_ID_Area045                 0\n",
              "DistArea_ID_Area018                 0\n",
              "DistArea_ID_Area013                 0\n",
              "DistArea_ID_Area017                 0\n",
              "DistArea_ID_Area010                 0\n",
              "DistArea_ID_Area035                 0\n",
              "DistArea_ID_Area049                 0\n",
              "Medicine_Type_Antimalarial          0\n",
              "Medicine_Type_Mstablizers           0\n",
              "Medicine_Type_Cardiac               0\n",
              "Medicine_Type_OralContraceptives    0\n",
              "Medicine_Type_Hreplacements         0\n",
              "Medicine_Type_Antiseptics           0\n",
              "Medicine_Type_Statins               0\n",
              "Medicine_Type_Analgesics            0\n",
              "Medicine_Type_MuscleRelaxants       0\n",
              "Medicine_Type_Antibiotics           0\n",
              "Medicine_Type_Antifungal            0\n",
              "Medicine_Type_Antiviral             0\n",
              "Medicine_Type_Tranquilizers         0\n",
              "Medicine_Type_Antacids              0\n",
              "Medicine_Type_Antipyretics          0\n",
              "Medicine_Type_Stimulants            0\n",
              "SidEffect_Level_critical            0\n",
              "SidEffect_Level_mild                0\n",
              "Area_Type_DownTown                  0\n",
              "Area_Type_CityLimits                0\n",
              "Area_Type_MidTownResidential        0\n",
              "Area_Type_Industrial                0\n",
              "Area_dist_level_Small               0\n",
              "Area_dist_level_Medium              0\n",
              "Area_dist_level_Unknown             0\n",
              "Area_dist_level_High                0\n",
              "dtype: int64"
            ]
          },
          "metadata": {
            "tags": []
          },
          "execution_count": 15
        }
      ]
    },
    {
      "cell_type": "code",
      "metadata": {
        "id": "u0PIH8HWsk4D",
        "colab_type": "code",
        "colab": {}
      },
      "source": [
        "from sklearn.model_selection import train_test_split"
      ],
      "execution_count": 0,
      "outputs": []
    },
    {
      "cell_type": "code",
      "metadata": {
        "id": "8RSyjVXps6Qk",
        "colab_type": "code",
        "colab": {}
      },
      "source": [
        "train, test = train_test_split(df, test_size = 0.2, random_state = 2)"
      ],
      "execution_count": 0,
      "outputs": []
    },
    {
      "cell_type": "code",
      "metadata": {
        "id": "TP-hCHh8tG6y",
        "colab_type": "code",
        "outputId": "c24db218-ffb6-40b6-fd17-c03703851684",
        "colab": {
          "base_uri": "https://localhost:8080/",
          "height": 54
        }
      },
      "source": [
        "print(train.shape)\n",
        "print(test.shape)"
      ],
      "execution_count": 0,
      "outputs": [
        {
          "output_type": "stream",
          "text": [
            "(4521, 42)\n",
            "(1131, 42)\n"
          ],
          "name": "stdout"
        }
      ]
    },
    {
      "cell_type": "code",
      "metadata": {
        "id": "a-YMd3qhtMhw",
        "colab_type": "code",
        "colab": {}
      },
      "source": [
        "X_train = train.drop(\"Counterfeit_Sales\", axis = 1)\n",
        "Y_train = train[\"Counterfeit_Sales\"]\n",
        "del train\n",
        "X_test = test.drop(\"Counterfeit_Sales\", axis = 1)\n",
        "Y_test = test[\"Counterfeit_Sales\"]\n",
        "del test"
      ],
      "execution_count": 0,
      "outputs": []
    },
    {
      "cell_type": "code",
      "metadata": {
        "id": "ZFGkOr6Dth4i",
        "colab_type": "code",
        "outputId": "6ea263e7-3dad-4810-9290-ea2411d5da62",
        "colab": {
          "base_uri": "https://localhost:8080/",
          "height": 90
        }
      },
      "source": [
        "print(X_train.shape)\n",
        "print(Y_train.shape)\n",
        "print(X_test.shape)\n",
        "print(Y_test.shape)"
      ],
      "execution_count": 0,
      "outputs": [
        {
          "output_type": "stream",
          "text": [
            "(4521, 41)\n",
            "(4521,)\n",
            "(1131, 41)\n",
            "(1131,)\n"
          ],
          "name": "stdout"
        }
      ]
    },
    {
      "cell_type": "markdown",
      "metadata": {
        "id": "VrdDtlHNdrmr",
        "colab_type": "text"
      },
      "source": [
        "**Linear Regression**"
      ]
    },
    {
      "cell_type": "code",
      "metadata": {
        "id": "zyojY3qXukrK",
        "colab_type": "code",
        "colab": {}
      },
      "source": [
        "from sklearn.linear_model import LinearRegression, Ridge, Lasso\n",
        "from sklearn.model_selection import GridSearchCV"
      ],
      "execution_count": 0,
      "outputs": []
    },
    {
      "cell_type": "code",
      "metadata": {
        "id": "ctOlsLnnvHjC",
        "colab_type": "code",
        "outputId": "8ea4508b-12b6-4ed4-f515-8cad5d7dfd0e",
        "colab": {
          "base_uri": "https://localhost:8080/",
          "height": 35
        }
      },
      "source": [
        "model = LinearRegression()\n",
        "model.fit(X_train, Y_train)"
      ],
      "execution_count": 0,
      "outputs": [
        {
          "output_type": "execute_result",
          "data": {
            "text/plain": [
              "LinearRegression(copy_X=True, fit_intercept=True, n_jobs=None, normalize=False)"
            ]
          },
          "metadata": {
            "tags": []
          },
          "execution_count": 22
        }
      ]
    },
    {
      "cell_type": "code",
      "metadata": {
        "id": "ULSBq344vWU6",
        "colab_type": "code",
        "colab": {}
      },
      "source": [
        "pred = model.predict(X_test)"
      ],
      "execution_count": 0,
      "outputs": []
    },
    {
      "cell_type": "code",
      "metadata": {
        "id": "crlWow9-vjIP",
        "colab_type": "code",
        "colab": {}
      },
      "source": [
        "from sklearn.metrics import mean_absolute_error"
      ],
      "execution_count": 0,
      "outputs": []
    },
    {
      "cell_type": "code",
      "metadata": {
        "id": "m6E6136GvtqU",
        "colab_type": "code",
        "outputId": "fa5d540c-841b-43c8-fb8e-7bf5d7e27023",
        "colab": {
          "base_uri": "https://localhost:8080/",
          "height": 35
        }
      },
      "source": [
        "(1-(mean_absolute_error(Y_test,pred)/1600))*100"
      ],
      "execution_count": 0,
      "outputs": [
        {
          "output_type": "execute_result",
          "data": {
            "text/plain": [
              "50.05913808377998"
            ]
          },
          "metadata": {
            "tags": []
          },
          "execution_count": 25
        }
      ]
    },
    {
      "cell_type": "markdown",
      "metadata": {
        "id": "WBU9Sdf8dxtG",
        "colab_type": "text"
      },
      "source": [
        "**Ridge**"
      ]
    },
    {
      "cell_type": "code",
      "metadata": {
        "id": "14MDHfCFv_e8",
        "colab_type": "code",
        "colab": {}
      },
      "source": [
        "lambdas=np.linspace(70,80,100)"
      ],
      "execution_count": 0,
      "outputs": []
    },
    {
      "cell_type": "code",
      "metadata": {
        "id": "dQCBcv9sxy2E",
        "colab_type": "code",
        "colab": {}
      },
      "source": [
        "params={'alpha':lambdas}"
      ],
      "execution_count": 0,
      "outputs": []
    },
    {
      "cell_type": "code",
      "metadata": {
        "id": "hW2iormMx2nR",
        "colab_type": "code",
        "colab": {}
      },
      "source": [
        "model=Ridge(fit_intercept=True)"
      ],
      "execution_count": 0,
      "outputs": []
    },
    {
      "cell_type": "code",
      "metadata": {
        "id": "B8f2EorAx5Kr",
        "colab_type": "code",
        "colab": {}
      },
      "source": [
        "grid_search=GridSearchCV(model,param_grid=params,cv=10,scoring='neg_mean_absolute_error')"
      ],
      "execution_count": 0,
      "outputs": []
    },
    {
      "cell_type": "code",
      "metadata": {
        "id": "k1wqi0GOx_t3",
        "colab_type": "code",
        "outputId": "812ad662-f742-4430-ddf0-e0b2fd9abb7f",
        "colab": {
          "base_uri": "https://localhost:8080/",
          "height": 310
        }
      },
      "source": [
        "grid_search.fit(X_train,Y_train)"
      ],
      "execution_count": 0,
      "outputs": [
        {
          "output_type": "execute_result",
          "data": {
            "text/plain": [
              "GridSearchCV(cv=10, error_score='raise-deprecating',\n",
              "             estimator=Ridge(alpha=1.0, copy_X=True, fit_intercept=True,\n",
              "                             max_iter=None, normalize=False, random_state=None,\n",
              "                             solver='auto', tol=0.001),\n",
              "             iid='warn', n_jobs=None,\n",
              "             param_grid={'alpha': array([70.        , 70.1010101 , 70.2020202 , 70.3030303 , 70.4040404 ,\n",
              "       70.50505051, 70.60606061, 70.70707071, 70.80808081, 70.90909091,\n",
              "       71.01010101...\n",
              "       77.57575758, 77.67676768, 77.77777778, 77.87878788, 77.97979798,\n",
              "       78.08080808, 78.18181818, 78.28282828, 78.38383838, 78.48484848,\n",
              "       78.58585859, 78.68686869, 78.78787879, 78.88888889, 78.98989899,\n",
              "       79.09090909, 79.19191919, 79.29292929, 79.39393939, 79.49494949,\n",
              "       79.5959596 , 79.6969697 , 79.7979798 , 79.8989899 , 80.        ])},\n",
              "             pre_dispatch='2*n_jobs', refit=True, return_train_score=False,\n",
              "             scoring='neg_mean_absolute_error', verbose=0)"
            ]
          },
          "metadata": {
            "tags": []
          },
          "execution_count": 30
        }
      ]
    },
    {
      "cell_type": "code",
      "metadata": {
        "id": "4cnsqemCyD7J",
        "colab_type": "code",
        "outputId": "124c3277-18c0-490e-d8e6-f171f1af9736",
        "colab": {
          "base_uri": "https://localhost:8080/",
          "height": 54
        }
      },
      "source": [
        "grid_search.best_estimator_"
      ],
      "execution_count": 0,
      "outputs": [
        {
          "output_type": "execute_result",
          "data": {
            "text/plain": [
              "Ridge(alpha=77.67676767676768, copy_X=True, fit_intercept=True, max_iter=None,\n",
              "      normalize=False, random_state=None, solver='auto', tol=0.001)"
            ]
          },
          "metadata": {
            "tags": []
          },
          "execution_count": 31
        }
      ]
    },
    {
      "cell_type": "code",
      "metadata": {
        "id": "lkqb4YQyuZWO",
        "colab_type": "code",
        "outputId": "70415253-a460-46bf-db70-269f58ca130c",
        "colab": {
          "base_uri": "https://localhost:8080/",
          "height": 35
        }
      },
      "source": [
        "reg = grid_search.best_estimator_\n",
        "accuracy =  reg.score(X_test, Y_test)\n",
        "print(accuracy*100)"
      ],
      "execution_count": 0,
      "outputs": [
        {
          "output_type": "stream",
          "text": [
            "51.25445935587045\n"
          ],
          "name": "stdout"
        }
      ]
    },
    {
      "cell_type": "code",
      "metadata": {
        "id": "D8lr_Ew2yO30",
        "colab_type": "code",
        "colab": {}
      },
      "source": [
        "def report(results, n_top=3):\n",
        "    for i in range(1, n_top + 1):\n",
        "        candidates = np.flatnonzero(results['rank_test_score'] == i)\n",
        "        for candidate in candidates:\n",
        "            print(\"Model with rank: {0}\".format(i))\n",
        "            print(\"Mean validation score: {0:.3f} (std: {1:.3f})\".format(\n",
        "                  results['mean_test_score'][candidate],\n",
        "                  results['std_test_score'][candidate]))\n",
        "            print(\"Parameters: {0}\".format(results['params'][candidate]))\n",
        "            print(\"\")"
      ],
      "execution_count": 0,
      "outputs": []
    },
    {
      "cell_type": "code",
      "metadata": {
        "id": "lLkJn670ysnB",
        "colab_type": "code",
        "outputId": "c9d3fa44-f506-4fb7-bc18-cd6727ae6758",
        "colab": {
          "base_uri": "https://localhost:8080/",
          "height": 1000
        }
      },
      "source": [
        "report(grid_search.cv_results_,100)"
      ],
      "execution_count": 0,
      "outputs": [
        {
          "output_type": "stream",
          "text": [
            "Model with rank: 1\n",
            "Mean validation score: -788.640 (std: 26.613)\n",
            "Parameters: {'alpha': 77.67676767676768}\n",
            "\n",
            "Model with rank: 2\n",
            "Mean validation score: -788.640 (std: 26.613)\n",
            "Parameters: {'alpha': 77.77777777777777}\n",
            "\n",
            "Model with rank: 3\n",
            "Mean validation score: -788.640 (std: 26.612)\n",
            "Parameters: {'alpha': 77.87878787878788}\n",
            "\n",
            "Model with rank: 4\n",
            "Mean validation score: -788.640 (std: 26.612)\n",
            "Parameters: {'alpha': 77.97979797979798}\n",
            "\n",
            "Model with rank: 5\n",
            "Mean validation score: -788.640 (std: 26.612)\n",
            "Parameters: {'alpha': 78.08080808080808}\n",
            "\n",
            "Model with rank: 6\n",
            "Mean validation score: -788.640 (std: 26.611)\n",
            "Parameters: {'alpha': 78.18181818181819}\n",
            "\n",
            "Model with rank: 7\n",
            "Mean validation score: -788.640 (std: 26.611)\n",
            "Parameters: {'alpha': 78.28282828282828}\n",
            "\n",
            "Model with rank: 8\n",
            "Mean validation score: -788.640 (std: 26.611)\n",
            "Parameters: {'alpha': 78.38383838383838}\n",
            "\n",
            "Model with rank: 9\n",
            "Mean validation score: -788.640 (std: 26.610)\n",
            "Parameters: {'alpha': 78.48484848484848}\n",
            "\n",
            "Model with rank: 10\n",
            "Mean validation score: -788.640 (std: 26.610)\n",
            "Parameters: {'alpha': 78.58585858585859}\n",
            "\n",
            "Model with rank: 11\n",
            "Mean validation score: -788.640 (std: 26.609)\n",
            "Parameters: {'alpha': 78.68686868686869}\n",
            "\n",
            "Model with rank: 12\n",
            "Mean validation score: -788.640 (std: 26.609)\n",
            "Parameters: {'alpha': 78.78787878787878}\n",
            "\n",
            "Model with rank: 13\n",
            "Mean validation score: -788.640 (std: 26.609)\n",
            "Parameters: {'alpha': 78.88888888888889}\n",
            "\n",
            "Model with rank: 14\n",
            "Mean validation score: -788.640 (std: 26.608)\n",
            "Parameters: {'alpha': 78.98989898989899}\n",
            "\n",
            "Model with rank: 15\n",
            "Mean validation score: -788.640 (std: 26.608)\n",
            "Parameters: {'alpha': 79.0909090909091}\n",
            "\n",
            "Model with rank: 16\n",
            "Mean validation score: -788.640 (std: 26.613)\n",
            "Parameters: {'alpha': 77.57575757575758}\n",
            "\n",
            "Model with rank: 17\n",
            "Mean validation score: -788.640 (std: 26.608)\n",
            "Parameters: {'alpha': 79.1919191919192}\n",
            "\n",
            "Model with rank: 18\n",
            "Mean validation score: -788.640 (std: 26.607)\n",
            "Parameters: {'alpha': 79.29292929292929}\n",
            "\n",
            "Model with rank: 19\n",
            "Mean validation score: -788.640 (std: 26.607)\n",
            "Parameters: {'alpha': 79.39393939393939}\n",
            "\n",
            "Model with rank: 20\n",
            "Mean validation score: -788.640 (std: 26.606)\n",
            "Parameters: {'alpha': 79.4949494949495}\n",
            "\n",
            "Model with rank: 21\n",
            "Mean validation score: -788.640 (std: 26.606)\n",
            "Parameters: {'alpha': 79.5959595959596}\n",
            "\n",
            "Model with rank: 22\n",
            "Mean validation score: -788.640 (std: 26.614)\n",
            "Parameters: {'alpha': 77.47474747474747}\n",
            "\n",
            "Model with rank: 23\n",
            "Mean validation score: -788.640 (std: 26.606)\n",
            "Parameters: {'alpha': 79.6969696969697}\n",
            "\n",
            "Model with rank: 24\n",
            "Mean validation score: -788.640 (std: 26.605)\n",
            "Parameters: {'alpha': 79.79797979797979}\n",
            "\n",
            "Model with rank: 25\n",
            "Mean validation score: -788.640 (std: 26.614)\n",
            "Parameters: {'alpha': 77.37373737373737}\n",
            "\n",
            "Model with rank: 26\n",
            "Mean validation score: -788.640 (std: 26.605)\n",
            "Parameters: {'alpha': 79.8989898989899}\n",
            "\n",
            "Model with rank: 27\n",
            "Mean validation score: -788.640 (std: 26.614)\n",
            "Parameters: {'alpha': 77.27272727272727}\n",
            "\n",
            "Model with rank: 28\n",
            "Mean validation score: -788.640 (std: 26.615)\n",
            "Parameters: {'alpha': 77.17171717171718}\n",
            "\n",
            "Model with rank: 29\n",
            "Mean validation score: -788.641 (std: 26.605)\n",
            "Parameters: {'alpha': 80.0}\n",
            "\n",
            "Model with rank: 30\n",
            "Mean validation score: -788.641 (std: 26.615)\n",
            "Parameters: {'alpha': 77.07070707070707}\n",
            "\n",
            "Model with rank: 31\n",
            "Mean validation score: -788.641 (std: 26.615)\n",
            "Parameters: {'alpha': 76.96969696969697}\n",
            "\n",
            "Model with rank: 32\n",
            "Mean validation score: -788.641 (std: 26.615)\n",
            "Parameters: {'alpha': 76.86868686868686}\n",
            "\n",
            "Model with rank: 33\n",
            "Mean validation score: -788.641 (std: 26.616)\n",
            "Parameters: {'alpha': 76.76767676767676}\n",
            "\n",
            "Model with rank: 34\n",
            "Mean validation score: -788.641 (std: 26.616)\n",
            "Parameters: {'alpha': 76.66666666666667}\n",
            "\n",
            "Model with rank: 35\n",
            "Mean validation score: -788.641 (std: 26.616)\n",
            "Parameters: {'alpha': 76.56565656565657}\n",
            "\n",
            "Model with rank: 36\n",
            "Mean validation score: -788.641 (std: 26.616)\n",
            "Parameters: {'alpha': 76.46464646464646}\n",
            "\n",
            "Model with rank: 37\n",
            "Mean validation score: -788.641 (std: 26.617)\n",
            "Parameters: {'alpha': 76.36363636363636}\n",
            "\n",
            "Model with rank: 38\n",
            "Mean validation score: -788.641 (std: 26.617)\n",
            "Parameters: {'alpha': 76.26262626262626}\n",
            "\n",
            "Model with rank: 39\n",
            "Mean validation score: -788.641 (std: 26.617)\n",
            "Parameters: {'alpha': 76.16161616161617}\n",
            "\n",
            "Model with rank: 40\n",
            "Mean validation score: -788.641 (std: 26.618)\n",
            "Parameters: {'alpha': 76.06060606060606}\n",
            "\n",
            "Model with rank: 41\n",
            "Mean validation score: -788.641 (std: 26.618)\n",
            "Parameters: {'alpha': 75.95959595959596}\n",
            "\n",
            "Model with rank: 42\n",
            "Mean validation score: -788.641 (std: 26.618)\n",
            "Parameters: {'alpha': 75.85858585858585}\n",
            "\n",
            "Model with rank: 43\n",
            "Mean validation score: -788.641 (std: 26.618)\n",
            "Parameters: {'alpha': 75.75757575757575}\n",
            "\n",
            "Model with rank: 44\n",
            "Mean validation score: -788.641 (std: 26.619)\n",
            "Parameters: {'alpha': 75.65656565656566}\n",
            "\n",
            "Model with rank: 45\n",
            "Mean validation score: -788.641 (std: 26.619)\n",
            "Parameters: {'alpha': 75.55555555555556}\n",
            "\n",
            "Model with rank: 46\n",
            "Mean validation score: -788.642 (std: 26.619)\n",
            "Parameters: {'alpha': 75.45454545454545}\n",
            "\n",
            "Model with rank: 47\n",
            "Mean validation score: -788.642 (std: 26.619)\n",
            "Parameters: {'alpha': 75.35353535353535}\n",
            "\n",
            "Model with rank: 48\n",
            "Mean validation score: -788.642 (std: 26.620)\n",
            "Parameters: {'alpha': 75.25252525252526}\n",
            "\n",
            "Model with rank: 49\n",
            "Mean validation score: -788.642 (std: 26.620)\n",
            "Parameters: {'alpha': 75.15151515151516}\n",
            "\n",
            "Model with rank: 50\n",
            "Mean validation score: -788.642 (std: 26.620)\n",
            "Parameters: {'alpha': 75.05050505050505}\n",
            "\n",
            "Model with rank: 51\n",
            "Mean validation score: -788.642 (std: 26.621)\n",
            "Parameters: {'alpha': 74.94949494949495}\n",
            "\n",
            "Model with rank: 52\n",
            "Mean validation score: -788.642 (std: 26.621)\n",
            "Parameters: {'alpha': 74.84848484848484}\n",
            "\n",
            "Model with rank: 53\n",
            "Mean validation score: -788.642 (std: 26.621)\n",
            "Parameters: {'alpha': 74.74747474747474}\n",
            "\n",
            "Model with rank: 54\n",
            "Mean validation score: -788.642 (std: 26.621)\n",
            "Parameters: {'alpha': 74.64646464646465}\n",
            "\n",
            "Model with rank: 55\n",
            "Mean validation score: -788.642 (std: 26.622)\n",
            "Parameters: {'alpha': 74.54545454545455}\n",
            "\n",
            "Model with rank: 56\n",
            "Mean validation score: -788.643 (std: 26.622)\n",
            "Parameters: {'alpha': 74.44444444444444}\n",
            "\n",
            "Model with rank: 57\n",
            "Mean validation score: -788.643 (std: 26.622)\n",
            "Parameters: {'alpha': 74.34343434343434}\n",
            "\n",
            "Model with rank: 58\n",
            "Mean validation score: -788.643 (std: 26.623)\n",
            "Parameters: {'alpha': 74.24242424242425}\n",
            "\n",
            "Model with rank: 59\n",
            "Mean validation score: -788.643 (std: 26.623)\n",
            "Parameters: {'alpha': 74.14141414141415}\n",
            "\n",
            "Model with rank: 60\n",
            "Mean validation score: -788.643 (std: 26.623)\n",
            "Parameters: {'alpha': 74.04040404040404}\n",
            "\n",
            "Model with rank: 61\n",
            "Mean validation score: -788.643 (std: 26.623)\n",
            "Parameters: {'alpha': 73.93939393939394}\n",
            "\n",
            "Model with rank: 62\n",
            "Mean validation score: -788.643 (std: 26.624)\n",
            "Parameters: {'alpha': 73.83838383838383}\n",
            "\n",
            "Model with rank: 63\n",
            "Mean validation score: -788.644 (std: 26.624)\n",
            "Parameters: {'alpha': 73.73737373737374}\n",
            "\n",
            "Model with rank: 64\n",
            "Mean validation score: -788.644 (std: 26.624)\n",
            "Parameters: {'alpha': 73.63636363636364}\n",
            "\n",
            "Model with rank: 65\n",
            "Mean validation score: -788.644 (std: 26.624)\n",
            "Parameters: {'alpha': 73.53535353535354}\n",
            "\n",
            "Model with rank: 66\n",
            "Mean validation score: -788.644 (std: 26.624)\n",
            "Parameters: {'alpha': 73.43434343434343}\n",
            "\n",
            "Model with rank: 67\n",
            "Mean validation score: -788.644 (std: 26.625)\n",
            "Parameters: {'alpha': 73.33333333333333}\n",
            "\n",
            "Model with rank: 68\n",
            "Mean validation score: -788.645 (std: 26.625)\n",
            "Parameters: {'alpha': 73.23232323232324}\n",
            "\n",
            "Model with rank: 69\n",
            "Mean validation score: -788.645 (std: 26.625)\n",
            "Parameters: {'alpha': 73.13131313131314}\n",
            "\n",
            "Model with rank: 70\n",
            "Mean validation score: -788.645 (std: 26.625)\n",
            "Parameters: {'alpha': 73.03030303030303}\n",
            "\n",
            "Model with rank: 71\n",
            "Mean validation score: -788.645 (std: 26.625)\n",
            "Parameters: {'alpha': 72.92929292929293}\n",
            "\n",
            "Model with rank: 72\n",
            "Mean validation score: -788.646 (std: 26.626)\n",
            "Parameters: {'alpha': 72.82828282828282}\n",
            "\n",
            "Model with rank: 73\n",
            "Mean validation score: -788.646 (std: 26.626)\n",
            "Parameters: {'alpha': 72.72727272727273}\n",
            "\n",
            "Model with rank: 74\n",
            "Mean validation score: -788.646 (std: 26.626)\n",
            "Parameters: {'alpha': 72.62626262626263}\n",
            "\n",
            "Model with rank: 75\n",
            "Mean validation score: -788.646 (std: 26.626)\n",
            "Parameters: {'alpha': 72.52525252525253}\n",
            "\n",
            "Model with rank: 76\n",
            "Mean validation score: -788.647 (std: 26.626)\n",
            "Parameters: {'alpha': 72.42424242424242}\n",
            "\n",
            "Model with rank: 77\n",
            "Mean validation score: -788.647 (std: 26.627)\n",
            "Parameters: {'alpha': 72.32323232323232}\n",
            "\n",
            "Model with rank: 78\n",
            "Mean validation score: -788.647 (std: 26.627)\n",
            "Parameters: {'alpha': 72.22222222222223}\n",
            "\n",
            "Model with rank: 79\n",
            "Mean validation score: -788.647 (std: 26.627)\n",
            "Parameters: {'alpha': 72.12121212121212}\n",
            "\n",
            "Model with rank: 80\n",
            "Mean validation score: -788.648 (std: 26.627)\n",
            "Parameters: {'alpha': 72.02020202020202}\n",
            "\n",
            "Model with rank: 81\n",
            "Mean validation score: -788.648 (std: 26.627)\n",
            "Parameters: {'alpha': 71.91919191919192}\n",
            "\n",
            "Model with rank: 82\n",
            "Mean validation score: -788.648 (std: 26.628)\n",
            "Parameters: {'alpha': 71.81818181818181}\n",
            "\n",
            "Model with rank: 83\n",
            "Mean validation score: -788.648 (std: 26.628)\n",
            "Parameters: {'alpha': 71.71717171717172}\n",
            "\n",
            "Model with rank: 84\n",
            "Mean validation score: -788.649 (std: 26.628)\n",
            "Parameters: {'alpha': 71.61616161616162}\n",
            "\n",
            "Model with rank: 85\n",
            "Mean validation score: -788.649 (std: 26.628)\n",
            "Parameters: {'alpha': 71.51515151515152}\n",
            "\n",
            "Model with rank: 86\n",
            "Mean validation score: -788.649 (std: 26.628)\n",
            "Parameters: {'alpha': 71.41414141414141}\n",
            "\n",
            "Model with rank: 87\n",
            "Mean validation score: -788.649 (std: 26.629)\n",
            "Parameters: {'alpha': 71.31313131313131}\n",
            "\n",
            "Model with rank: 88\n",
            "Mean validation score: -788.650 (std: 26.629)\n",
            "Parameters: {'alpha': 71.21212121212122}\n",
            "\n",
            "Model with rank: 89\n",
            "Mean validation score: -788.650 (std: 26.629)\n",
            "Parameters: {'alpha': 71.11111111111111}\n",
            "\n",
            "Model with rank: 90\n",
            "Mean validation score: -788.650 (std: 26.629)\n",
            "Parameters: {'alpha': 71.01010101010101}\n",
            "\n",
            "Model with rank: 91\n",
            "Mean validation score: -788.650 (std: 26.629)\n",
            "Parameters: {'alpha': 70.9090909090909}\n",
            "\n",
            "Model with rank: 92\n",
            "Mean validation score: -788.651 (std: 26.630)\n",
            "Parameters: {'alpha': 70.8080808080808}\n",
            "\n",
            "Model with rank: 93\n",
            "Mean validation score: -788.651 (std: 26.630)\n",
            "Parameters: {'alpha': 70.70707070707071}\n",
            "\n",
            "Model with rank: 94\n",
            "Mean validation score: -788.651 (std: 26.630)\n",
            "Parameters: {'alpha': 70.60606060606061}\n",
            "\n",
            "Model with rank: 95\n",
            "Mean validation score: -788.651 (std: 26.630)\n",
            "Parameters: {'alpha': 70.5050505050505}\n",
            "\n",
            "Model with rank: 96\n",
            "Mean validation score: -788.652 (std: 26.630)\n",
            "Parameters: {'alpha': 70.4040404040404}\n",
            "\n",
            "Model with rank: 97\n",
            "Mean validation score: -788.652 (std: 26.631)\n",
            "Parameters: {'alpha': 70.3030303030303}\n",
            "\n",
            "Model with rank: 98\n",
            "Mean validation score: -788.652 (std: 26.631)\n",
            "Parameters: {'alpha': 70.20202020202021}\n",
            "\n",
            "Model with rank: 99\n",
            "Mean validation score: -788.653 (std: 26.631)\n",
            "Parameters: {'alpha': 70.1010101010101}\n",
            "\n",
            "Model with rank: 100\n",
            "Mean validation score: -788.653 (std: 26.631)\n",
            "Parameters: {'alpha': 70.0}\n",
            "\n"
          ],
          "name": "stdout"
        }
      ]
    },
    {
      "cell_type": "markdown",
      "metadata": {
        "id": "wRuBiUKbd2XY",
        "colab_type": "text"
      },
      "source": [
        "**Lasso**"
      ]
    },
    {
      "cell_type": "code",
      "metadata": {
        "id": "6ZuKs6skywXF",
        "colab_type": "code",
        "colab": {}
      },
      "source": [
        "lambdas=np.linspace(5,10,100)\n",
        "model=Lasso(fit_intercept=True)\n",
        "params={'alpha':lambdas}"
      ],
      "execution_count": 0,
      "outputs": []
    },
    {
      "cell_type": "code",
      "metadata": {
        "id": "H-vo88uH6aa_",
        "colab_type": "code",
        "colab": {}
      },
      "source": [
        "grid_search=GridSearchCV(model,param_grid=params,cv=10,scoring='neg_mean_absolute_error')"
      ],
      "execution_count": 0,
      "outputs": []
    },
    {
      "cell_type": "code",
      "metadata": {
        "id": "iBe3MdOO6bGv",
        "colab_type": "code",
        "outputId": "062a841e-0746-4347-d48f-61c6819c7004",
        "colab": {
          "base_uri": "https://localhost:8080/",
          "height": 310
        }
      },
      "source": [
        "grid_search.fit(X_train,Y_train)"
      ],
      "execution_count": 0,
      "outputs": [
        {
          "output_type": "execute_result",
          "data": {
            "text/plain": [
              "GridSearchCV(cv=10, error_score='raise-deprecating',\n",
              "             estimator=Lasso(alpha=1.0, copy_X=True, fit_intercept=True,\n",
              "                             max_iter=1000, normalize=False, positive=False,\n",
              "                             precompute=False, random_state=None,\n",
              "                             selection='cyclic', tol=0.0001, warm_start=False),\n",
              "             iid='warn', n_jobs=None,\n",
              "             param_grid={'alpha': array([ 5.        ,  5.05050505,  5.1010101 ,  5.15151515,  5.2020202 ,\n",
              "        5.25252525,  5.303030...\n",
              "        8.78787879,  8.83838384,  8.88888889,  8.93939394,  8.98989899,\n",
              "        9.04040404,  9.09090909,  9.14141414,  9.19191919,  9.24242424,\n",
              "        9.29292929,  9.34343434,  9.39393939,  9.44444444,  9.49494949,\n",
              "        9.54545455,  9.5959596 ,  9.64646465,  9.6969697 ,  9.74747475,\n",
              "        9.7979798 ,  9.84848485,  9.8989899 ,  9.94949495, 10.        ])},\n",
              "             pre_dispatch='2*n_jobs', refit=True, return_train_score=False,\n",
              "             scoring='neg_mean_absolute_error', verbose=0)"
            ]
          },
          "metadata": {
            "tags": []
          },
          "execution_count": 37
        }
      ]
    },
    {
      "cell_type": "code",
      "metadata": {
        "id": "MlT8hKqm6dM4",
        "colab_type": "code",
        "outputId": "3492fa29-0c92-4313-adbf-e0644eea498b",
        "colab": {
          "base_uri": "https://localhost:8080/",
          "height": 72
        }
      },
      "source": [
        "grid_search.best_estimator_"
      ],
      "execution_count": 0,
      "outputs": [
        {
          "output_type": "execute_result",
          "data": {
            "text/plain": [
              "Lasso(alpha=5.909090909090909, copy_X=True, fit_intercept=True, max_iter=1000,\n",
              "      normalize=False, positive=False, precompute=False, random_state=None,\n",
              "      selection='cyclic', tol=0.0001, warm_start=False)"
            ]
          },
          "metadata": {
            "tags": []
          },
          "execution_count": 38
        }
      ]
    },
    {
      "cell_type": "code",
      "metadata": {
        "colab_type": "code",
        "outputId": "2dfe599c-bf30-4de8-e940-895d9a5293fd",
        "id": "Lz_S1qjuGh1A",
        "colab": {
          "base_uri": "https://localhost:8080/",
          "height": 35
        }
      },
      "source": [
        "reg = grid_search.best_estimator_\n",
        "accuracy =  reg.score(X_test, Y_test)\n",
        "print(accuracy*100)"
      ],
      "execution_count": 0,
      "outputs": [
        {
          "output_type": "stream",
          "text": [
            "51.25307501087821\n"
          ],
          "name": "stdout"
        }
      ]
    },
    {
      "cell_type": "code",
      "metadata": {
        "id": "uFR_2ikh6nSu",
        "colab_type": "code",
        "outputId": "70bb564a-a660-431b-ada3-62f4ff98c5b5",
        "colab": {
          "base_uri": "https://localhost:8080/",
          "height": 381
        }
      },
      "source": [
        "report(grid_search.cv_results_,5)"
      ],
      "execution_count": 0,
      "outputs": [
        {
          "output_type": "stream",
          "text": [
            "Model with rank: 1\n",
            "Mean validation score: -786.455 (std: 26.704)\n",
            "Parameters: {'alpha': 5.909090909090909}\n",
            "\n",
            "Model with rank: 2\n",
            "Mean validation score: -786.455 (std: 26.706)\n",
            "Parameters: {'alpha': 5.959595959595959}\n",
            "\n",
            "Model with rank: 3\n",
            "Mean validation score: -786.456 (std: 26.707)\n",
            "Parameters: {'alpha': 6.01010101010101}\n",
            "\n",
            "Model with rank: 4\n",
            "Mean validation score: -786.456 (std: 26.702)\n",
            "Parameters: {'alpha': 5.858585858585858}\n",
            "\n",
            "Model with rank: 5\n",
            "Mean validation score: -786.456 (std: 26.709)\n",
            "Parameters: {'alpha': 6.0606060606060606}\n",
            "\n"
          ],
          "name": "stdout"
        }
      ]
    },
    {
      "cell_type": "markdown",
      "metadata": {
        "id": "oL8fb-VKd6KX",
        "colab_type": "text"
      },
      "source": [
        "**Decision Tree**"
      ]
    },
    {
      "cell_type": "code",
      "metadata": {
        "id": "5VWPePab7GtU",
        "colab_type": "code",
        "colab": {}
      },
      "source": [
        "from sklearn.tree import DecisionTreeRegressor\n",
        "from sklearn.model_selection import RandomizedSearchCV"
      ],
      "execution_count": 0,
      "outputs": []
    },
    {
      "cell_type": "code",
      "metadata": {
        "id": "aBDqxSLvcJ-L",
        "colab_type": "code",
        "colab": {}
      },
      "source": [
        "model = DecisionTreeRegressor()"
      ],
      "execution_count": 0,
      "outputs": []
    },
    {
      "cell_type": "code",
      "metadata": {
        "id": "M7MOyGJuctkG",
        "colab_type": "code",
        "outputId": "7c444134-5f9d-4f74-c79d-1e6e8afc50c7",
        "colab": {
          "base_uri": "https://localhost:8080/",
          "height": 108
        }
      },
      "source": [
        "model.fit(X_train, Y_train)"
      ],
      "execution_count": 0,
      "outputs": [
        {
          "output_type": "execute_result",
          "data": {
            "text/plain": [
              "DecisionTreeRegressor(criterion='mse', max_depth=None, max_features=None,\n",
              "                      max_leaf_nodes=None, min_impurity_decrease=0.0,\n",
              "                      min_impurity_split=None, min_samples_leaf=1,\n",
              "                      min_samples_split=2, min_weight_fraction_leaf=0.0,\n",
              "                      presort=False, random_state=None, splitter='best')"
            ]
          },
          "metadata": {
            "tags": []
          },
          "execution_count": 59
        }
      ]
    },
    {
      "cell_type": "code",
      "metadata": {
        "id": "W6dNardxes7j",
        "colab_type": "code",
        "outputId": "185841ff-1514-4afa-c174-608f93cacc32",
        "colab": {
          "base_uri": "https://localhost:8080/",
          "height": 763
        }
      },
      "source": [
        "for i in zip(model.feature_importances_, X_train.columns):\n",
        "    print(i)"
      ],
      "execution_count": 0,
      "outputs": [
        {
          "output_type": "stream",
          "text": [
            "(0.07948002134667383, 'Counterfeit_Weight')\n",
            "(0.020914332948209068, 'Active_Since')\n",
            "(0.5127173087298763, 'Medicine_MRP')\n",
            "(0.11466469108656692, 'Availability_rating')\n",
            "(0.007988392435768243, 'Area_City_Type')\n",
            "(0.0018649968694529379, 'DistArea_ID_Area046')\n",
            "(0.0, 'DistArea_ID_Area027')\n",
            "(0.0, 'DistArea_ID_Area019')\n",
            "(0.008296402467223263, 'DistArea_ID_Area045')\n",
            "(0.0002363565019732895, 'DistArea_ID_Area018')\n",
            "(0.005145720776732557, 'DistArea_ID_Area013')\n",
            "(0.0042768776746856035, 'DistArea_ID_Area017')\n",
            "(0.02313351138948585, 'DistArea_ID_Area010')\n",
            "(0.0070010448385844385, 'DistArea_ID_Area035')\n",
            "(0.004361309727880983, 'DistArea_ID_Area049')\n",
            "(0.0054436692504110625, 'Medicine_Type_Antimalarial')\n",
            "(0.003071138951130816, 'Medicine_Type_Mstablizers')\n",
            "(0.004858776712709329, 'Medicine_Type_Cardiac')\n",
            "(0.005306790944934589, 'Medicine_Type_OralContraceptives')\n",
            "(0.009456511646464506, 'Medicine_Type_Hreplacements')\n",
            "(0.006553549302798812, 'Medicine_Type_Antiseptics')\n",
            "(0.002852244169748996, 'Medicine_Type_Statins')\n",
            "(0.0032157478771601957, 'Medicine_Type_Analgesics')\n",
            "(0.0012846461026917045, 'Medicine_Type_MuscleRelaxants')\n",
            "(0.005364570040113329, 'Medicine_Type_Antibiotics')\n",
            "(0.0024426511038172305, 'Medicine_Type_Antifungal')\n",
            "(0.000992277060795392, 'Medicine_Type_Antiviral')\n",
            "(0.0022166503118440954, 'Medicine_Type_Tranquilizers')\n",
            "(0.0024251376544147454, 'Medicine_Type_Antacids')\n",
            "(0.005027515761502752, 'Medicine_Type_Antipyretics')\n",
            "(0.002273515884062736, 'Medicine_Type_Stimulants')\n",
            "(0.004049374030604792, 'SidEffect_Level_critical')\n",
            "(0.007067485882612336, 'SidEffect_Level_mild')\n",
            "(0.0008238474534591148, 'Area_Type_DownTown')\n",
            "(0.0, 'Area_Type_CityLimits')\n",
            "(0.11452741251673257, 'Area_Type_MidTownResidential')\n",
            "(0.003253692096218664, 'Area_Type_Industrial')\n",
            "(0.00548640019476261, 'Area_dist_level_Small')\n",
            "(0.005842502452713909, 'Area_dist_level_Medium')\n",
            "(0.003295619782069137, 'Area_dist_level_Unknown')\n",
            "(0.002787306023113166, 'Area_dist_level_High')\n"
          ],
          "name": "stdout"
        }
      ]
    },
    {
      "cell_type": "code",
      "metadata": {
        "id": "UB1bmpz4c02z",
        "colab_type": "code",
        "colab": {}
      },
      "source": [
        " pred = model.predict(X_test)"
      ],
      "execution_count": 0,
      "outputs": []
    },
    {
      "cell_type": "code",
      "metadata": {
        "id": "GFQ8Vm9qdUNa",
        "colab_type": "code",
        "outputId": "d78a7d5f-69ed-4157-b7b7-2e2ae1db3537",
        "colab": {
          "base_uri": "https://localhost:8080/",
          "height": 35
        }
      },
      "source": [
        "mean_absolute_error(Y_test,pred)"
      ],
      "execution_count": 0,
      "outputs": [
        {
          "output_type": "execute_result",
          "data": {
            "text/plain": [
              "1043.0901987621573"
            ]
          },
          "metadata": {
            "tags": []
          },
          "execution_count": 45
        }
      ]
    },
    {
      "cell_type": "code",
      "metadata": {
        "id": "ZXcNhhT2deyd",
        "colab_type": "code",
        "colab": {}
      },
      "source": [
        "params = {\n",
        "    'max_depth' : [10, 20, 30, 40, 50],\n",
        "    'min_samples_leaf':[70, 80, 90, 100],\n",
        "    'min_samples_split':[2, 5, 10, 20]\n",
        "}"
      ],
      "execution_count": 0,
      "outputs": []
    },
    {
      "cell_type": "code",
      "metadata": {
        "id": "hA9Ij1qZe4Th",
        "colab_type": "code",
        "colab": {}
      },
      "source": [
        "random_search = RandomizedSearchCV(model,cv = 10, param_distributions=params,\n",
        "                                 scoring='neg_mean_absolute_error',\n",
        "                                 n_iter=10)"
      ],
      "execution_count": 0,
      "outputs": []
    },
    {
      "cell_type": "code",
      "metadata": {
        "id": "5xV-Ep-AfQdO",
        "colab_type": "code",
        "outputId": "671a2fe2-aaf1-460b-acc6-26f7a155653b",
        "colab": {
          "base_uri": "https://localhost:8080/",
          "height": 381
        }
      },
      "source": [
        "random_search.fit(X_train, Y_train)"
      ],
      "execution_count": 0,
      "outputs": [
        {
          "output_type": "execute_result",
          "data": {
            "text/plain": [
              "RandomizedSearchCV(cv=10, error_score='raise-deprecating',\n",
              "                   estimator=DecisionTreeRegressor(criterion='mse',\n",
              "                                                   max_depth=None,\n",
              "                                                   max_features=None,\n",
              "                                                   max_leaf_nodes=None,\n",
              "                                                   min_impurity_decrease=0.0,\n",
              "                                                   min_impurity_split=None,\n",
              "                                                   min_samples_leaf=1,\n",
              "                                                   min_samples_split=2,\n",
              "                                                   min_weight_fraction_leaf=0.0,\n",
              "                                                   presort=False,\n",
              "                                                   random_state=None,\n",
              "                                                   splitter='best'),\n",
              "                   iid='warn', n_iter=10, n_jobs=None,\n",
              "                   param_distributions={'max_depth': [10, 20, 30, 40, 50],\n",
              "                                        'min_samples_leaf': [70, 80, 90, 100],\n",
              "                                        'min_samples_split': [2, 5, 10, 20]},\n",
              "                   pre_dispatch='2*n_jobs', random_state=None, refit=True,\n",
              "                   return_train_score=False, scoring='neg_mean_absolute_error',\n",
              "                   verbose=0)"
            ]
          },
          "metadata": {
            "tags": []
          },
          "execution_count": 48
        }
      ]
    },
    {
      "cell_type": "code",
      "metadata": {
        "id": "0sv7OF9DfXiD",
        "colab_type": "code",
        "outputId": "db860db4-f73b-48e6-def0-7d38436c4cf1",
        "colab": {
          "base_uri": "https://localhost:8080/",
          "height": 108
        }
      },
      "source": [
        "random_search.best_estimator_"
      ],
      "execution_count": 0,
      "outputs": [
        {
          "output_type": "execute_result",
          "data": {
            "text/plain": [
              "DecisionTreeRegressor(criterion='mse', max_depth=40, max_features=None,\n",
              "                      max_leaf_nodes=None, min_impurity_decrease=0.0,\n",
              "                      min_impurity_split=None, min_samples_leaf=90,\n",
              "                      min_samples_split=10, min_weight_fraction_leaf=0.0,\n",
              "                      presort=False, random_state=None, splitter='best')"
            ]
          },
          "metadata": {
            "tags": []
          },
          "execution_count": 49
        }
      ]
    },
    {
      "cell_type": "code",
      "metadata": {
        "colab_type": "code",
        "outputId": "8ef09e99-a9fe-4939-a306-d3dbd72dc923",
        "id": "NAzrqeHwG0QZ",
        "colab": {
          "base_uri": "https://localhost:8080/",
          "height": 35
        }
      },
      "source": [
        "reg = random_search.best_estimator_\n",
        "accuracy =  reg.score(X_test, Y_test)\n",
        "print(accuracy*100)"
      ],
      "execution_count": 0,
      "outputs": [
        {
          "output_type": "stream",
          "text": [
            "51.94256685623437\n"
          ],
          "name": "stdout"
        }
      ]
    },
    {
      "cell_type": "code",
      "metadata": {
        "id": "1-Cn-PZ1eCW9",
        "colab_type": "code",
        "outputId": "5091e6aa-c7a9-4622-cca6-0de55c23e76d",
        "colab": {
          "base_uri": "https://localhost:8080/",
          "height": 181
        }
      },
      "source": [
        "reg.feature_importances_"
      ],
      "execution_count": 0,
      "outputs": [
        {
          "output_type": "execute_result",
          "data": {
            "text/plain": [
              "array([0.00390019, 0.00243593, 0.72432288, 0.00700076, 0.00298119,\n",
              "       0.        , 0.        , 0.        , 0.        , 0.        ,\n",
              "       0.        , 0.        , 0.04219478, 0.00449376, 0.        ,\n",
              "       0.        , 0.        , 0.        , 0.        , 0.        ,\n",
              "       0.        , 0.        , 0.        , 0.        , 0.        ,\n",
              "       0.        , 0.        , 0.        , 0.        , 0.        ,\n",
              "       0.        , 0.        , 0.        , 0.00763982, 0.        ,\n",
              "       0.2050307 , 0.        , 0.        , 0.        , 0.        ,\n",
              "       0.        ])"
            ]
          },
          "metadata": {
            "tags": []
          },
          "execution_count": 51
        }
      ]
    },
    {
      "cell_type": "code",
      "metadata": {
        "id": "nYlWWSZXgxMl",
        "colab_type": "code",
        "outputId": "15bafc8b-713d-4555-b1a3-40a7acd68b37",
        "colab": {
          "base_uri": "https://localhost:8080/",
          "height": 454
        }
      },
      "source": [
        "report(random_search.cv_results_,5)"
      ],
      "execution_count": 0,
      "outputs": [
        {
          "output_type": "stream",
          "text": [
            "Model with rank: 1\n",
            "Mean validation score: -763.845 (std: 27.636)\n",
            "Parameters: {'min_samples_split': 10, 'min_samples_leaf': 90, 'max_depth': 40}\n",
            "\n",
            "Model with rank: 2\n",
            "Mean validation score: -763.845 (std: 27.636)\n",
            "Parameters: {'min_samples_split': 10, 'min_samples_leaf': 90, 'max_depth': 30}\n",
            "\n",
            "Model with rank: 3\n",
            "Mean validation score: -767.215 (std: 29.548)\n",
            "Parameters: {'min_samples_split': 20, 'min_samples_leaf': 80, 'max_depth': 50}\n",
            "\n",
            "Model with rank: 3\n",
            "Mean validation score: -767.215 (std: 29.548)\n",
            "Parameters: {'min_samples_split': 10, 'min_samples_leaf': 80, 'max_depth': 20}\n",
            "\n",
            "Model with rank: 3\n",
            "Mean validation score: -767.215 (std: 29.548)\n",
            "Parameters: {'min_samples_split': 5, 'min_samples_leaf': 80, 'max_depth': 40}\n",
            "\n",
            "Model with rank: 3\n",
            "Mean validation score: -767.215 (std: 29.548)\n",
            "Parameters: {'min_samples_split': 5, 'min_samples_leaf': 80, 'max_depth': 20}\n",
            "\n"
          ],
          "name": "stdout"
        }
      ]
    },
    {
      "cell_type": "markdown",
      "metadata": {
        "id": "da1B6os2d9z1",
        "colab_type": "text"
      },
      "source": [
        "**Random Forest**"
      ]
    },
    {
      "cell_type": "code",
      "metadata": {
        "id": "1isDQqnzhoNO",
        "colab_type": "code",
        "colab": {}
      },
      "source": [
        "from sklearn.ensemble import RandomForestRegressor\n",
        "\n",
        "param_dist = {\"n_estimators\":[100,200, 300, 500, 600, 700],\n",
        "              \"max_features\": [5,35, 41],\n",
        "              \"bootstrap\": [ False], \n",
        "                'criterion':['mse'],\n",
        "                'max_depth':[None,5,30],\n",
        "                'min_samples_leaf':[2, 5,20], \n",
        "                'min_samples_split':[2,10]\n",
        "                  }\n",
        "\n",
        "model = RandomForestRegressor()"
      ],
      "execution_count": 0,
      "outputs": []
    },
    {
      "cell_type": "code",
      "metadata": {
        "id": "oe6K98wxr3PB",
        "colab_type": "code",
        "outputId": "24b1d275-a850-420b-b131-d461a570521d",
        "colab": {
          "base_uri": "https://localhost:8080/",
          "height": 545
        }
      },
      "source": [
        "n_iter_search = 2\n",
        "\n",
        "random_search = RandomizedSearchCV(model, param_distributions=param_dist,\n",
        "                                   n_iter=n_iter_search,scoring='neg_mean_absolute_error',cv=5, verbose=1)\n",
        "random_search.fit(X_train, Y_train)"
      ],
      "execution_count": 0,
      "outputs": [
        {
          "output_type": "stream",
          "text": [
            "Fitting 5 folds for each of 2 candidates, totalling 10 fits\n"
          ],
          "name": "stdout"
        },
        {
          "output_type": "stream",
          "text": [
            "[Parallel(n_jobs=1)]: Using backend SequentialBackend with 1 concurrent workers.\n",
            "[Parallel(n_jobs=1)]: Done  10 out of  10 | elapsed:   35.0s finished\n"
          ],
          "name": "stderr"
        },
        {
          "output_type": "execute_result",
          "data": {
            "text/plain": [
              "RandomizedSearchCV(cv=5, error_score='raise-deprecating',\n",
              "                   estimator=RandomForestRegressor(bootstrap=True,\n",
              "                                                   criterion='mse',\n",
              "                                                   max_depth=None,\n",
              "                                                   max_features='auto',\n",
              "                                                   max_leaf_nodes=None,\n",
              "                                                   min_impurity_decrease=0.0,\n",
              "                                                   min_impurity_split=None,\n",
              "                                                   min_samples_leaf=1,\n",
              "                                                   min_samples_split=2,\n",
              "                                                   min_weight_fraction_leaf=0.0,\n",
              "                                                   n_estimators='warn',\n",
              "                                                   n_jobs=None, oob_score=False,\n",
              "                                                   random_sta...\n",
              "                   iid='warn', n_iter=2, n_jobs=None,\n",
              "                   param_distributions={'bootstrap': [False],\n",
              "                                        'criterion': ['mse'],\n",
              "                                        'max_depth': [None, 5, 30],\n",
              "                                        'max_features': [5, 35, 41],\n",
              "                                        'min_samples_leaf': [2, 5, 20],\n",
              "                                        'min_samples_split': [2, 10],\n",
              "                                        'n_estimators': [100, 200, 300, 500,\n",
              "                                                         600, 700]},\n",
              "                   pre_dispatch='2*n_jobs', random_state=None, refit=True,\n",
              "                   return_train_score=False, scoring='neg_mean_absolute_error',\n",
              "                   verbose=1)"
            ]
          },
          "metadata": {
            "tags": []
          },
          "execution_count": 54
        }
      ]
    },
    {
      "cell_type": "code",
      "metadata": {
        "id": "ipqDaSXMsnuI",
        "colab_type": "code",
        "outputId": "f1a6b0ba-9f4a-4c55-ad9d-5cc01e46eba5",
        "colab": {
          "base_uri": "https://localhost:8080/",
          "height": 145
        }
      },
      "source": [
        "random_search.best_estimator_"
      ],
      "execution_count": 0,
      "outputs": [
        {
          "output_type": "execute_result",
          "data": {
            "text/plain": [
              "RandomForestRegressor(bootstrap=False, criterion='mse', max_depth=None,\n",
              "                      max_features=35, max_leaf_nodes=None,\n",
              "                      min_impurity_decrease=0.0, min_impurity_split=None,\n",
              "                      min_samples_leaf=5, min_samples_split=10,\n",
              "                      min_weight_fraction_leaf=0.0, n_estimators=300,\n",
              "                      n_jobs=None, oob_score=False, random_state=None,\n",
              "                      verbose=0, warm_start=False)"
            ]
          },
          "metadata": {
            "tags": []
          },
          "execution_count": 55
        }
      ]
    },
    {
      "cell_type": "code",
      "metadata": {
        "colab_type": "code",
        "outputId": "4ed84cc2-2528-45fb-f0b4-2376e37cbb8e",
        "id": "3GlnRdWYHF33",
        "colab": {
          "base_uri": "https://localhost:8080/",
          "height": 35
        }
      },
      "source": [
        "reg = random_search.best_estimator_\n",
        "accuracy =  reg.score(X_test, Y_test)\n",
        "print(accuracy*100)"
      ],
      "execution_count": 0,
      "outputs": [
        {
          "output_type": "stream",
          "text": [
            "52.71032288201217\n"
          ],
          "name": "stdout"
        }
      ]
    },
    {
      "cell_type": "code",
      "metadata": {
        "id": "99ytf5hCtEJI",
        "colab_type": "code",
        "outputId": "9e3aa775-6bec-4b04-e15f-e339ad44fd26",
        "colab": {
          "base_uri": "https://localhost:8080/",
          "height": 183
        }
      },
      "source": [
        "report(random_search.cv_results_,5)"
      ],
      "execution_count": 0,
      "outputs": [
        {
          "output_type": "stream",
          "text": [
            "Model with rank: 1\n",
            "Mean validation score: -753.236 (std: 22.976)\n",
            "Parameters: {'n_estimators': 600, 'min_samples_split': 2, 'min_samples_leaf': 5, 'max_features': 35, 'max_depth': 5, 'criterion': 'mse', 'bootstrap': False}\n",
            "\n",
            "Model with rank: 2\n",
            "Mean validation score: -756.184 (std: 23.897)\n",
            "Parameters: {'n_estimators': 600, 'min_samples_split': 10, 'min_samples_leaf': 20, 'max_features': 41, 'max_depth': 5, 'criterion': 'mse', 'bootstrap': False}\n",
            "\n"
          ],
          "name": "stdout"
        }
      ]
    },
    {
      "cell_type": "markdown",
      "metadata": {
        "id": "HtEdK_Wz0j8M",
        "colab_type": "text"
      },
      "source": [
        "**Boosting**"
      ]
    },
    {
      "cell_type": "code",
      "metadata": {
        "id": "FToLQZdptJYg",
        "colab_type": "code",
        "outputId": "5f300d6c-264b-4a5e-9014-4430911a2ea8",
        "colab": {
          "base_uri": "https://localhost:8080/",
          "height": 92
        }
      },
      "source": [
        "!pip install xgboost"
      ],
      "execution_count": 0,
      "outputs": [
        {
          "output_type": "stream",
          "text": [
            "Requirement already satisfied: xgboost in /usr/local/lib/python3.6/dist-packages (0.90)\n",
            "Requirement already satisfied: numpy in /usr/local/lib/python3.6/dist-packages (from xgboost) (1.16.4)\n",
            "Requirement already satisfied: scipy in /usr/local/lib/python3.6/dist-packages (from xgboost) (1.3.0)\n"
          ],
          "name": "stdout"
        }
      ]
    },
    {
      "cell_type": "code",
      "metadata": {
        "id": "zaESKYygz8eJ",
        "colab_type": "code",
        "colab": {}
      },
      "source": [
        "from sklearn.ensemble import GradientBoostingRegressor"
      ],
      "execution_count": 0,
      "outputs": []
    },
    {
      "cell_type": "code",
      "metadata": {
        "id": "SpvaK_lp0vEp",
        "colab_type": "code",
        "colab": {}
      },
      "source": [
        "from xgboost.sklearn import XGBRegressor"
      ],
      "execution_count": 0,
      "outputs": []
    },
    {
      "cell_type": "code",
      "metadata": {
        "id": "1grmdXLX02UZ",
        "colab_type": "code",
        "colab": {}
      },
      "source": [
        "gbm_params={'n_estimators':[10,50,100],\n",
        "           'learning_rate': [0.01,0.4,1],\n",
        "            'max_depth':[1,2,3,4,5,6, 7, 8],\n",
        "#             'min_samples_split':[2,5,10,20],\n",
        "#             'min_samples_leaf':[2,5,10,20],\n",
        "            'subsample':[0.1,0.5,0.8,1],\n",
        "            'max_features':[5,10,15,20,30,41]\n",
        "           }\n"
      ],
      "execution_count": 0,
      "outputs": []
    },
    {
      "cell_type": "code",
      "metadata": {
        "id": "u_0CwyyOuulJ",
        "colab_type": "code",
        "colab": {}
      },
      "source": [
        "gbm=GradientBoostingRegressor()"
      ],
      "execution_count": 0,
      "outputs": []
    },
    {
      "cell_type": "code",
      "metadata": {
        "id": "Nh0ySPvA1YXp",
        "colab_type": "code",
        "colab": {}
      },
      "source": [
        "random_search=RandomizedSearchCV(gbm,scoring='neg_mean_absolute_error',param_distributions=gbm_params,\n",
        "                                 cv=5,n_iter=5,\n",
        "                                 n_jobs=-1)"
      ],
      "execution_count": 0,
      "outputs": []
    },
    {
      "cell_type": "code",
      "metadata": {
        "id": "bD6Od1Zw1g0g",
        "colab_type": "code",
        "outputId": "3095a311-e632-42ac-91f5-c30d02e8801d",
        "colab": {
          "base_uri": "https://localhost:8080/",
          "height": 472
        }
      },
      "source": [
        "random_search.fit(X_train, Y_train)"
      ],
      "execution_count": 0,
      "outputs": [
        {
          "output_type": "execute_result",
          "data": {
            "text/plain": [
              "RandomizedSearchCV(cv=5, error_score='raise-deprecating',\n",
              "                   estimator=GradientBoostingRegressor(alpha=0.9,\n",
              "                                                       criterion='friedman_mse',\n",
              "                                                       init=None,\n",
              "                                                       learning_rate=0.1,\n",
              "                                                       loss='ls', max_depth=3,\n",
              "                                                       max_features=None,\n",
              "                                                       max_leaf_nodes=None,\n",
              "                                                       min_impurity_decrease=0.0,\n",
              "                                                       min_impurity_split=None,\n",
              "                                                       min_samples_leaf=1,\n",
              "                                                       min_samples_split=2,\n",
              "                                                       min_weight_fraction_leaf=0.0,\n",
              "                                                       n_estimators=100,...\n",
              "                                                       verbose=0,\n",
              "                                                       warm_start=False),\n",
              "                   iid='warn', n_iter=5, n_jobs=-1,\n",
              "                   param_distributions={'learning_rate': [0.01, 0.4, 1],\n",
              "                                        'max_depth': [1, 2, 3, 4, 5, 6, 7, 8],\n",
              "                                        'max_features': [5, 10, 15, 20, 30, 41],\n",
              "                                        'n_estimators': [10, 50, 100],\n",
              "                                        'subsample': [0.1, 0.5, 0.8, 1]},\n",
              "                   pre_dispatch='2*n_jobs', random_state=None, refit=True,\n",
              "                   return_train_score=False, scoring='neg_mean_absolute_error',\n",
              "                   verbose=0)"
            ]
          },
          "metadata": {
            "tags": []
          },
          "execution_count": 81
        }
      ]
    },
    {
      "cell_type": "code",
      "metadata": {
        "id": "elLkj6Gt1tfh",
        "colab_type": "code",
        "outputId": "f0e4aaca-3241-437f-ed21-904cf85dc994",
        "colab": {
          "base_uri": "https://localhost:8080/",
          "height": 181
        }
      },
      "source": [
        "random_search.best_estimator_"
      ],
      "execution_count": 0,
      "outputs": [
        {
          "output_type": "execute_result",
          "data": {
            "text/plain": [
              "GradientBoostingRegressor(alpha=0.9, criterion='friedman_mse', init=None,\n",
              "                          learning_rate=1, loss='ls', max_depth=1,\n",
              "                          max_features=20, max_leaf_nodes=None,\n",
              "                          min_impurity_decrease=0.0, min_impurity_split=None,\n",
              "                          min_samples_leaf=1, min_samples_split=2,\n",
              "                          min_weight_fraction_leaf=0.0, n_estimators=50,\n",
              "                          n_iter_no_change=None, presort='auto',\n",
              "                          random_state=None, subsample=0.8, tol=0.0001,\n",
              "                          validation_fraction=0.1, verbose=0, warm_start=False)"
            ]
          },
          "metadata": {
            "tags": []
          },
          "execution_count": 82
        }
      ]
    },
    {
      "cell_type": "code",
      "metadata": {
        "colab_type": "code",
        "outputId": "dab77086-8583-4d87-d2cc-2593070cf07e",
        "id": "0653sXvbHrzA",
        "colab": {
          "base_uri": "https://localhost:8080/",
          "height": 35
        }
      },
      "source": [
        "reg = random_search.best_estimator_\n",
        "accuracy =  reg.score(X_test, Y_test)\n",
        "print(accuracy*100)"
      ],
      "execution_count": 0,
      "outputs": [
        {
          "output_type": "stream",
          "text": [
            "49.96360640847194\n"
          ],
          "name": "stdout"
        }
      ]
    },
    {
      "cell_type": "code",
      "metadata": {
        "id": "nznhCpPE1_HN",
        "colab_type": "code",
        "outputId": "c7cad489-eaf9-4665-b476-f33b72df56fb",
        "colab": {
          "base_uri": "https://localhost:8080/",
          "height": 401
        }
      },
      "source": [
        "report(random_search.cv_results_,5)"
      ],
      "execution_count": 0,
      "outputs": [
        {
          "output_type": "stream",
          "text": [
            "Model with rank: 1\n",
            "Mean validation score: -806.790 (std: 18.287)\n",
            "Parameters: {'subsample': 0.8, 'n_estimators': 50, 'max_features': 20, 'max_depth': 1, 'learning_rate': 1}\n",
            "\n",
            "Model with rank: 2\n",
            "Mean validation score: -874.023 (std: 48.184)\n",
            "Parameters: {'subsample': 0.8, 'n_estimators': 10, 'max_features': 15, 'max_depth': 5, 'learning_rate': 1}\n",
            "\n",
            "Model with rank: 3\n",
            "Mean validation score: -897.555 (std: 54.033)\n",
            "Parameters: {'subsample': 0.5, 'n_estimators': 10, 'max_features': 15, 'max_depth': 1, 'learning_rate': 0.4}\n",
            "\n",
            "Model with rank: 4\n",
            "Mean validation score: -1011.881 (std: 20.818)\n",
            "Parameters: {'subsample': 0.8, 'n_estimators': 50, 'max_features': 30, 'max_depth': 2, 'learning_rate': 0.01}\n",
            "\n",
            "Model with rank: 5\n",
            "Mean validation score: -1031.117 (std: 51.789)\n",
            "Parameters: {'subsample': 0.8, 'n_estimators': 10, 'max_features': 41, 'max_depth': 8, 'learning_rate': 1}\n",
            "\n"
          ],
          "name": "stdout"
        }
      ]
    },
    {
      "cell_type": "markdown",
      "metadata": {
        "id": "j1sLu9ad26UX",
        "colab_type": "text"
      },
      "source": [
        "**XGB**"
      ]
    },
    {
      "cell_type": "code",
      "metadata": {
        "id": "dHrSMKz32HKC",
        "colab_type": "code",
        "colab": {}
      },
      "source": [
        "xgb_params = {  \n",
        "                \"learning_rate\":[0.01,0.05,0.1,0.3,0.5],\n",
        "                \"gamma\":[i/10.0 for i in range(0,5)],\n",
        "                \"max_depth\": [2,3,4,5,6,7,8],\n",
        "                \"min_child_weight\":[1,2,5,10],\n",
        "                \"max_delta_step\":[0,1,2,5,10],\n",
        "                \"subsample\":[i/10.0 for i in range(5,10)],\n",
        "                \"colsample_bytree\":[i/10.0 for i in range(5,10)],\n",
        "                \"colsample_bylevel\":[i/10.0 for i in range(5,10)],\n",
        "                \"reg_lambda\":[1e-5, 1e-2, 0.1, 1, 100], \n",
        "                \"reg_alpha\":[1e-5, 1e-2, 0.1, 1, 100],\n",
        "                \"scale_pos_weight\":[1,2,3,4,5,6,7,8,9],\n",
        "                \"n_estimators\":[100,500,700,1000]\n",
        "             }"
      ],
      "execution_count": 0,
      "outputs": []
    },
    {
      "cell_type": "code",
      "metadata": {
        "id": "7v76zmkj5v59",
        "colab_type": "code",
        "colab": {}
      },
      "source": [
        "xgb = XGBRegressor()"
      ],
      "execution_count": 0,
      "outputs": []
    },
    {
      "cell_type": "code",
      "metadata": {
        "id": "ur2b6egp6C_d",
        "colab_type": "code",
        "colab": {}
      },
      "source": [
        "n_iter=10\n",
        "\n",
        "random_search=RandomizedSearchCV(xgb,n_jobs=-1,cv=5,n_iter=n_iter,scoring='neg_mean_absolute_error',\n",
        "                                 param_distributions=xgb_params)"
      ],
      "execution_count": 0,
      "outputs": []
    },
    {
      "cell_type": "code",
      "metadata": {
        "id": "2Wc1nxyA6KjA",
        "colab_type": "code",
        "outputId": "a5548562-4ad0-40e9-8c78-c0c611a95f9c",
        "colab": {
          "base_uri": "https://localhost:8080/",
          "height": 565
        }
      },
      "source": [
        "random_search.fit(X_train,Y_train)"
      ],
      "execution_count": 0,
      "outputs": [
        {
          "output_type": "stream",
          "text": [
            "/usr/local/lib/python3.6/dist-packages/xgboost/core.py:587: FutureWarning: Series.base is deprecated and will be removed in a future version\n",
            "  if getattr(data, 'base', None) is not None and \\\n",
            "/usr/local/lib/python3.6/dist-packages/xgboost/core.py:588: FutureWarning: Series.base is deprecated and will be removed in a future version\n",
            "  data.base is not None and isinstance(data, np.ndarray) \\\n"
          ],
          "name": "stderr"
        },
        {
          "output_type": "stream",
          "text": [
            "[12:34:42] WARNING: /workspace/src/objective/regression_obj.cu:152: reg:linear is now deprecated in favor of reg:squarederror.\n"
          ],
          "name": "stdout"
        },
        {
          "output_type": "execute_result",
          "data": {
            "text/plain": [
              "RandomizedSearchCV(cv=5, error_score='raise-deprecating',\n",
              "                   estimator=XGBRegressor(base_score=0.5, booster='gbtree',\n",
              "                                          colsample_bylevel=1,\n",
              "                                          colsample_bynode=1,\n",
              "                                          colsample_bytree=1, gamma=0,\n",
              "                                          importance_type='gain',\n",
              "                                          learning_rate=0.1, max_delta_step=0,\n",
              "                                          max_depth=3, min_child_weight=1,\n",
              "                                          missing=None, n_estimators=100,\n",
              "                                          n_jobs=1, nthread=None,\n",
              "                                          objective='reg:linear',\n",
              "                                          random_st...\n",
              "                                        'max_depth': [2, 3, 4, 5, 6, 7, 8],\n",
              "                                        'min_child_weight': [1, 2, 5, 10],\n",
              "                                        'n_estimators': [100, 500, 700, 1000],\n",
              "                                        'reg_alpha': [1e-05, 0.01, 0.1, 1, 100],\n",
              "                                        'reg_lambda': [1e-05, 0.01, 0.1, 1,\n",
              "                                                       100],\n",
              "                                        'scale_pos_weight': [1, 2, 3, 4, 5, 6,\n",
              "                                                             7, 8, 9],\n",
              "                                        'subsample': [0.5, 0.6, 0.7, 0.8, 0.9]},\n",
              "                   pre_dispatch='2*n_jobs', random_state=None, refit=True,\n",
              "                   return_train_score=False, scoring='neg_mean_absolute_error',\n",
              "                   verbose=0)"
            ]
          },
          "metadata": {
            "tags": []
          },
          "execution_count": 88
        }
      ]
    },
    {
      "cell_type": "code",
      "metadata": {
        "id": "D4QnqocR6P7M",
        "colab_type": "code",
        "outputId": "f2970778-4331-433d-a47b-915dd25f573f",
        "colab": {
          "base_uri": "https://localhost:8080/",
          "height": 145
        }
      },
      "source": [
        "random_search.best_estimator_"
      ],
      "execution_count": 0,
      "outputs": [
        {
          "output_type": "execute_result",
          "data": {
            "text/plain": [
              "XGBRegressor(base_score=0.5, booster='gbtree', colsample_bylevel=0.8,\n",
              "             colsample_bynode=1, colsample_bytree=0.9, gamma=0.2,\n",
              "             importance_type='gain', learning_rate=0.01, max_delta_step=0,\n",
              "             max_depth=7, min_child_weight=1, missing=None, n_estimators=500,\n",
              "             n_jobs=1, nthread=None, objective='reg:linear', random_state=0,\n",
              "             reg_alpha=0.1, reg_lambda=1e-05, scale_pos_weight=5, seed=None,\n",
              "             silent=None, subsample=0.7, verbosity=1)"
            ]
          },
          "metadata": {
            "tags": []
          },
          "execution_count": 89
        }
      ]
    },
    {
      "cell_type": "code",
      "metadata": {
        "colab_type": "code",
        "outputId": "fb9fda18-a548-4bb2-edfa-d25179797952",
        "id": "IKUJVFfCHzpw",
        "colab": {
          "base_uri": "https://localhost:8080/",
          "height": 35
        }
      },
      "source": [
        "reg = random_search.best_estimator_\n",
        "accuracy =  reg.score(X_test, Y_test)\n",
        "print(accuracy*100)"
      ],
      "execution_count": 0,
      "outputs": [
        {
          "output_type": "stream",
          "text": [
            "52.29230017590959\n"
          ],
          "name": "stdout"
        }
      ]
    },
    {
      "cell_type": "code",
      "metadata": {
        "id": "cPScq4SH66RX",
        "colab_type": "code",
        "outputId": "6c62251c-3345-4080-a2f3-8cae298ce173",
        "colab": {
          "base_uri": "https://localhost:8080/",
          "height": 401
        }
      },
      "source": [
        "report(random_search.cv_results_,5)"
      ],
      "execution_count": 0,
      "outputs": [
        {
          "output_type": "stream",
          "text": [
            "Model with rank: 1\n",
            "Mean validation score: -770.116 (std: 25.370)\n",
            "Parameters: {'subsample': 0.7, 'scale_pos_weight': 5, 'reg_lambda': 1e-05, 'reg_alpha': 0.1, 'n_estimators': 500, 'min_child_weight': 1, 'max_depth': 7, 'max_delta_step': 0, 'learning_rate': 0.01, 'gamma': 0.2, 'colsample_bytree': 0.9, 'colsample_bylevel': 0.8}\n",
            "\n",
            "Model with rank: 2\n",
            "Mean validation score: -834.802 (std: 27.316)\n",
            "Parameters: {'subsample': 0.7, 'scale_pos_weight': 2, 'reg_lambda': 0.01, 'reg_alpha': 1e-05, 'n_estimators': 500, 'min_child_weight': 1, 'max_depth': 6, 'max_delta_step': 10, 'learning_rate': 0.5, 'gamma': 0.4, 'colsample_bytree': 0.6, 'colsample_bylevel': 0.6}\n",
            "\n",
            "Model with rank: 3\n",
            "Mean validation score: -850.890 (std: 24.387)\n",
            "Parameters: {'subsample': 0.7, 'scale_pos_weight': 3, 'reg_lambda': 0.01, 'reg_alpha': 0.1, 'n_estimators': 100, 'min_child_weight': 10, 'max_depth': 4, 'max_delta_step': 0, 'learning_rate': 0.5, 'gamma': 0.1, 'colsample_bytree': 0.7, 'colsample_bylevel': 0.7}\n",
            "\n",
            "Model with rank: 4\n",
            "Mean validation score: -885.491 (std: 24.124)\n",
            "Parameters: {'subsample': 0.6, 'scale_pos_weight': 1, 'reg_lambda': 1, 'reg_alpha': 1e-05, 'n_estimators': 700, 'min_child_weight': 2, 'max_depth': 8, 'max_delta_step': 0, 'learning_rate': 0.1, 'gamma': 0.2, 'colsample_bytree': 0.5, 'colsample_bylevel': 0.9}\n",
            "\n",
            "Model with rank: 5\n",
            "Mean validation score: -1226.793 (std: 36.676)\n",
            "Parameters: {'subsample': 0.5, 'scale_pos_weight': 5, 'reg_lambda': 1, 'reg_alpha': 0.01, 'n_estimators': 500, 'min_child_weight': 1, 'max_depth': 6, 'max_delta_step': 5, 'learning_rate': 0.5, 'gamma': 0.4, 'colsample_bytree': 0.8, 'colsample_bylevel': 0.9}\n",
            "\n"
          ],
          "name": "stdout"
        }
      ]
    },
    {
      "cell_type": "code",
      "metadata": {
        "id": "UpE8zrWv7B4h",
        "colab_type": "code",
        "colab": {}
      },
      "source": [
        "pred = random_search.predict(X_test)"
      ],
      "execution_count": 0,
      "outputs": []
    },
    {
      "cell_type": "code",
      "metadata": {
        "id": "W3aT1yu48bsM",
        "colab_type": "code",
        "outputId": "a6e8cf22-6adf-442e-f994-9775436bc8bc",
        "colab": {
          "base_uri": "https://localhost:8080/",
          "height": 1000
        }
      },
      "source": [
        "for i in zip(pred, Y_test):\n",
        "  print(i)"
      ],
      "execution_count": 0,
      "outputs": [
        {
          "output_type": "stream",
          "text": [
            "(2523.8667, 3497.2614)\n",
            "(2343.4426, 1921.3128)\n",
            "(3924.6758, 3508.58)\n",
            "(2663.3523, 1951.2738)\n",
            "(2953.7036, 5053.236)\n",
            "(1542.9243, 2719.607)\n",
            "(1855.1677, 1678.9616)\n",
            "(2858.4424, 2517.8696)\n",
            "(824.84937, 704.2304)\n",
            "(1008.85223, 1463.2424)\n",
            "(3065.8457, 3528.554)\n",
            "(1629.1249, 1368.033)\n",
            "(4056.3967, 3928.034)\n",
            "(2187.4568, 4400.752)\n",
            "(2168.1501, 1290.1344)\n",
            "(1595.9797, 1541.141)\n",
            "(2362.4106, 1324.756)\n",
            "(3626.5073, 3908.06)\n",
            "(2629.0017, 1710.92)\n",
            "(3323.5103, 2415.3364)\n",
            "(3256.8352, 1850.738)\n",
            "(2396.8174, 876.0068)\n",
            "(1366.6072, 1250.1864)\n",
            "(906.32764, 1385.3438)\n",
            "(1006.7831, 2465.9372)\n",
            "(1156.3438, 999.8456)\n",
            "(2782.6545, 6001.3352)\n",
            "(744.23566, 1119.6896)\n",
            "(4016.8333, 2749.568)\n",
            "(483.7131, 897.9782)\n",
            "(621.42365, 656.2928)\n",
            "(2170.2175, 1980.569)\n",
            "(629.57477, 312.74)\n",
            "(2016.6425, 2203.612)\n",
            "(1305.2621, 2449.2922)\n",
            "(2107.6567, 3142.39)\n",
            "(2598.5627, 5113.8238)\n",
            "(1848.1738, 1344.73)\n",
            "(2291.78, 2206.2752)\n",
            "(1684.0808, 635.653)\n",
            "(3517.9243, 2256.876)\n",
            "(2077.8003, 540.4436)\n",
            "(3499.2449, 4414.068)\n",
            "(1193.9344, 1846.7432)\n",
            "(4588.7188, 4224.9808)\n",
            "(2432.8772, 2112.3974)\n",
            "(2182.9946, 822.077)\n",
            "(3569.7925, 909.2968)\n",
            "(1052.81, 886.6596)\n",
            "(1024.4016, 1203.5804)\n",
            "(1991.5835, 1378.02)\n",
            "(934.1894, 646.3058)\n",
            "(4277.7666, 5304.2426)\n",
            "(2440.9111, 2806.8268)\n",
            "(807.0992, 903.9704)\n",
            "(954.61755, 943.9184)\n",
            "(4157.716, 844.0484)\n",
            "(3579.4578, 3228.9440000000004)\n",
            "(2754.1333, 1892.6834)\n",
            "(4032.4243, 4379.4464)\n",
            "(2462.532, 3412.7048)\n",
            "(2988.2515, 1011.83)\n",
            "(1043.1914, 1710.92)\n",
            "(2136.8035, 1455.2528)\n",
            "(4331.5522, 4527.9198)\n",
            "(2285.0305, 3374.7542)\n",
            "(1050.5713, 1338.072)\n",
            "(2466.8198, 550.4306)\n",
            "(2821.1206, 1455.2528)\n",
            "(1951.2595, 1411.31)\n",
            "(3421.5955, 3987.956)\n",
            "(3309.1768, 4723.665)\n",
            "(1402.2103, 784.1264)\n",
            "(2513.1423, 1103.7104)\n",
            "(1771.6891, 1774.8368)\n",
            "(879.86127, 652.298)\n",
            "(2355.285, 1730.894)\n",
            "(1957.4745, 2746.9048)\n",
            "(4375.2144, 2396.0282)\n",
            "(2478.8738, 2439.971)\n",
            "(4236.9077, 6484.706)\n",
            "(379.1385, 442.571)\n",
            "(3148.26, 1492.5376)\n",
            "(255.33357, 154.2796)\n",
            "(3131.3062, 3617.1054)\n",
            "(434.46014, 376.6568)\n",
            "(2365.119, 2115.7264)\n",
            "(1354.8667, 1996.5482)\n",
            "(2000.7192, 1258.1760000000004)\n",
            "(4244.765, 2204.2778)\n",
            "(2991.9333, 2469.932)\n",
            "(1461.7715, 1918.6496)\n",
            "(1634.1991, 1391.336)\n",
            "(2051.8079, 1271.492)\n",
            "(781.9657, 320.7296)\n",
            "(3069.5781, 2666.343)\n",
            "(2316.869, 2340.101)\n",
            "(826.86725, 692.2460000000002)\n",
            "(3676.035, 5400.7836)\n",
            "(3406.9888, 1913.3232)\n",
            "(2113.8906, 1950.608)\n",
            "(1034.4159, 1147.6532)\n",
            "(899.9167, 305.4162)\n",
            "(241.91936, 160.2718)\n",
            "(3147.3574, 3580.4864)\n",
            "(2756.8862, 3212.9648)\n",
            "(3902.5627, 2804.8294)\n",
            "(676.013, 880.0016)\n",
            "(2328.1707, 474.5294)\n",
            "(1237.3352, 918.618)\n",
            "(3074.1396, 3892.0808)\n",
            "(1418.2747, 419.268)\n",
            "(2466.0557, 1684.2879999999998)\n",
            "(2356.196, 3908.06)\n",
            "(2110.5374, 2098.4156)\n",
            "(3911.1282, 5656.4508)\n",
            "(811.2705, 1147.6532)\n",
            "(3582.9492, 5898.802)\n",
            "(716.7225, 783.4606)\n",
            "(4020.6108, 3723.6334)\n",
            "(2101.893, 2669.672)\n",
            "(1630.4852, 752.168)\n",
            "(1017.40015, 504.4904)\n",
            "(4016.57, 3151.7112)\n",
            "(3043.9834, 3667.7062)\n",
            "(871.9282, 307.4136)\n",
            "(883.99976, 909.9626)\n",
            "(5327.8564, 1958.5976)\n",
            "(979.22235, 1217.5622)\n",
            "(2989.846, 3695.004)\n",
            "(3615.8088, 3668.372)\n",
            "(1796.5472, 440.5736)\n",
            "(1967.2119, 3097.1156)\n",
            "(3870.8457, 2669.672)\n",
            "(3169.209, 3868.112)\n",
            "(1023.3422, 1120.3554)\n",
            "(749.644, 1311.44)\n",
            "(1636.0963, 3436.0078)\n",
            "(264.88162, 222.857)\n",
            "(3193.8792, 2648.3664)\n",
            "(1945.9305, 2390.036)\n",
            "(3261.9387, 3528.554)\n",
            "(1814.5342, 1669.6404)\n",
            "(1237.2242, 1287.4712)\n",
            "(1638.4905, 2912.6890000000008)\n",
            "(2263.7886, 718.878)\n",
            "(1477.4952, 2333.443)\n",
            "(3185.3508, 2949.308)\n",
            "(3994.2104, 4401.4178)\n",
            "(3270.825, 2493.9008)\n",
            "(1917.399, 2975.94)\n",
            "(1793.2562, 2669.672)\n",
            "(2576.663, 3701.662)\n",
            "(2885.7288, 2935.992)\n",
            "(857.08014, 656.2928)\n",
            "(2587.4172, 3451.3212)\n",
            "(2453.5955, 2250.8838)\n",
            "(1361.0853, 1647.0032)\n",
            "(366.04144, 195.5592)\n",
            "(2782.9749, 3161.6982)\n",
            "(4541.1465, 5266.292)\n",
            "(4302.5186, 4842.8432)\n",
            "(692.20654, 1215.5648)\n",
            "(2748.6873, 3097.1156)\n",
            "(1427.1451, 1580.4232)\n",
            "(2147.9558, 2523.196)\n",
            "(1615.7906, 746.8416)\n",
            "(2966.8286, 2233.573)\n",
            "(2316.0103, 1893.3492)\n",
            "(1702.6366, 2149.6822)\n",
            "(2237.1982, 3505.9168)\n",
            "(3485.7732, 1669.6404)\n",
            "(2064.2783, 1694.9408)\n",
            "(754.8862, 816.0848)\n",
            "(3348.594, 2704.2936)\n",
            "(3054.8228, 3029.204)\n",
            "(3037.4885, 3169.022)\n",
            "(3472.2654, 2090.426)\n",
            "(4369.867, 4493.2982)\n",
            "(2669.457, 2546.499)\n",
            "(1535.428, 917.2864)\n",
            "(1655.4932, 1089.7286)\n",
            "(1464.9609, 539.112)\n",
            "(2751.4832, 2086.4312)\n",
            "(1750.5287, 1998.5456)\n",
            "(2971.5889, 3029.204)\n",
            "(299.03912, 169.593)\n",
            "(3028.8071, 2732.2572)\n",
            "(4151.8022, 2390.7018)\n",
            "(807.51337, 658.2902)\n",
            "(3426.5461, 1299.4556)\n",
            "(1668.8625, 1595.0708)\n",
            "(2797.3345, 4540.57)\n",
            "(2952.409, 3734.2862)\n",
            "(3769.626, 2716.278)\n",
            "(789.73944, 1425.9576)\n",
            "(740.3644, 1343.3984)\n",
            "(4037.9292, 4199.0146)\n",
            "(1511.1504, 1694.9408)\n",
            "(1672.6068, 700.2356)\n",
            "(342.76004, 512.48)\n",
            "(2750.4255, 3743.6074)\n",
            "(2475.699, 1290.1344)\n",
            "(985.56165, 1086.3996)\n",
            "(4259.1064, 6980.0612)\n",
            "(733.62024, 836.0588)\n",
            "(287.45892, 161.6034)\n",
            "(2567.3743, 1338.072)\n",
            "(3779.9336, 6472.7216)\n",
            "(1806.4257, 1892.0176)\n",
            "(2223.8848, 3211.6332)\n",
            "(925.09296, 911.96)\n",
            "(3745.9653, 4439.3684)\n",
            "(986.8433, 541.7752)\n",
            "(2730.7175, 2489.906)\n",
            "(871.5724, 706.2278)\n",
            "(3086.6865, 2844.1116)\n",
            "(866.2499, 492.506)\n",
            "(3980.4358, 8717.7992)\n",
            "(2292.1218, 2764.2156)\n",
            "(3419.992, 2280.8448)\n",
            "(2215.6619, 2206.9410000000007)\n",
            "(466.2379, 268.1314)\n",
            "(2256.4634, 1818.1138)\n",
            "(2821.4568, 3379.4148)\n",
            "(3410.2886, 3579.1548)\n",
            "(1455.1473, 1119.6896)\n",
            "(1033.7422, 1052.4438)\n",
            "(1141.3772, 1165.6298)\n",
            "(3425.0352, 5721.6992)\n",
            "(592.49146, 310.0768)\n",
            "(3836.8296, 1018.488)\n",
            "(3100.0215, 3468.632)\n",
            "(4111.523, 6656.4824)\n",
            "(753.3462, 495.1692)\n",
            "(3463.6228, 3451.987)\n",
            "(4084.2505, 5418.0944)\n",
            "(2050.5623, 1233.5414)\n",
            "(2667.0205, 2580.4548)\n",
            "(937.9531, 551.0964)\n",
            "(933.64496, 362.0092)\n",
            "(970.45605, 1215.5648)\n",
            "(3173.3657, 3258.905)\n",
            "(860.1528, 512.48)\n",
            "(4117.594, 3748.268)\n",
            "(983.7631, 604.3604)\n",
            "(3004.5498, 2318.1296)\n",
            "(862.8839, 871.3462)\n",
            "(2021.9542, 1367.3672)\n",
            "(3026.2756, 4732.9862)\n",
            "(2890.7832, 3287.5344)\n",
            "(3911.0422, 3548.528)\n",
            "(2404.8042, 3047.8464)\n",
            "(776.1459, 653.6296)\n",
            "(3238.5054, 1503.1904)\n",
            "(825.47864, 1063.7624)\n",
            "(3904.5925, 5609.8448)\n",
            "(990.6946, 1368.6988)\n",
            "(3500.9885, 2350.088)\n",
            "(1336.1565, 1414.639)\n",
            "(2966.7114, 1581.089)\n",
            "(729.54846, 792.1160000000001)\n",
            "(3263.9006, 3287.5344)\n",
            "(2965.802, 1790.816)\n",
            "(2218.4685, 3402.052)\n",
            "(1445.3821, 464.5424)\n",
            "(2329.7341, 2821.4744)\n",
            "(4504.858, 3617.7712)\n",
            "(1052.5342, 760.1576)\n",
            "(2017.384, 2162.3324)\n",
            "(2407.279, 4085.8286)\n",
            "(1331.4083, 672.2719999999998)\n",
            "(4159.286, 1109.0368)\n",
            "(2630.183, 3067.1546)\n",
            "(3070.534, 1987.8928)\n",
            "(281.70868, 170.2588)\n",
            "(1565.1373, 1481.219)\n",
            "(3098.5166, 2757.5576)\n",
            "(3813.993, 6524.654)\n",
            "(1913.6282, 776.1368)\n",
            "(908.81696, 1135.6688)\n",
            "(2557.5786, 1637.682)\n",
            "(4109.998, 5400.7836)\n",
            "(4018.064, 5319.556)\n",
            "(829.29584, 705.562)\n",
            "(2294.528, 1982.5664)\n",
            "(2411.2651, 1974.5768)\n",
            "(3961.82, 4363.4672)\n",
            "(827.58527, 406.6178)\n",
            "(439.70175, 210.2068)\n",
            "(1318.6936, 1246.8574)\n",
            "(1741.5142, 2670.3378)\n",
            "(2346.8682, 2782.1922)\n",
            "(4447.2676, 8873.5964)\n",
            "(969.32623, 831.3982)\n",
            "(2763.7952, 3848.138)\n",
            "(2355.7478, 3511.2432)\n",
            "(2179.1262, 2665.6772)\n",
            "(2315.931, 2541.8384)\n",
            "(906.3924, 294.0976)\n",
            "(2518.0176, 1240.8652)\n",
            "(2844.291, 2754.8944)\n",
            "(1654.4537, 1700.2672)\n",
            "(1009.6282, 877.3384)\n",
            "(2114.1897, 1911.9916)\n",
            "(1783.199, 3332.8088)\n",
            "(1051.9894, 816.0848)\n",
            "(4025.6213, 2617.7396)\n",
            "(3970.9094, 3133.7346)\n",
            "(4085.964, 6805.6216)\n",
            "(3292.0725, 4126.4424)\n",
            "(2589.8894, 2230.244)\n",
            "(871.6216, 366.004)\n",
            "(1774.7906, 1753.5312)\n",
            "(3188.0098, 2809.49)\n",
            "(5036.561, 2954.6344)\n",
            "(3276.754, 2356.746)\n",
            "(1013.49603, 943.9184)\n",
            "(1032.0165, 603.0288)\n",
            "(3121.1572, 3541.2042)\n",
            "(428.19446, 373.9936)\n",
            "(1499.2866, 1896.6782)\n",
            "(2602.1338, 2415.3364)\n",
            "(4417.3613, 4691.0408)\n",
            "(3632.6138, 3151.7112)\n",
            "(2216.3364, 2665.6772)\n",
            "(1668.1855, 2230.244)\n",
            "(945.32404, 1047.7832)\n",
            "(2443.0247, 1511.8458)\n",
            "(2461.0166, 1934.6288)\n",
            "(1748.6461, 1732.2256)\n",
            "(2692.3381, 2509.88)\n",
            "(1013.16846, 877.3384)\n",
            "(2774.8406, 2761.5524)\n",
            "(2054.034, 2378.0516)\n",
            "(2326.8499, 2060.465)\n",
            "(2042.0952, 1910.66)\n",
            "(3301.7805, 3282.208)\n",
            "(2255.7651, 3149.048)\n",
            "(2491.3552, 1583.0864)\n",
            "(1835.2985, 3263.5656)\n",
            "(2387.0645, 1770.842)\n",
            "(2705.7036, 3224.9492)\n",
            "(950.7201, 1567.1072)\n",
            "(3491.6548, 2057.136)\n",
            "(3809.0024, 3368.762)\n",
            "(2111.2742, 1311.44)\n",
            "(3997.3755, 2762.884)\n",
            "(3402.8574, 4427.384)\n",
            "(2177.5498, 2473.9268)\n",
            "(1683.5146, 1287.4712)\n",
            "(4361.175, 4746.968)\n",
            "(4313.3843, 2507.8826)\n",
            "(3076.973, 4419.3944)\n",
            "(1709.2032, 1870.712)\n",
            "(2618.709, 1535.1488)\n",
            "(849.00104, 585.7180000000002)\n",
            "(3626.171, 1820.777)\n",
            "(828.38934, 368.6672)\n",
            "(2142.219, 2954.6344)\n",
            "(2547.1846, 1878.0358)\n",
            "(734.7664, 1460.5792)\n",
            "(849.31885, 792.1160000000001)\n",
            "(768.2477, 1052.4438)\n",
            "(4481.4272, 3809.5216)\n",
            "(800.3653, 342.701)\n",
            "(2736.0542, 460.5476)\n",
            "(1046.936, 1314.769)\n",
            "(1571.0332, 2254.2128)\n",
            "(3711.8755, 1148.319)\n",
            "(3179.7458, 2302.1504)\n",
            "(1652.1438, 1734.8888)\n",
            "(815.38184, 554.4254)\n",
            "(2243.9185, 2206.9410000000007)\n",
            "(2151.315, 2429.984)\n",
            "(1203.7397, 903.9704)\n",
            "(2584.3152, 1396.6624)\n",
            "(1777.522, 2589.776)\n",
            "(1906.0603, 2059.7992)\n",
            "(2200.7388, 1061.0992)\n",
            "(2392.7703, 1051.778)\n",
            "(1572.7878, 1551.128)\n",
            "(734.0958, 762.8208)\n",
            "(2729.8044, 4874.8016)\n",
            "(2594.0156, 3224.9492)\n",
            "(2372.935, 1688.2828)\n",
            "(3456.4868, 3170.3536)\n",
            "(318.51678, 316.7348)\n",
            "(1725.2966, 3009.23)\n",
            "(3600.6257, 3908.06)\n",
            "(4386.3228, 2419.9970000000008)\n",
            "(2404.2805, 1907.331)\n",
            "(340.67935, 450.5606)\n",
            "(1612.7737, 2196.2882)\n",
            "(2898.689, 3584.4812)\n",
            "(2661.1365, 1631.024)\n",
            "(1382.82, 1321.427)\n",
            "(1509.9106, 1071.752)\n",
            "(3866.3936, 2856.7618)\n",
            "(1588.5922, 1770.842)\n",
            "(2812.8223, 3540.5384)\n",
            "(728.79565, 901.3072)\n",
            "(4042.8625, 6003.9984)\n",
            "(2417.6628, 1920.647)\n",
            "(3905.7786, 4211.6648)\n",
            "(310.90335, 295.4292)\n",
            "(3249.0593, 2463.9398)\n",
            "(3277.093, 4492.6324)\n",
            "(2014.4452, 1862.7224)\n",
            "(3418.8801, 2254.2128)\n",
            "(926.56476, 576.3968)\n",
            "(2511.798, 3042.52)\n",
            "(2672.8025, 493.8376)\n",
            "(3726.0183, 1818.7796)\n",
            "(1497.436, 1647.0032)\n",
            "(2541.6733, 2858.0934)\n",
            "(3054.2463, 2077.11)\n",
            "(252.30756, 416.6048)\n",
            "(1004.88873, 1307.4452)\n",
            "(235.09193, 364.6724)\n",
            "(3027.5764, 5023.275)\n",
            "(1675.6685, 1902.6704)\n",
            "(1030.3654, 1820.777)\n",
            "(1550.6433, 788.7869999999998)\n",
            "(2372.2393, 2519.867)\n",
            "(2163.6096, 2535.1804)\n",
            "(1623.4491, 1650.9979999999996)\n",
            "(1638.8835, 2667.0088)\n",
            "(3624.8901, 2203.612)\n",
            "(2736.8994, 3250.2496)\n",
            "(3193.3403, 4462.0056)\n",
            "(4519.7866, 3292.8608)\n",
            "(2962.7642, 1652.9954)\n",
            "(3918.6602, 4810.8848)\n",
            "(2879.3792, 3818.177)\n",
            "(1939.9515, 1541.141)\n",
            "(2799.1926, 4906.76)\n",
            "(1005.4521, 574.3994)\n",
            "(2319.9375, 3510.5774)\n",
            "(4570.8257, 2180.309)\n",
            "(745.82745, 212.87)\n",
            "(882.5088, 1705.5936)\n",
            "(2513.7908, 3216.9596)\n",
            "(2008.8625, 1221.557)\n",
            "(2724.9949, 3790.2134)\n",
            "(1869.1451, 1358.046)\n",
            "(2143.5225, 1411.31)\n",
            "(862.04974, 500.4956)\n",
            "(2276.2083, 4206.3384)\n",
            "(3520.1184, 3463.3056)\n",
            "(1581.031, 2456.616)\n",
            "(3412.0295, 1352.7196)\n",
            "(1206.8527, 816.0848)\n",
            "(3131.948, 3852.1328)\n",
            "(3575.564, 3888.086)\n",
            "(2638.4888, 3440.6684)\n",
            "(2372.7397, 4283.5712)\n",
            "(2119.4463, 1344.73)\n",
            "(1785.9315, 1252.8496)\n",
            "(2330.8352, 1775.5026)\n",
            "(3243.9895, 702.2330000000002)\n",
            "(1008.13434, 1368.6988)\n",
            "(3076.2424, 1838.7536)\n",
            "(3613.3381, 4583.1812)\n",
            "(1710.5449, 1680.9589999999996)\n",
            "(759.5142, 1252.1838)\n",
            "(2339.673, 688.2512)\n",
            "(2969.7366, 2679.659)\n",
            "(2631.8877, 2477.9216)\n",
            "(2208.9868, 2098.4156)\n",
            "(1907.0363, 2186.3012)\n",
            "(1578.0184, 2090.426)\n",
            "(820.4886, 501.1614)\n",
            "(2215.078, 1806.7952)\n",
            "(677.50354, 514.4774)\n",
            "(1558.5356, 895.9808)\n",
            "(4188.3457, 5356.8408)\n",
            "(3650.2034, 2888.7202)\n",
            "(2104.7334, 2258.2076)\n",
            "(3021.8562, 4371.4568)\n",
            "(1059.4783, 1890.686)\n",
            "(1833.9131, 1532.4856)\n",
            "(2216.0398, 1798.8056)\n",
            "(868.44244, 1047.7832)\n",
            "(301.5517, 371.3304)\n",
            "(2726.3147, 2359.4092)\n",
            "(1604.3796, 1204.2462)\n",
            "(1314.5005, 1431.284)\n",
            "(3132.499, 774.1394)\n",
            "(1831.5034, 2035.8304)\n",
            "(3032.1128, 2939.321)\n",
            "(2341.6458, 2637.0478)\n",
            "(1820.6924, 1770.842)\n",
            "(2811.3962, 4842.8432)\n",
            "(1513.6677, 1497.864)\n",
            "(3408.0293, 2700.9646)\n",
            "(2744.1953, 1718.9096)\n",
            "(983.574, 1314.769)\n",
            "(2231.09, 1551.128)\n",
            "(885.9375, 1591.076)\n",
            "(3410.5847, 4520.596)\n",
            "(2692.4834, 1684.2879999999998)\n",
            "(791.443, 752.168)\n",
            "(1775.7804, 854.0354)\n",
            "(1002.14246, 244.8284)\n",
            "(1554.3242, 1109.0368)\n",
            "(4026.8657, 6067.9152)\n",
            "(1270.4944, 1401.9888)\n",
            "(235.54138, 188.9012)\n",
            "(2144.369, 3091.1234)\n",
            "(2155.0122, 2503.8878)\n",
            "(3432.999, 2174.3168)\n",
            "(2422.7627, 2969.282)\n",
            "(4564.803, 3284.8712)\n",
            "(2666.8447, 2953.3028)\n",
            "(827.0893, 758.1602)\n",
            "(3461.6387, 4615.1396)\n",
            "(3789.3174, 2781.5264)\n",
            "(428.12372, 239.502)\n",
            "(640.39404, 188.9012)\n",
            "(1404.5941, 422.597)\n",
            "(2269.2373, 1236.8704)\n",
            "(1450.3021, 1629.6924)\n",
            "(1528.2333, 1417.9679999999996)\n",
            "(2070.8513, 2693.6408)\n",
            "(767.8745, 454.5554)\n",
            "(342.98083, 306.082)\n",
            "(867.88965, 611.0184)\n",
            "(780.03125, 1263.5024)\n",
            "(670.426, 773.4736)\n",
            "(1998.3063, 4605.8184)\n",
            "(1492.8213, 1969.2504)\n",
            "(2578.1958, 2759.555)\n",
            "(2431.947, 1130.3424)\n",
            "(3099.2715, 4544.5648)\n",
            "(2211.9082, 484.5164)\n",
            "(2969.5015, 3223.6176)\n",
            "(3326.0518, 790.1186)\n",
            "(2636.8455, 1390.0044)\n",
            "(2702.3333, 738.852)\n",
            "(3304.7434, 3191.6592)\n",
            "(2053.8433, 1792.1476)\n",
            "(989.36163, 371.9962)\n",
            "(868.7378, 848.709)\n",
            "(3249.8354, 5146.448)\n",
            "(3604.6643, 1191.596)\n",
            "(926.17255, 914.6232)\n",
            "(1527.9843, 2119.7212)\n",
            "(4239.323, 6737.71)\n",
            "(480.9104, 293.4318)\n",
            "(2345.5444, 2920.0128)\n",
            "(3188.4014, 1995.2166)\n",
            "(4223.2227, 4391.4308)\n",
            "(2040.9958, 2139.0294)\n",
            "(849.8852, 552.428)\n",
            "(2619.6746, 1885.3596)\n",
            "(332.6587, 176.25099999999995)\n",
            "(970.1804, 1278.15)\n",
            "(1455.7881, 1445.9316)\n",
            "(2087.8203, 804.1004)\n",
            "(4438.291, 5021.2776)\n",
            "(3597.115, 4645.7664)\n",
            "(597.2282, 279.45)\n",
            "(1806.2987, 1480.5532)\n",
            "(824.66876, 812.09)\n",
            "(1070.1675, 377.9884)\n",
            "(1991.0731, 1696.9382)\n",
            "(2263.0625, 1804.7978)\n",
            "(952.80145, 444.5684)\n",
            "(1888.9941, 981.869)\n",
            "(3854.2512, 3858.125)\n",
            "(3093.2031, 2987.9244)\n",
            "(733.3268, 652.298)\n",
            "(743.00385, 395.2992)\n",
            "(3688.051, 3463.3056)\n",
            "(877.119, 782.1289999999998)\n",
            "(2924.4888, 6105.2)\n",
            "(3416.5105, 5306.24)\n",
            "(307.00198, 186.238)\n",
            "(714.9254, 1289.4686)\n",
            "(4000.842, 2909.36)\n",
            "(1196.6123, 1774.8368)\n",
            "(3191.2263, 2230.244)\n",
            "(2417.557, 1664.314)\n",
            "(1819.0955, 3021.2144)\n",
            "(1343.0537, 1871.3778)\n",
            "(1601.8503, 1204.2462)\n",
            "(1211.7305, 1081.739)\n",
            "(2530.797, 1617.0422)\n",
            "(1985.9303, 1697.604)\n",
            "(3292.2673, 2501.8904)\n",
            "(1710.8541, 1487.2112)\n",
            "(2726.9, 3868.112)\n",
            "(816.9728, 696.2408)\n",
            "(4165.8433, 4259.6024)\n",
            "(3073.077, 642.311)\n",
            "(3567.8328, 5693.7356)\n",
            "(2422.4644, 4009.2616)\n",
            "(3743.3877, 7146.5112)\n",
            "(3101.7078, 2822.1402)\n",
            "(1708.4325, 1601.063)\n",
            "(620.8475, 664.2824)\n",
            "(2028.3021, 2240.231)\n",
            "(2374.7144, 3692.3408)\n",
            "(3573.831, 4587.176)\n",
            "(3145.4668, 5272.2842)\n",
            "(592.083, 483.1848)\n",
            "(2921.3188, 7435.4684)\n",
            "(1808.3939, 2872.0752)\n",
            "(2608.4658, 3237.5994)\n",
            "(4592.452, 4087.826)\n",
            "(3520.2249, 4976.0032)\n",
            "(3423.138, 1820.777)\n",
            "(3201.8076, 1271.492)\n",
            "(2870.0369, 1183.6064)\n",
            "(2248.3179, 3312.8348)\n",
            "(1364.2914, 1561.115)\n",
            "(707.76, 452.55800000000005)\n",
            "(780.428, 720.2096)\n",
            "(4003.1863, 3543.2016)\n",
            "(806.0611, 810.7584)\n",
            "(1657.0692, 2575.7942)\n",
            "(1771.024, 1328.7508)\n",
            "(1662.8292, 2346.0932)\n",
            "(892.4421, 1098.384)\n",
            "(2551.1348, 2191.6276)\n",
            "(347.4834, 202.883)\n",
            "(2662.8403, 2959.295)\n",
            "(471.11942, 469.8688)\n",
            "(317.43787, 226.186)\n",
            "(2469.569, 3390.0676)\n",
            "(625.74396, 409.9468)\n",
            "(2691.8809, 3702.9936)\n",
            "(1517.8375, 1306.1136)\n",
            "(3440.9944, 2639.711)\n",
            "(1574.0237, 1223.5544)\n",
            "(2699.0151, 2410.01)\n",
            "(3079.897, 2699.633)\n",
            "(2486.472, 2300.153)\n",
            "(4052.3132, 6466.0636)\n",
            "(3766.3523, 5883.4886)\n",
            "(1584.0355, 1145.6558)\n",
            "(855.0925, 367.3356)\n",
            "(1989.3191, 852.038)\n",
            "(2735.5347, 2772.871)\n",
            "(2737.9639, 3123.7476)\n",
            "(371.16626, 229.515)\n",
            "(714.97076, 895.9808)\n",
            "(3617.905, 837.3904)\n",
            "(3105.3079, 2233.573)\n",
            "(665.60846, 540.4436)\n",
            "(896.27985, 897.3124)\n",
            "(2579.1758, 2008.5326)\n",
            "(900.3555, 995.185)\n",
            "(4577.7656, 5607.8474)\n",
            "(2864.999, 1497.1982)\n",
            "(2015.2664, 1798.8056)\n",
            "(3409.9746, 3207.6384)\n",
            "(3287.32, 2302.1504)\n",
            "(1773.5597, 1402.6546)\n",
            "(2045.4731, 1641.011)\n",
            "(3436.5574, 2003.872)\n",
            "(4441.1655, 2639.711)\n",
            "(3211.2375, 5276.9448)\n",
            "(2262.94, 1007.8352)\n",
            "(1663.5996, 1660.3192)\n",
            "(366.16858, 146.29)\n",
            "(4053.573, 2621.7344)\n",
            "(3327.822, 2989.256)\n",
            "(3625.7866, 2519.2012)\n",
            "(4684.5537, 901.973)\n",
            "(2078.7395, 600.3656)\n",
            "(2836.746, 4477.319)\n",
            "(3903.3064, 1635.0188)\n",
            "(1776.8097, 2256.876)\n",
            "(2522.166, 1943.95)\n",
            "(2043.36, 1149.6506)\n",
            "(2221.269, 1990.556)\n",
            "(2140.3218, 1684.2879999999998)\n",
            "(908.83923, 1301.453)\n",
            "(2588.987, 2699.633)\n",
            "(2413.3464, 1548.4648)\n",
            "(3732.3206, 1769.5104)\n",
            "(3938.004, 6314.927)\n",
            "(4299.2886, 2336.1062)\n",
            "(1859.4979, 3453.3186)\n",
            "(2603.924, 4009.2616)\n",
            "(3200.3452, 7010.688)\n",
            "(3387.0938, 4209.6674)\n",
            "(901.1799, 404.6204)\n",
            "(3208.0046, 2769.542)\n",
            "(1134.9388, 885.328)\n",
            "(2500.8264, 2219.5912)\n",
            "(1753.2628, 2983.9296)\n",
            "(2007.7683, 1809.4584)\n",
            "(3727.0066, 2629.724)\n",
            "(1315.8899, 1099.7156)\n",
            "(1729.0017, 1071.752)\n",
            "(1454.9606, 2294.1608)\n",
            "(4143.3022, 3208.97)\n",
            "(2983.3662, 3730.9572)\n",
            "(2359.1887, 2008.5326)\n",
            "(2576.4824, 1966.5872)\n",
            "(2269.0618, 603.0288)\n",
            "(2172.5781, 2884.7254)\n",
            "(2806.6497, 1878.7016)\n",
            "(3657.7136, 3348.788)\n",
            "(2812.466, 1407.3152)\n",
            "(2045.1718, 1387.3412)\n",
            "(3841.0754, 3683.0196)\n",
            "(1882.389, 2859.425)\n",
            "(3812.4668, 7130.531999999998)\n",
            "(762.2825, 607.0236)\n",
            "(3237.615, 2657.6876)\n",
            "(1900.7811, 3079.139)\n",
            "(3453.1897, 2853.4328)\n",
            "(2739.15, 2931.3314)\n",
            "(4491.2803, 4679.0564)\n",
            "(3244.8977, 2063.794)\n",
            "(848.2506, 1837.422)\n",
            "(3922.5278, 784.1264)\n",
            "(2529.7395, 4824.2008)\n",
            "(912.2527, 1583.0864)\n",
            "(3186.727, 1203.5804)\n",
            "(949.4702, 857.3644)\n",
            "(3912.4243, 3067.8204)\n",
            "(857.6638, 356.017)\n",
            "(3560.43, 3284.8712)\n",
            "(778.3026, 500.4956)\n",
            "(870.185, 503.1588)\n",
            "(3785.247, 2825.4692)\n",
            "(755.5783, 718.878)\n",
            "(3037.0789, 473.8636)\n",
            "(721.04376, 796.1108)\n",
            "(1737.2772, 1970.582)\n",
            "(1146.792, 1259.5076)\n",
            "(1476.2775, 810.7584)\n",
            "(570.1057, 995.185)\n",
            "(717.4544, 560.4176)\n",
            "(4206.6333, 7335.5984)\n",
            "(1285.7711, 1311.44)\n",
            "(2572.045, 3384.0754)\n",
            "(1788.5343, 1428.6208)\n",
            "(3805.374, 4199.0146)\n",
            "(2173.451, 3344.1274)\n",
            "(3404.4875, 4387.436)\n",
            "(2953.5486, 626.3318)\n",
            "(2039.2947, 1394.665)\n",
            "(4322.316, 2861.4224)\n",
            "(1965.7719, 942.5868)\n",
            "(374.11093, 366.004)\n",
            "(2231.5818, 1591.076)\n",
            "(2377.3625, 2811.4874)\n",
            "(3083.4707, 3327.4824)\n",
            "(4641.281, 2961.9582)\n",
            "(2991.8467, 401.9572)\n",
            "(654.48804, 698.2382)\n",
            "(2324.1243, 860.0276)\n",
            "(2388.5159, 2080.439)\n",
            "(1856.6582, 1930.634)\n",
            "(2115.7595, 3001.2404)\n",
            "(1409.6058, 991.856)\n",
            "(1038.6846, 1061.765)\n",
            "(2271.3352, 2535.1804)\n",
            "(2467.2917, 1401.9888)\n",
            "(964.20953, 848.709)\n",
            "(2492.0583, 2713.6148)\n",
            "(3143.422, 2809.49)\n",
            "(3969.8877, 4786.916)\n",
            "(815.27405, 772.1419999999998)\n",
            "(1784.1052, 2959.295)\n",
            "(3209.9224, 3532.5488)\n",
            "(3427.6382, 1987.8928)\n",
            "(4404.7334, 4810.8848)\n",
            "(1796.6333, 2869.4120000000007)\n",
            "(2674.2368, 416.6048)\n",
            "(1774.538, 3388.736)\n",
            "(1834.632, 1806.7952)\n",
            "(2618.596, 4025.2408)\n",
            "(3008.2588, 3844.809)\n",
            "(2894.6958, 4553.886)\n",
            "(3703.5645, 2042.4884)\n",
            "(1029.1898, 640.3136)\n",
            "(1932.801, 954.5712)\n",
            "(809.5026, 536.4488)\n",
            "(3640.0386, 5849.5328)\n",
            "(876.9629, 1272.8236)\n",
            "(1600.3748, 1886.6912)\n",
            "(1778.4037, 2469.932)\n",
            "(2527.0637, 2536.512)\n",
            "(1448.9304, 1167.6272)\n",
            "(1959.1003, 1678.9616)\n",
            "(1008.24896, 497.8324)\n",
            "(2195.682, 2778.8632)\n",
            "(2525.7693, 558.4202)\n",
            "(254.68546, 270.1288)\n",
            "(840.6092, 589.047)\n",
            "(1897.8926, 2126.3792)\n",
            "(2472.1287, 2330.114)\n",
            "(3379.871, 1259.5076)\n",
            "(2811.8257, 1275.4868)\n",
            "(4008.2815, 2951.9712)\n",
            "(3912.616, 4470.661)\n",
            "(2116.1838, 1511.8458)\n",
            "(2953.0713, 3216.9596)\n",
            "(2481.6816, 1473.2294)\n",
            "(2929.6338, 4265.5946)\n",
            "(2758.624, 4324.185)\n",
            "(1263.5818, 600.3656)\n",
            "(1162.3309, 2499.2272)\n",
            "(2171.845, 3005.2352)\n",
            "(460.47427, 858.696)\n",
            "(2603.0542, 2541.8384)\n",
            "(1490.3853, 1045.12)\n",
            "(3054.1091, 3191.6592)\n",
            "(1168.2272, 1147.6532)\n",
            "(3213.98, 3576.4916)\n",
            "(2698.9214, 3552.5228)\n",
            "(3137.9937, 6451.416)\n",
            "(1758.9558, 1720.9070000000004)\n",
            "(2641.605, 2150.348)\n",
            "(782.3799, 1370.0304)\n",
            "(4225.0493, 2390.036)\n",
            "(1388.523, 1870.712)\n",
            "(979.76135, 456.5528)\n",
            "(4139.7075, 5472.69)\n",
            "(659.86334, 632.3240000000002)\n",
            "(1795.1123, 1604.392)\n",
            "(720.97485, 1159.6376)\n",
            "(1907.7823, 2797.5056)\n",
            "(1009.53973, 499.8298)\n",
            "(1807.8354, 1529.8224)\n",
            "(1002.70807, 1091.726)\n",
            "(3542.3184, 2640.3768)\n",
            "(2745.686, 1629.0266)\n",
            "(1651.1146, 1572.4336)\n",
            "(3748.053, 4210.3332)\n",
            "(1192.6066, 1427.2892)\n",
            "(942.61, 586.3838)\n",
            "(3646.2063, 2918.0154)\n",
            "(1793.1576, 740.1836)\n",
            "(946.9032, 612.35)\n",
            "(978.88416, 942.5868)\n",
            "(206.16069, 307.4136)\n",
            "(424.48422, 230.8466)\n",
            "(4174.3154, 5146.448)\n",
            "(680.2715, 556.4228)\n",
            "(2227.425, 2424.6576)\n",
            "(2016.9055, 1391.336)\n",
            "(1429.4971, 1818.7796)\n",
            "(4430.5293, 5210.3648)\n",
            "(2842.8933, 1757.526)\n",
            "(3023.9666, 3548.528)\n",
            "(2118.0542, 2073.1152)\n",
            "(4198.3516, 3445.329)\n",
            "(3651.2432, 2588.4444)\n",
            "(769.7275, 984.5322)\n",
            "(3241.7666, 2849.438)\n",
            "(1012.9106, 2689.646)\n",
            "(347.85745, 396.6308)\n",
            "(3193.286, 2545.1674)\n",
            "(810.23456, 604.3604)\n",
            "(2833.0024, 1716.9122)\n",
            "(2405.8857, 1684.2879999999998)\n",
            "(2080.4885, 1874.7068)\n",
            "(3882.3323, 3664.3772)\n",
            "(2870.262, 717.5464)\n",
            "(2918.936, 2667.0088)\n",
            "(371.96344, 214.2016)\n",
            "(2359.4873, 1877.37)\n",
            "(675.54767, 528.4592)\n",
            "(866.8538, 868.0172)\n",
            "(2082.1619, 1520.5012)\n",
            "(2264.0266, 1318.098)\n",
            "(1774.7666, 1248.189)\n",
            "(2668.8574, 2039.1594)\n",
            "(2278.8972, 2360.7408)\n",
            "(3789.2527, 4300.2162)\n",
            "(2832.695, 5463.3688)\n",
            "(1863.9476, 1846.7432)\n",
            "(1165.121, 1413.3074)\n",
            "(1889.458, 1278.15)\n",
            "(3818.8242, 4746.968)\n",
            "(2670.4922, 3085.1312)\n",
            "(2247.1108, 1893.3492)\n",
            "(1001.1637, 1218.228)\n",
            "(2375.5442, 1077.0784)\n",
            "(2789.218, 3237.5994)\n",
            "(4081.9949, 2529.854)\n",
            "(1566.4493, 1826.7692)\n",
            "(920.6459, 312.74)\n",
            "(2981.4165, 2816.148)\n",
            "(3219.469, 668.2772)\n",
            "(908.8981, 762.155)\n",
            "(1435.9984, 909.9626)\n",
            "(1528.4808, 1174.951)\n",
            "(1034.8601, 1694.9408)\n",
            "(844.266, 724.2044)\n",
            "(541.8604, 580.3916)\n",
            "(221.5322, 262.1392)\n",
            "(2939.0947, 2135.7004)\n",
            "(672.1128, 1215.5648)\n",
            "(2747.2239, 1264.1682)\n",
            "(1796.952, 2685.6512)\n",
            "(1294.0315, 616.3448)\n",
            "(1779.2451, 2509.88)\n",
            "(1473.3477, 2394.6966)\n",
            "(304.61856, 875.341)\n",
            "(4160.3125, 6121.845)\n",
            "(357.4032, 332.714)\n",
            "(3122.7144, 2683.6538)\n",
            "(1123.733, 2050.478)\n",
            "(1322.1511, 2069.1204)\n",
            "(3411.1409, 4713.0122)\n",
            "(1714.9872, 2102.4104)\n",
            "(3927.7078, 1527.1592)\n",
            "(4073.553, 2797.5056)\n",
            "(1440.7936, 1541.141)\n",
            "(1789.6686, 949.2448)\n",
            "(547.97736, 303.4188)\n",
            "(1687.9918, 2266.1972)\n",
            "(1497.6176, 2126.3792)\n",
            "(2593.5967, 629.6608)\n",
            "(1591.9285, 760.8234)\n",
            "(3387.6042, 1692.9434)\n",
            "(2981.3965, 4874.8016)\n",
            "(2565.589, 3123.7476)\n",
            "(2542.9128, 3628.424)\n",
            "(1634.2037, 1189.5986)\n",
            "(3269.2544, 3338.1352)\n",
            "(4129.418, 2654.3586)\n",
            "(940.5237, 901.3072)\n",
            "(356.8763, 390.6386)\n",
            "(3336.726, 5739.01)\n",
            "(4069.8323, 7832.2852)\n",
            "(1420.6938, 1607.0552)\n",
            "(1208.5094, 1618.3738)\n",
            "(922.2411, 1031.804)\n",
            "(2729.0527, 5954.0634)\n",
            "(3081.2854, 2977.2716)\n",
            "(4103.3716, 3027.8724)\n",
            "(4210.3574, 3116.4238)\n",
            "(3715.1887, 2138.3636)\n",
            "(1320.3798, 1101.713)\n",
            "(2605.549, 4251.6128)\n",
            "(4099.264, 5162.4272)\n",
            "(1402.6206, 652.298)\n",
            "(2456.8599, 2541.8384)\n",
            "(1951.85, 1378.02)\n",
            "(304.70166, 227.5176)\n",
            "(4123.0293, 4798.9004)\n",
            "(2929.449, 4882.1254)\n",
            "(1786.6692, 1820.777)\n",
            "(2940.1895, 2390.036)\n",
            "(861.69824, 640.9794)\n",
            "(825.5317, 792.1160000000001)\n",
            "(849.6376, 951.908)\n",
            "(3822.6643, 5258.3024)\n",
            "(821.1265, 490.5086)\n",
            "(3433.1875, 5615.837)\n",
            "(330.9701, 215.5332)\n",
            "(1196.3314, 2449.958)\n",
            "(3613.0715, 3173.0168)\n",
            "(2061.7783, 1416.6364)\n",
            "(2322.1274, 1395.3308)\n",
            "(3294.1272, 2579.789)\n",
            "(3459.34, 4858.8224)\n",
            "(3722.5105, 4573.1942)\n",
            "(4468.9785, 5372.82)\n",
            "(1335.7958, 1324.756)\n",
            "(893.4542, 893.9834)\n",
            "(1990.2067, 3568.502)\n",
            "(880.6169, 816.0848)\n",
            "(627.7322, 812.09)\n",
            "(929.6969, 669.6088)\n",
            "(2414.1704, 2266.1972)\n",
            "(3467.6177, 5332.8719999999985)\n",
            "(2151.5125, 2503.8878)\n",
            "(4398.681, 4853.496)\n",
            "(253.61867, 299.4240000000001)\n",
            "(2981.8208, 3888.086)\n",
            "(779.8733, 845.38)\n",
            "(2645.9607, 2406.0152)\n",
            "(4224.6484, 2683.6538)\n",
            "(3054.8477, 4717.6728)\n",
            "(3204.0688, 3624.4292)\n",
            "(2657.508, 2360.075)\n",
            "(1934.4204, 1350.7222)\n",
            "(2506.1445, 895.315)\n",
            "(3078.5513, 6008.6590000000015)\n",
            "(4467.3857, 4844.1748)\n",
            "(2624.7244, 2546.499)\n",
            "(1609.5388, 1199.5856)\n",
            "(2981.6008, 4507.28)\n",
            "(2344.623, 2098.4156)\n",
            "(4225.4307, 7197.111999999999)\n",
            "(301.69916, 158.2744)\n",
            "(811.3692, 1279.4816)\n",
            "(2076.8887, 2838.7852)\n",
            "(1499.5624, 2969.282)\n",
            "(796.1857, 486.5138)\n",
            "(3144.5908, 1802.8004)\n",
            "(2893.4626, 2573.7968)\n",
            "(697.484, 430.5866)\n",
            "(2343.0854, 4966.682)\n",
            "(757.34344, 698.904)\n",
            "(2998.4902, 3216.9596)\n",
            "(1296.4792, 762.8208)\n",
            "(3475.0867, 3723.6334)\n",
            "(572.78687, 1207.5752)\n",
            "(2988.507, 1652.9954)\n",
            "(553.7116, 538.4462)\n",
            "(3108.2441, 6708.4148)\n",
            "(825.6302, 567.0756)\n",
            "(2036.5554, 622.337)\n",
            "(2771.777, 3641.74)\n",
            "(1400.142, 1923.976)\n",
            "(3160.7358, 1718.9096)\n",
            "(4331.4062, 5513.9696)\n",
            "(2592.0667, 1236.2046)\n",
            "(1734.0966, 541.7752)\n",
            "(3006.5818, 5015.9512)\n",
            "(3233.1501, 4601.1578)\n",
            "(3375.301, 5314.2296)\n",
            "(2252.5378, 2617.7396)\n",
            "(3049.272, 1357.3802)\n",
            "(1442.706, 1814.7848)\n",
            "(729.2507, 978.54)\n",
            "(1822.1661, 1958.5976)\n",
            "(2007.1836, 3055.836)\n",
            "(3286.6323, 4173.7142)\n",
            "(326.531, 239.502)\n",
            "(3956.9653, 3226.2808)\n",
            "(1968.9485, 1923.976)\n",
            "(1725.4467, 1621.037)\n",
            "(1738.4595, 1559.1176)\n",
            "(2805.7336, 648.3032)\n",
            "(3084.0781, 3049.178)\n",
            "(1246.1965, 2270.192)\n",
            "(1787.6378, 1251.518)\n",
            "(3261.2466, 1833.4272)\n",
            "(439.82224, 255.4812)\n",
            "(3037.9106, 2094.4208)\n",
            "(3260.6968, 5828.2272)\n",
            "(3152.6719, 1957.266)\n",
            "(2178.7312, 979.8716)\n",
            "(831.29346, 871.3462)\n",
            "(3210.3557, 3259.5708)\n",
            "(1243.0105, 551.0964)\n",
            "(2891.068, 429.9208)\n",
            "(2023.5477, 1555.7886)\n",
            "(1282.8223, 736.1888)\n",
            "(4214.0327, 7360.233)\n",
            "(1269.5684, 2485.9112)\n",
            "(3501.7688, 2048.4806)\n",
            "(1027.1135, 1165.6298)\n",
            "(3238.19, 6292.9556)\n",
            "(2132.0217, 1098.384)\n",
            "(2213.3167, 963.8924)\n",
            "(2780.6284, 1834.093)\n",
            "(2215.839, 2038.4936)\n",
            "(3532.2583, 5380.1438)\n",
            "(3804.2449, 4033.2304)\n",
            "(2260.004, 1686.9512)\n",
            "(1598.0271, 1078.41)\n",
            "(325.8413, 288.7712)\n",
            "(4286.6426, 6414.1312)\n",
            "(794.2473, 554.4254)\n",
            "(3001.8723, 3049.178)\n",
            "(2602.9155, 1999.8772)\n",
            "(742.4903, 1074.4152)\n",
            "(1681.5991, 1689.6144)\n",
            "(3258.5173, 4544.5648)\n",
            "(2302.5698, 772.1419999999998)\n",
            "(3278.0205, 706.2278)\n",
            "(2701.3083, 1175.6168)\n",
            "(1879.3119, 1071.752)\n",
            "(3995.1692, 7565.9652)\n",
            "(1048.808, 603.0288)\n",
            "(1359.8824, 1455.2528)\n",
            "(3059.193, 2839.451)\n",
            "(3285.9302, 4375.4516)\n",
            "(2330.4592, 2693.6408)\n",
            "(1009.32605, 1150.3164)\n",
            "(1950.4404, 1119.6896)\n",
            "(3071.5935, 2872.0752)\n",
            "(2738.3833, 2380.049)\n",
            "(2346.8972, 4535.2436)\n",
            "(3659.5876, 2934.6604)\n",
            "(3973.7864, 6105.2)\n",
            "(2971.0032, 2629.724)\n",
            "(1759.793, 1095.7208)\n",
            "(849.8616, 427.2576)\n",
            "(2112.0757, 1934.6288)\n",
            "(2395.7744, 3803.5294)\n",
            "(1944.0571, 2195.6224)\n",
            "(1580.3766, 1307.4452)\n",
            "(2865.2932, 2674.9984)\n",
            "(3310.0845, 5272.2842)\n",
            "(3037.099, 4124.445)\n",
            "(2696.7969, 2014.5248)\n",
            "(1198.2826, 832.064)\n",
            "(3845.9253, 4572.5284)\n",
            "(2217.1895, 3286.8686)\n",
            "(2489.6892, 3121.0844)\n",
            "(1144.357, 935.263)\n",
            "(1591.0442, 2970.6136)\n",
            "(2039.5024, 1404.652)\n",
            "(2527.7837, 3237.5994)\n",
            "(3831.2312, 2653.6928)\n",
            "(3867.7244, 4097.813)\n",
            "(663.9347, 182.2432)\n",
            "(2604.1428, 3636.4136)\n",
            "(2857.17, 2722.936)\n",
            "(1649.6934, 1601.063)\n",
            "(745.5197, 312.74)\n",
            "(520.15906, 344.6984)\n",
            "(4036.5137, 2925.3392)\n",
            "(3304.7007, 1348.059)\n",
            "(237.62328, 270.1288)\n",
            "(3022.1372, 4155.7376)\n",
            "(988.447, 995.8508)\n",
            "(2741.6516, 2709.62)\n",
            "(538.1345, 272.79200000000003)\n",
            "(4629.3667, 5537.9384)\n",
            "(2760.4695, 1921.9786)\n",
            "(3141.375, 2683.6538)\n",
            "(2291.1233, 1497.1982)\n",
            "(636.2513, 281.4474)\n",
            "(815.53894, 322.7270000000001)\n",
            "(1614.6917, 2478.5874)\n"
          ],
          "name": "stdout"
        }
      ]
    },
    {
      "cell_type": "code",
      "metadata": {
        "id": "Bw6-N6va8ele",
        "colab_type": "code",
        "colab": {}
      },
      "source": [
        ""
      ],
      "execution_count": 0,
      "outputs": []
    }
  ]
}
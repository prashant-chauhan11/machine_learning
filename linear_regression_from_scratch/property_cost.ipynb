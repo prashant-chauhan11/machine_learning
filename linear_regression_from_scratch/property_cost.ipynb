{
  "nbformat": 4,
  "nbformat_minor": 0,
  "metadata": {
    "kernelspec": {
      "name": "python3",
      "display_name": "Python 3"
    },
    "language_info": {
      "codemirror_mode": {
        "name": "ipython",
        "version": 3
      },
      "file_extension": ".py",
      "mimetype": "text/x-python",
      "name": "python",
      "nbconvert_exporter": "python",
      "pygments_lexer": "ipython3",
      "version": "3.6.8"
    },
    "colab": {
      "name": "property cost.ipynb",
      "version": "0.3.2",
      "provenance": [],
      "collapsed_sections": [],
      "include_colab_link": true
    },
    "accelerator": "TPU"
  },
  "cells": [
    {
      "cell_type": "markdown",
      "metadata": {
        "id": "view-in-github",
        "colab_type": "text"
      },
      "source": [
        "<a href=\"https://colab.research.google.com/github/prashant-chauhan11/machine_learning/blob/master/linear_regression_from_scratch/property_cost.ipynb\" target=\"_parent\"><img src=\"https://colab.research.google.com/assets/colab-badge.svg\" alt=\"Open In Colab\"/></a>"
      ]
    },
    {
      "cell_type": "code",
      "metadata": {
        "id": "9AiIPskXphbl",
        "colab_type": "code",
        "colab": {}
      },
      "source": [
        "import pandas as pd\n",
        "import numpy as np\n",
        "from sklearn import linear_model, metrics\n",
        "import matplotlib.pyplot as plt\n",
        "\n",
        "%matplotlib inline"
      ],
      "execution_count": 0,
      "outputs": []
    },
    {
      "cell_type": "code",
      "metadata": {
        "id": "7Wc9Q3qIphbr",
        "colab_type": "code",
        "outputId": "53f97880-d8cb-4f0e-cc96-ef8c9706708f",
        "colab": {
          "base_uri": "https://localhost:8080/",
          "height": 204
        }
      },
      "source": [
        "data = pd.read_csv(\"property_cost_2002.csv\")\n",
        "data[\"X0\"] = 1\n",
        "data.head()"
      ],
      "execution_count": 29,
      "outputs": [
        {
          "output_type": "execute_result",
          "data": {
            "text/html": [
              "<div>\n",
              "<style scoped>\n",
              "    .dataframe tbody tr th:only-of-type {\n",
              "        vertical-align: middle;\n",
              "    }\n",
              "\n",
              "    .dataframe tbody tr th {\n",
              "        vertical-align: top;\n",
              "    }\n",
              "\n",
              "    .dataframe thead th {\n",
              "        text-align: right;\n",
              "    }\n",
              "</style>\n",
              "<table border=\"1\" class=\"dataframe\">\n",
              "  <thead>\n",
              "    <tr style=\"text-align: right;\">\n",
              "      <th></th>\n",
              "      <th>Population_income</th>\n",
              "      <th>Property_age</th>\n",
              "      <th>property_plot</th>\n",
              "      <th>Room_per_plot</th>\n",
              "      <th>City_population</th>\n",
              "      <th>Property_price</th>\n",
              "      <th>X0</th>\n",
              "    </tr>\n",
              "  </thead>\n",
              "  <tbody>\n",
              "    <tr>\n",
              "      <th>0</th>\n",
              "      <td>56974.47654</td>\n",
              "      <td>8.287562</td>\n",
              "      <td>7.312880</td>\n",
              "      <td>4.33</td>\n",
              "      <td>40694.86951</td>\n",
              "      <td>1.453975e+06</td>\n",
              "      <td>1</td>\n",
              "    </tr>\n",
              "    <tr>\n",
              "      <th>1</th>\n",
              "      <td>82173.62608</td>\n",
              "      <td>4.018525</td>\n",
              "      <td>6.992699</td>\n",
              "      <td>2.03</td>\n",
              "      <td>38853.91807</td>\n",
              "      <td>1.125693e+06</td>\n",
              "      <td>1</td>\n",
              "    </tr>\n",
              "    <tr>\n",
              "      <th>2</th>\n",
              "      <td>64626.88098</td>\n",
              "      <td>5.443360</td>\n",
              "      <td>6.988754</td>\n",
              "      <td>4.00</td>\n",
              "      <td>27784.74228</td>\n",
              "      <td>9.754295e+05</td>\n",
              "      <td>1</td>\n",
              "    </tr>\n",
              "    <tr>\n",
              "      <th>3</th>\n",
              "      <td>90499.05745</td>\n",
              "      <td>6.384359</td>\n",
              "      <td>4.242191</td>\n",
              "      <td>3.04</td>\n",
              "      <td>33970.16499</td>\n",
              "      <td>1.240764e+06</td>\n",
              "      <td>1</td>\n",
              "    </tr>\n",
              "    <tr>\n",
              "      <th>4</th>\n",
              "      <td>59323.79210</td>\n",
              "      <td>6.977828</td>\n",
              "      <td>8.273697</td>\n",
              "      <td>4.07</td>\n",
              "      <td>37520.65773</td>\n",
              "      <td>1.577018e+06</td>\n",
              "      <td>1</td>\n",
              "    </tr>\n",
              "  </tbody>\n",
              "</table>\n",
              "</div>"
            ],
            "text/plain": [
              "   Population_income  Property_age  ...  Property_price  X0\n",
              "0        56974.47654      8.287562  ...    1.453975e+06   1\n",
              "1        82173.62608      4.018525  ...    1.125693e+06   1\n",
              "2        64626.88098      5.443360  ...    9.754295e+05   1\n",
              "3        90499.05745      6.384359  ...    1.240764e+06   1\n",
              "4        59323.79210      6.977828  ...    1.577018e+06   1\n",
              "\n",
              "[5 rows x 7 columns]"
            ]
          },
          "metadata": {
            "tags": []
          },
          "execution_count": 29
        }
      ]
    },
    {
      "cell_type": "code",
      "metadata": {
        "id": "9oRIbX75phby",
        "colab_type": "code",
        "colab": {}
      },
      "source": [
        "def normalize(X):\n",
        "    \n",
        "    minim = np.min(X)\n",
        "    maxim = np.max(X)\n",
        "    \n",
        "    rng = maxim - minim\n",
        "    norm_X = 1-((maxim - X)/rng)\n",
        "    \n",
        "    return norm_X"
      ],
      "execution_count": 0,
      "outputs": []
    },
    {
      "cell_type": "code",
      "metadata": {
        "id": "oBovchDdphb4",
        "colab_type": "code",
        "outputId": "b0d008e0-e8c2-45de-cf12-13c7703331b5",
        "colab": {
          "base_uri": "https://localhost:8080/",
          "height": 204
        }
      },
      "source": [
        "data[\"Population_income\"] = normalize(data[[\"Population_income\"]])\n",
        "data[\"Property_age\"] = normalize(data[[\"Property_age\"]])\n",
        "data[\"City_population\"] = normalize(data[[\"City_population\"]])\n",
        "data.head()"
      ],
      "execution_count": 31,
      "outputs": [
        {
          "output_type": "execute_result",
          "data": {
            "text/html": [
              "<div>\n",
              "<style scoped>\n",
              "    .dataframe tbody tr th:only-of-type {\n",
              "        vertical-align: middle;\n",
              "    }\n",
              "\n",
              "    .dataframe tbody tr th {\n",
              "        vertical-align: top;\n",
              "    }\n",
              "\n",
              "    .dataframe thead th {\n",
              "        text-align: right;\n",
              "    }\n",
              "</style>\n",
              "<table border=\"1\" class=\"dataframe\">\n",
              "  <thead>\n",
              "    <tr style=\"text-align: right;\">\n",
              "      <th></th>\n",
              "      <th>Population_income</th>\n",
              "      <th>Property_age</th>\n",
              "      <th>property_plot</th>\n",
              "      <th>Room_per_plot</th>\n",
              "      <th>City_population</th>\n",
              "      <th>Property_price</th>\n",
              "      <th>X0</th>\n",
              "    </tr>\n",
              "  </thead>\n",
              "  <tbody>\n",
              "    <tr>\n",
              "      <th>0</th>\n",
              "      <td>0.435769</td>\n",
              "      <td>0.820863</td>\n",
              "      <td>7.312880</td>\n",
              "      <td>4.33</td>\n",
              "      <td>0.583481</td>\n",
              "      <td>1.453975e+06</td>\n",
              "      <td>1</td>\n",
              "    </tr>\n",
              "    <tr>\n",
              "      <th>1</th>\n",
              "      <td>0.716055</td>\n",
              "      <td>0.199893</td>\n",
              "      <td>6.992699</td>\n",
              "      <td>2.03</td>\n",
              "      <td>0.556973</td>\n",
              "      <td>1.125693e+06</td>\n",
              "      <td>1</td>\n",
              "    </tr>\n",
              "    <tr>\n",
              "      <th>2</th>\n",
              "      <td>0.520885</td>\n",
              "      <td>0.407148</td>\n",
              "      <td>6.988754</td>\n",
              "      <td>4.00</td>\n",
              "      <td>0.397588</td>\n",
              "      <td>9.754295e+05</td>\n",
              "      <td>1</td>\n",
              "    </tr>\n",
              "    <tr>\n",
              "      <th>3</th>\n",
              "      <td>0.808657</td>\n",
              "      <td>0.544025</td>\n",
              "      <td>4.242191</td>\n",
              "      <td>3.04</td>\n",
              "      <td>0.486652</td>\n",
              "      <td>1.240764e+06</td>\n",
              "      <td>1</td>\n",
              "    </tr>\n",
              "    <tr>\n",
              "      <th>4</th>\n",
              "      <td>0.461900</td>\n",
              "      <td>0.630351</td>\n",
              "      <td>8.273697</td>\n",
              "      <td>4.07</td>\n",
              "      <td>0.537776</td>\n",
              "      <td>1.577018e+06</td>\n",
              "      <td>1</td>\n",
              "    </tr>\n",
              "  </tbody>\n",
              "</table>\n",
              "</div>"
            ],
            "text/plain": [
              "   Population_income  Property_age  ...  Property_price  X0\n",
              "0           0.435769      0.820863  ...    1.453975e+06   1\n",
              "1           0.716055      0.199893  ...    1.125693e+06   1\n",
              "2           0.520885      0.407148  ...    9.754295e+05   1\n",
              "3           0.808657      0.544025  ...    1.240764e+06   1\n",
              "4           0.461900      0.630351  ...    1.577018e+06   1\n",
              "\n",
              "[5 rows x 7 columns]"
            ]
          },
          "metadata": {
            "tags": []
          },
          "execution_count": 31
        }
      ]
    },
    {
      "cell_type": "code",
      "metadata": {
        "id": "MErivexuphb9",
        "colab_type": "code",
        "colab": {}
      },
      "source": [
        "X = np.asanyarray(data[[\"X0\", \"Population_income\", \"Property_age\", \"property_plot\", \"City_population\"]])\n",
        "X_train = X[:-250]\n",
        "X_test = X[-250:]"
      ],
      "execution_count": 0,
      "outputs": []
    },
    {
      "cell_type": "code",
      "metadata": {
        "id": "s6Gc2p6fphcC",
        "colab_type": "code",
        "colab": {}
      },
      "source": [
        "Y = np.asanyarray(data[[\"Property_price\"]])\n",
        "Y_train = Y[:-250]\n",
        "Y_test = Y[-250:]"
      ],
      "execution_count": 0,
      "outputs": []
    },
    {
      "cell_type": "code",
      "metadata": {
        "id": "GvopCtE8phcG",
        "colab_type": "code",
        "colab": {}
      },
      "source": [
        "b = np.array([0, 0, 0, 0, 0]).reshape(1,5)"
      ],
      "execution_count": 0,
      "outputs": []
    },
    {
      "cell_type": "code",
      "metadata": {
        "id": "1rBEl4i3phcW",
        "colab_type": "code",
        "colab": {}
      },
      "source": [
        "def Y_hat(X, b):\n",
        "    return np.dot(X, b.T)"
      ],
      "execution_count": 0,
      "outputs": []
    },
    {
      "cell_type": "code",
      "metadata": {
        "id": "mFBvCCnXphca",
        "colab_type": "code",
        "colab": {}
      },
      "source": [
        "def cost(X, Y, b):\n",
        "    m = len(Y)\n",
        "    return ((1/(2*m))*np.sum((Y - Y_hat(X, b))**2))"
      ],
      "execution_count": 0,
      "outputs": []
    },
    {
      "cell_type": "code",
      "metadata": {
        "id": "pwwCwSvVphcf",
        "colab_type": "code",
        "colab": {}
      },
      "source": [
        "def MSEGradient(b, X, Y):\n",
        "    m = len(Y)\n",
        "    return ((1/m)*np.sum(((Y_hat(X, b)-Y)*X), axis = 0))"
      ],
      "execution_count": 0,
      "outputs": []
    },
    {
      "cell_type": "code",
      "metadata": {
        "id": "x7dXbR3sphcp",
        "colab_type": "code",
        "colab": {}
      },
      "source": [
        "def grad(X, Y, b, learning_rate = 0.005, iteration = 100000):\n",
        "    c = cost(X, Y, b)\n",
        "    change_cost = 1\n",
        "    num_iter = 1\n",
        "    \n",
        "    while(num_iter<iteration):\n",
        "        old_cost = c\n",
        "        b = b - learning_rate*MSEGradient(b, X, Y)\n",
        "        c = cost(X, Y, b)\n",
        "        change_cost = old_cost - c\n",
        "        num_iter += 1\n",
        "    \n",
        "    return b, num_iter"
      ],
      "execution_count": 0,
      "outputs": []
    },
    {
      "cell_type": "code",
      "metadata": {
        "id": "ANfuT9xVphcu",
        "colab_type": "code",
        "colab": {}
      },
      "source": [
        "b, num_iter = grad(X_train, Y_train, b)"
      ],
      "execution_count": 0,
      "outputs": []
    },
    {
      "cell_type": "code",
      "metadata": {
        "id": "gtPa-ULtphcz",
        "colab_type": "code",
        "outputId": "4792d4af-6341-41f3-a2b5-f0cbb880c078",
        "colab": {
          "base_uri": "https://localhost:8080/",
          "height": 34
        }
      },
      "source": [
        "num_iter"
      ],
      "execution_count": 40,
      "outputs": [
        {
          "output_type": "execute_result",
          "data": {
            "text/plain": [
              "100000"
            ]
          },
          "metadata": {
            "tags": []
          },
          "execution_count": 40
        }
      ]
    },
    {
      "cell_type": "code",
      "metadata": {
        "id": "AxkSlMFHphc3",
        "colab_type": "code",
        "outputId": "6783d3b2-dc93-474b-e387-83649fb61055",
        "colab": {
          "base_uri": "https://localhost:8080/",
          "height": 34
        }
      },
      "source": [
        "Y_h = Y_hat(X_test, b)\n",
        "type(Y_test)"
      ],
      "execution_count": 41,
      "outputs": [
        {
          "output_type": "execute_result",
          "data": {
            "text/plain": [
              "numpy.ndarray"
            ]
          },
          "metadata": {
            "tags": []
          },
          "execution_count": 41
        }
      ]
    },
    {
      "cell_type": "code",
      "metadata": {
        "id": "JIKLQMh2phc7",
        "colab_type": "code",
        "outputId": "cb4a2ba8-7471-4f11-a4ab-6d709f65c578",
        "colab": {
          "base_uri": "https://localhost:8080/",
          "height": 51
        }
      },
      "source": [
        "b"
      ],
      "execution_count": 42,
      "outputs": [
        {
          "output_type": "execute_result",
          "data": {
            "text/plain": [
              "array([[-1750188.51195139,  1901593.00912881,  1120563.5364812 ,\n",
              "          118625.18776536,  1036511.16624717]])"
            ]
          },
          "metadata": {
            "tags": []
          },
          "execution_count": 42
        }
      ]
    },
    {
      "cell_type": "code",
      "metadata": {
        "id": "jb6UkDntphc_",
        "colab_type": "code",
        "outputId": "1c040f8f-519a-4e5c-a533-7f9a20248de3",
        "colab": {
          "base_uri": "https://localhost:8080/",
          "height": 34
        }
      },
      "source": [
        "b.shape"
      ],
      "execution_count": 43,
      "outputs": [
        {
          "output_type": "execute_result",
          "data": {
            "text/plain": [
              "(1, 5)"
            ]
          },
          "metadata": {
            "tags": []
          },
          "execution_count": 43
        }
      ]
    },
    {
      "cell_type": "code",
      "metadata": {
        "id": "7T3leSHmqM1-",
        "colab_type": "code",
        "colab": {
          "base_uri": "https://localhost:8080/",
          "height": 1000
        },
        "outputId": "ca1af91a-a253-4785-ea09-b2b45fa5a289"
      },
      "source": [
        "pred = np.dot(X_test,b.T)\n",
        "pred"
      ],
      "execution_count": 49,
      "outputs": [
        {
          "output_type": "execute_result",
          "data": {
            "text/plain": [
              "array([[ 890047.97878307],\n",
              "       [1102349.52576643],\n",
              "       [1759668.20485263],\n",
              "       [ 918197.57304425],\n",
              "       [ 961056.25380191],\n",
              "       [ 948771.82907047],\n",
              "       [1637464.46630187],\n",
              "       [1076126.68450836],\n",
              "       [1237271.54194991],\n",
              "       [1548900.90669206],\n",
              "       [1221713.90799182],\n",
              "       [1001392.67832213],\n",
              "       [ 842588.56810949],\n",
              "       [1430453.66036495],\n",
              "       [1676716.83176797],\n",
              "       [1014881.02392454],\n",
              "       [1391908.49207634],\n",
              "       [1577650.86553203],\n",
              "       [1197281.8079983 ],\n",
              "       [ 717114.82555241],\n",
              "       [1341637.92151082],\n",
              "       [ 984561.03997038],\n",
              "       [ 644838.31548117],\n",
              "       [ 747076.48406752],\n",
              "       [1294396.28398035],\n",
              "       [1298127.80587388],\n",
              "       [1031600.44664507],\n",
              "       [1052376.6075989 ],\n",
              "       [1146339.76210927],\n",
              "       [1325692.91882556],\n",
              "       [1585965.30689682],\n",
              "       [1616471.37072757],\n",
              "       [1695444.22584117],\n",
              "       [1581913.87458738],\n",
              "       [ 849703.4443723 ],\n",
              "       [ 986175.43921209],\n",
              "       [1480342.0048904 ],\n",
              "       [ 639769.90375531],\n",
              "       [1518993.75573673],\n",
              "       [1060545.45345087],\n",
              "       [1451170.41557114],\n",
              "       [1145095.12809601],\n",
              "       [1137614.23934764],\n",
              "       [1155752.60429533],\n",
              "       [1444761.31438319],\n",
              "       [1244701.19609973],\n",
              "       [1216970.68929153],\n",
              "       [1481889.54202192],\n",
              "       [ 827453.34983071],\n",
              "       [ 713132.95672034],\n",
              "       [1357127.0272961 ],\n",
              "       [1349256.85087924],\n",
              "       [1340422.34527084],\n",
              "       [1522549.86653413],\n",
              "       [ 676286.22765648],\n",
              "       [1125839.78797538],\n",
              "       [1141144.82551673],\n",
              "       [1575680.15513076],\n",
              "       [1146818.62426221],\n",
              "       [1102766.1998775 ],\n",
              "       [1238839.72663184],\n",
              "       [ 971135.6710376 ],\n",
              "       [ 834795.21500586],\n",
              "       [ 875370.74554438],\n",
              "       [1333325.37891107],\n",
              "       [1378799.00138663],\n",
              "       [1573495.06836277],\n",
              "       [ 678522.32408231],\n",
              "       [1635195.89897721],\n",
              "       [ 869230.98423211],\n",
              "       [ 642791.21253186],\n",
              "       [1392411.85677297],\n",
              "       [1203913.1438732 ],\n",
              "       [1002043.67625074],\n",
              "       [ 807069.52588649],\n",
              "       [1298263.89773266],\n",
              "       [1235460.03499979],\n",
              "       [1055222.63046626],\n",
              "       [1864985.73502303],\n",
              "       [1315846.16707735],\n",
              "       [1206058.05632749],\n",
              "       [1502910.27429859],\n",
              "       [1411739.13574426],\n",
              "       [1658966.96777808],\n",
              "       [1075904.79240389],\n",
              "       [1183281.30283739],\n",
              "       [ 914386.76037711],\n",
              "       [1574764.90230559],\n",
              "       [1183497.76670445],\n",
              "       [1609804.52161791],\n",
              "       [1280200.14719824],\n",
              "       [1491624.10461878],\n",
              "       [1429940.16125076],\n",
              "       [1370463.47741182],\n",
              "       [ 709581.33612165],\n",
              "       [1442916.06179245],\n",
              "       [1373430.6265741 ],\n",
              "       [1444604.70728471],\n",
              "       [ 847961.88436964],\n",
              "       [1041619.72742485],\n",
              "       [1386303.06296213],\n",
              "       [ 728306.92077182],\n",
              "       [1410776.23731532],\n",
              "       [1547885.2472562 ],\n",
              "       [1104052.46225427],\n",
              "       [ 396138.76309851],\n",
              "       [1048340.38098295],\n",
              "       [1242514.67559055],\n",
              "       [1498914.68859936],\n",
              "       [1735289.52252011],\n",
              "       [1183083.46004612],\n",
              "       [1050997.25059026],\n",
              "       [1448993.58588422],\n",
              "       [1586662.68228435],\n",
              "       [1385955.7561686 ],\n",
              "       [ 967230.05720794],\n",
              "       [1230730.07167544],\n",
              "       [1442199.49522036],\n",
              "       [1444393.74413662],\n",
              "       [1153296.49319744],\n",
              "       [1208716.10454171],\n",
              "       [1025014.89986827],\n",
              "       [1588532.00303699],\n",
              "       [1095822.64017637],\n",
              "       [1318278.28431643],\n",
              "       [1167341.14583028],\n",
              "       [ 653799.75180157],\n",
              "       [ 877989.8914228 ],\n",
              "       [1839708.08981872],\n",
              "       [1084909.88686563],\n",
              "       [1111475.91879414],\n",
              "       [1670021.72225621],\n",
              "       [1152693.83253567],\n",
              "       [1359956.21501933],\n",
              "       [1194388.21161397],\n",
              "       [1580568.24078972],\n",
              "       [1004715.86526996],\n",
              "       [1086398.34311384],\n",
              "       [1447377.45894992],\n",
              "       [ 549660.49758293],\n",
              "       [1356708.68841097],\n",
              "       [1227499.53405526],\n",
              "       [1212022.90922086],\n",
              "       [1503118.68846819],\n",
              "       [1193856.20859369],\n",
              "       [1216731.63511761],\n",
              "       [1498778.24354341],\n",
              "       [1110496.35933101],\n",
              "       [ 563912.11039671],\n",
              "       [1293722.58067948],\n",
              "       [ 991585.62438632],\n",
              "       [1147664.55023012],\n",
              "       [1485429.61324368],\n",
              "       [1206996.07768431],\n",
              "       [1412126.49905466],\n",
              "       [1720221.23716834],\n",
              "       [1104282.15887824],\n",
              "       [1210967.34757533],\n",
              "       [1314060.21102498],\n",
              "       [1316508.7796217 ],\n",
              "       [1499499.37347989],\n",
              "       [1501867.557527  ],\n",
              "       [1132421.83560336],\n",
              "       [1805602.1567868 ],\n",
              "       [1388317.10830658],\n",
              "       [1409202.73991879],\n",
              "       [1509582.3966619 ],\n",
              "       [1035864.61670717],\n",
              "       [1598034.25303736],\n",
              "       [1118907.30977344],\n",
              "       [1040165.46369991],\n",
              "       [1540939.39452404],\n",
              "       [1738068.77479983],\n",
              "       [1236368.4586589 ],\n",
              "       [1709111.36771744],\n",
              "       [1513970.65406138],\n",
              "       [ 941436.28450014],\n",
              "       [1105574.28895656],\n",
              "       [ 581021.53713395],\n",
              "       [1735863.52138776],\n",
              "       [ 871676.27739016],\n",
              "       [1659436.0245915 ],\n",
              "       [1110240.85164653],\n",
              "       [ 918258.90456166],\n",
              "       [1157737.54358523],\n",
              "       [ 994572.9655012 ],\n",
              "       [1209756.51464805],\n",
              "       [1238078.42054495],\n",
              "       [1391020.62056627],\n",
              "       [ 930939.56347493],\n",
              "       [1555051.16825772],\n",
              "       [ 648341.25025459],\n",
              "       [ 848796.79687296],\n",
              "       [1220403.69822347],\n",
              "       [1011006.40689613],\n",
              "       [ 928019.31553142],\n",
              "       [ 782964.34718479],\n",
              "       [1349453.45842825],\n",
              "       [ 857702.42632533],\n",
              "       [1361975.41951775],\n",
              "       [1412412.97790157],\n",
              "       [ 709487.10916818],\n",
              "       [1738232.55283056],\n",
              "       [1243779.41957341],\n",
              "       [ 955159.75923635],\n",
              "       [1516303.7076097 ],\n",
              "       [1234989.45739667],\n",
              "       [1615045.84670109],\n",
              "       [1266191.46421606],\n",
              "       [2113159.66211168],\n",
              "       [1629308.04453394],\n",
              "       [1051348.88872124],\n",
              "       [2019452.95651478],\n",
              "       [1539265.30940042],\n",
              "       [1495243.95898224],\n",
              "       [1584389.76748754],\n",
              "       [1750182.13246628],\n",
              "       [1088122.53229339],\n",
              "       [1120712.84854719],\n",
              "       [1183607.45141455],\n",
              "       [1070959.12356712],\n",
              "       [ 921785.3770205 ],\n",
              "       [1795598.32025942],\n",
              "       [1324735.6025833 ],\n",
              "       [ 864824.44634852],\n",
              "       [1218260.59907287],\n",
              "       [1333408.73035981],\n",
              "       [1424431.67200992],\n",
              "       [1851661.50660489],\n",
              "       [1911456.04182992],\n",
              "       [1561565.2793348 ],\n",
              "       [1185332.64993181],\n",
              "       [1082686.61912944],\n",
              "       [1383638.9163665 ],\n",
              "       [1155180.56268387],\n",
              "       [1444420.24732698],\n",
              "       [1251357.69018396],\n",
              "       [1042295.46200359],\n",
              "       [1360020.74191094],\n",
              "       [ 943619.99077369],\n",
              "       [ 628364.10454555],\n",
              "       [1199680.74538601],\n",
              "       [1517089.80439948],\n",
              "       [1458441.42345653],\n",
              "       [ 935493.29604476],\n",
              "       [1066090.917434  ],\n",
              "       [1403299.27599185],\n",
              "       [1028900.1639705 ],\n",
              "       [1262184.93124469],\n",
              "       [1301912.36135117]])"
            ]
          },
          "metadata": {
            "tags": []
          },
          "execution_count": 49
        }
      ]
    },
    {
      "cell_type": "code",
      "metadata": {
        "id": "f1TUYoSmqRXT",
        "colab_type": "code",
        "outputId": "ddfee137-a2b8-4eba-c84a-d52977c46f83",
        "colab": {
          "base_uri": "https://localhost:8080/",
          "height": 34
        }
      },
      "source": [
        "mae = (1/Y_test.shape[0])*np.sum(np.abs(Y_test-pred))\n",
        "mae"
      ],
      "execution_count": 46,
      "outputs": [
        {
          "output_type": "execute_result",
          "data": {
            "text/plain": [
              "78311.71916604611"
            ]
          },
          "metadata": {
            "tags": []
          },
          "execution_count": 46
        }
      ]
    }
  ]
}
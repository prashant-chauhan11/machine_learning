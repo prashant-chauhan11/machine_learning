{
  "nbformat": 4,
  "nbformat_minor": 0,
  "metadata": {
    "colab": {
      "name": "reg_1.ipynb",
      "version": "0.3.2",
      "provenance": [],
      "collapsed_sections": [],
      "include_colab_link": true
    },
    "kernelspec": {
      "name": "python3",
      "display_name": "Python 3"
    },
    "accelerator": "TPU"
  },
  "cells": [
    {
      "cell_type": "markdown",
      "metadata": {
        "id": "view-in-github",
        "colab_type": "text"
      },
      "source": [
        "<a href=\"https://colab.research.google.com/github/prashant-chauhan11/machine_learning/blob/master/housing/housing.ipynb\" target=\"_parent\"><img src=\"https://colab.research.google.com/assets/colab-badge.svg\" alt=\"Open In Colab\"/></a>"
      ]
    },
    {
      "cell_type": "code",
      "metadata": {
        "id": "Uy83iQtgCGek",
        "colab_type": "code",
        "colab": {}
      },
      "source": [
        "import pandas as pd\n",
        "import numpy as np\n",
        "from sklearn.preprocessing import LabelEncoder"
      ],
      "execution_count": 0,
      "outputs": []
    },
    {
      "cell_type": "code",
      "metadata": {
        "id": "vmNuw8AyDoN1",
        "colab_type": "code",
        "colab": {}
      },
      "source": [
        "df = pd.read_csv(\"housing_train.csv\")"
      ],
      "execution_count": 0,
      "outputs": []
    },
    {
      "cell_type": "code",
      "metadata": {
        "id": "jB0dZ5ixDzMo",
        "colab_type": "code",
        "outputId": "51843085-365e-4e0f-da51-f9d62f16f270",
        "colab": {
          "base_uri": "https://localhost:8080/",
          "height": 339
        }
      },
      "source": [
        "df.head()"
      ],
      "execution_count": 0,
      "outputs": [
        {
          "output_type": "execute_result",
          "data": {
            "text/html": [
              "<div>\n",
              "<style scoped>\n",
              "    .dataframe tbody tr th:only-of-type {\n",
              "        vertical-align: middle;\n",
              "    }\n",
              "\n",
              "    .dataframe tbody tr th {\n",
              "        vertical-align: top;\n",
              "    }\n",
              "\n",
              "    .dataframe thead th {\n",
              "        text-align: right;\n",
              "    }\n",
              "</style>\n",
              "<table border=\"1\" class=\"dataframe\">\n",
              "  <thead>\n",
              "    <tr style=\"text-align: right;\">\n",
              "      <th></th>\n",
              "      <th>Suburb</th>\n",
              "      <th>Address</th>\n",
              "      <th>Rooms</th>\n",
              "      <th>Type</th>\n",
              "      <th>Price</th>\n",
              "      <th>Method</th>\n",
              "      <th>SellerG</th>\n",
              "      <th>Distance</th>\n",
              "      <th>Postcode</th>\n",
              "      <th>Bedroom2</th>\n",
              "      <th>Bathroom</th>\n",
              "      <th>Car</th>\n",
              "      <th>Landsize</th>\n",
              "      <th>BuildingArea</th>\n",
              "      <th>YearBuilt</th>\n",
              "      <th>CouncilArea</th>\n",
              "    </tr>\n",
              "  </thead>\n",
              "  <tbody>\n",
              "    <tr>\n",
              "      <th>0</th>\n",
              "      <td>Brunswick</td>\n",
              "      <td>52 Evans St</td>\n",
              "      <td>3</td>\n",
              "      <td>h</td>\n",
              "      <td>1650000</td>\n",
              "      <td>S</td>\n",
              "      <td>Nelson</td>\n",
              "      <td>5.2</td>\n",
              "      <td>3056</td>\n",
              "      <td>3.0</td>\n",
              "      <td>1.0</td>\n",
              "      <td>2.0</td>\n",
              "      <td>495.0</td>\n",
              "      <td>141.0</td>\n",
              "      <td>1920.0</td>\n",
              "      <td>Moreland</td>\n",
              "    </tr>\n",
              "    <tr>\n",
              "      <th>1</th>\n",
              "      <td>Reservoir</td>\n",
              "      <td>85 Radford Rd</td>\n",
              "      <td>5</td>\n",
              "      <td>h</td>\n",
              "      <td>791000</td>\n",
              "      <td>S</td>\n",
              "      <td>Ray</td>\n",
              "      <td>11.2</td>\n",
              "      <td>3073</td>\n",
              "      <td>4.0</td>\n",
              "      <td>3.0</td>\n",
              "      <td>1.0</td>\n",
              "      <td>961.0</td>\n",
              "      <td>NaN</td>\n",
              "      <td>NaN</td>\n",
              "      <td>Darebin</td>\n",
              "    </tr>\n",
              "    <tr>\n",
              "      <th>2</th>\n",
              "      <td>Newport</td>\n",
              "      <td>99 Anderson St</td>\n",
              "      <td>3</td>\n",
              "      <td>h</td>\n",
              "      <td>785000</td>\n",
              "      <td>S</td>\n",
              "      <td>RT</td>\n",
              "      <td>8.4</td>\n",
              "      <td>3015</td>\n",
              "      <td>3.0</td>\n",
              "      <td>1.0</td>\n",
              "      <td>1.0</td>\n",
              "      <td>185.0</td>\n",
              "      <td>NaN</td>\n",
              "      <td>NaN</td>\n",
              "      <td>Hobsons Bay</td>\n",
              "    </tr>\n",
              "    <tr>\n",
              "      <th>3</th>\n",
              "      <td>Brighton East</td>\n",
              "      <td>4/377 South Rd</td>\n",
              "      <td>2</td>\n",
              "      <td>u</td>\n",
              "      <td>755000</td>\n",
              "      <td>SP</td>\n",
              "      <td>Buxton</td>\n",
              "      <td>10.7</td>\n",
              "      <td>3187</td>\n",
              "      <td>NaN</td>\n",
              "      <td>NaN</td>\n",
              "      <td>NaN</td>\n",
              "      <td>NaN</td>\n",
              "      <td>NaN</td>\n",
              "      <td>NaN</td>\n",
              "      <td>NaN</td>\n",
              "    </tr>\n",
              "    <tr>\n",
              "      <th>4</th>\n",
              "      <td>Hawthorn East</td>\n",
              "      <td>3 Jaques St</td>\n",
              "      <td>5</td>\n",
              "      <td>h</td>\n",
              "      <td>2500000</td>\n",
              "      <td>VB</td>\n",
              "      <td>RT</td>\n",
              "      <td>7.5</td>\n",
              "      <td>3123</td>\n",
              "      <td>5.0</td>\n",
              "      <td>3.0</td>\n",
              "      <td>3.0</td>\n",
              "      <td>757.0</td>\n",
              "      <td>240.0</td>\n",
              "      <td>1925.0</td>\n",
              "      <td>Boroondara</td>\n",
              "    </tr>\n",
              "  </tbody>\n",
              "</table>\n",
              "</div>"
            ],
            "text/plain": [
              "          Suburb         Address  Rooms  ... BuildingArea  YearBuilt  CouncilArea\n",
              "0      Brunswick     52 Evans St      3  ...        141.0     1920.0     Moreland\n",
              "1      Reservoir   85 Radford Rd      5  ...          NaN        NaN      Darebin\n",
              "2        Newport  99 Anderson St      3  ...          NaN        NaN  Hobsons Bay\n",
              "3  Brighton East  4/377 South Rd      2  ...          NaN        NaN          NaN\n",
              "4  Hawthorn East     3 Jaques St      5  ...        240.0     1925.0   Boroondara\n",
              "\n",
              "[5 rows x 16 columns]"
            ]
          },
          "metadata": {
            "tags": []
          },
          "execution_count": 475
        }
      ]
    },
    {
      "cell_type": "code",
      "metadata": {
        "id": "HY6woHwAEiP8",
        "colab_type": "code",
        "outputId": "0300e100-d703-4180-a6db-34c221c67669",
        "colab": {
          "base_uri": "https://localhost:8080/",
          "height": 326
        }
      },
      "source": [
        "df.nunique()"
      ],
      "execution_count": 0,
      "outputs": [
        {
          "output_type": "execute_result",
          "data": {
            "text/plain": [
              "Suburb           142\n",
              "Address         7468\n",
              "Rooms              9\n",
              "Type               3\n",
              "Price           1690\n",
              "Method             5\n",
              "SellerG          182\n",
              "Distance          93\n",
              "Postcode          94\n",
              "Bedroom2          10\n",
              "Bathroom           9\n",
              "Car                9\n",
              "Landsize        1100\n",
              "BuildingArea     386\n",
              "YearBuilt        131\n",
              "CouncilArea       19\n",
              "dtype: int64"
            ]
          },
          "metadata": {
            "tags": []
          },
          "execution_count": 476
        }
      ]
    },
    {
      "cell_type": "code",
      "metadata": {
        "id": "nJoWBpybq1GV",
        "colab_type": "code",
        "colab": {}
      },
      "source": [
        "enc = LabelEncoder()\n",
        "df['Suburb'] = enc.fit_transform(df['Suburb'].astype(str))\n",
        "df['SellerG'] = enc.fit_transform(df['SellerG'].astype(str))\n",
        "df['CouncilArea'] = enc.fit_transform(df['CouncilArea'].astype(str))"
      ],
      "execution_count": 0,
      "outputs": []
    },
    {
      "cell_type": "code",
      "metadata": {
        "id": "Vv_zbRQ5FJFj",
        "colab_type": "code",
        "colab": {}
      },
      "source": [
        "df.drop(['Address', 'Postcode', 'CouncilArea', 'SellerG', 'Landsize'], axis = 1, inplace = True)"
      ],
      "execution_count": 0,
      "outputs": []
    },
    {
      "cell_type": "code",
      "metadata": {
        "id": "nbqi7KvFY1Cz",
        "colab_type": "code",
        "outputId": "d74a0a44-b64a-4f2c-dc1f-52f6ddad0f2f",
        "colab": {
          "base_uri": "https://localhost:8080/",
          "height": 235
        }
      },
      "source": [
        "df.dtypes"
      ],
      "execution_count": 0,
      "outputs": [
        {
          "output_type": "execute_result",
          "data": {
            "text/plain": [
              "Suburb            int64\n",
              "Rooms             int64\n",
              "Type             object\n",
              "Price             int64\n",
              "Method           object\n",
              "Distance        float64\n",
              "Bedroom2        float64\n",
              "Bathroom        float64\n",
              "Car             float64\n",
              "BuildingArea    float64\n",
              "YearBuilt       float64\n",
              "dtype: object"
            ]
          },
          "metadata": {
            "tags": []
          },
          "execution_count": 479
        }
      ]
    },
    {
      "cell_type": "code",
      "metadata": {
        "id": "_vEPNiqBcOQp",
        "colab_type": "code",
        "outputId": "d961c690-8e66-4e5a-effb-ceedb80791b1",
        "colab": {
          "base_uri": "https://localhost:8080/",
          "height": 235
        }
      },
      "source": [
        "df.isnull().sum()"
      ],
      "execution_count": 0,
      "outputs": [
        {
          "output_type": "execute_result",
          "data": {
            "text/plain": [
              "Suburb             0\n",
              "Rooms              0\n",
              "Type               0\n",
              "Price              0\n",
              "Method             0\n",
              "Distance           0\n",
              "Bedroom2        1559\n",
              "Bathroom        1559\n",
              "Car             1559\n",
              "BuildingArea    4209\n",
              "YearBuilt       3717\n",
              "dtype: int64"
            ]
          },
          "metadata": {
            "tags": []
          },
          "execution_count": 480
        }
      ]
    },
    {
      "cell_type": "code",
      "metadata": {
        "id": "kE_ybi3Tccgs",
        "colab_type": "code",
        "colab": {}
      },
      "source": [
        "'''df = df[~df['Bedroom2'].isnull()]\n",
        "df = df[~df['Landsize'].isnull()]\n",
        "df.reset_index(drop = True)'''\n",
        "\n",
        "df.loc[df['Bedroom2'].isnull(), 'Bedroom2'] = df['Bedroom2'].median()\n",
        "#df.loc[df['Landsize'].isnull(), 'Landsize'] = df['Landsize'].mean()\n",
        "df.loc[df['Bathroom'].isnull(), 'Bathroom'] = df['Bathroom'].median()\n",
        "df.loc[df['Car'].isnull(), 'Car'] = df['Car'].median()\n",
        "df.loc[df['BuildingArea'].isnull(), 'BuildingArea'] = df['BuildingArea'].median()\n",
        "df.loc[df['YearBuilt'].isnull(), 'YearBuilt'] = df['YearBuilt'].median()"
      ],
      "execution_count": 0,
      "outputs": []
    },
    {
      "cell_type": "code",
      "metadata": {
        "id": "3h4IE1P4ggvN",
        "colab_type": "code",
        "outputId": "4f21f60b-bd18-4902-a0a4-039fc45f91de",
        "colab": {
          "base_uri": "https://localhost:8080/",
          "height": 235
        }
      },
      "source": [
        "df.isnull().sum()"
      ],
      "execution_count": 0,
      "outputs": [
        {
          "output_type": "execute_result",
          "data": {
            "text/plain": [
              "Suburb          0\n",
              "Rooms           0\n",
              "Type            0\n",
              "Price           0\n",
              "Method          0\n",
              "Distance        0\n",
              "Bedroom2        0\n",
              "Bathroom        0\n",
              "Car             0\n",
              "BuildingArea    0\n",
              "YearBuilt       0\n",
              "dtype: int64"
            ]
          },
          "metadata": {
            "tags": []
          },
          "execution_count": 482
        }
      ]
    },
    {
      "cell_type": "code",
      "metadata": {
        "id": "ZuFPaiR8SgEH",
        "colab_type": "code",
        "outputId": "5c5d5e23-19dc-4800-80e2-e5ce141b3f18",
        "colab": {
          "base_uri": "https://localhost:8080/",
          "height": 35
        }
      },
      "source": [
        "obj_column = df.select_dtypes(['object']).columns\n",
        "obj_column"
      ],
      "execution_count": 0,
      "outputs": [
        {
          "output_type": "execute_result",
          "data": {
            "text/plain": [
              "Index(['Type', 'Method'], dtype='object')"
            ]
          },
          "metadata": {
            "tags": []
          },
          "execution_count": 483
        }
      ]
    },
    {
      "cell_type": "code",
      "metadata": {
        "id": "NewUWVjgWOYC",
        "colab_type": "code",
        "colab": {}
      },
      "source": [
        "for col in obj_column:\n",
        "  k = df[col].unique()\n",
        "  for cat in k:\n",
        "    name = str(col)+'_'+str(cat)\n",
        "    df[name] = (df[col]==cat).astype(int)\n",
        "  del df[col]"
      ],
      "execution_count": 0,
      "outputs": []
    },
    {
      "cell_type": "code",
      "metadata": {
        "id": "ivvCki5zXuBt",
        "colab_type": "code",
        "outputId": "a1fea1e9-b7ed-4638-859f-bba4aa8ab721",
        "colab": {
          "base_uri": "https://localhost:8080/",
          "height": 35
        }
      },
      "source": [
        "df.shape"
      ],
      "execution_count": 0,
      "outputs": [
        {
          "output_type": "execute_result",
          "data": {
            "text/plain": [
              "(7536, 17)"
            ]
          },
          "metadata": {
            "tags": []
          },
          "execution_count": 485
        }
      ]
    },
    {
      "cell_type": "code",
      "metadata": {
        "id": "qexUdKSga2tK",
        "colab_type": "code",
        "colab": {}
      },
      "source": [
        "X, Y = df.drop(['Price'], axis = 1), df[\"Price\"]"
      ],
      "execution_count": 0,
      "outputs": []
    },
    {
      "cell_type": "code",
      "metadata": {
        "id": "4QLH0jnTaSAT",
        "colab_type": "code",
        "colab": {}
      },
      "source": [
        "from sklearn.model_selection import train_test_split\n",
        "from sklearn.linear_model import LinearRegression"
      ],
      "execution_count": 0,
      "outputs": []
    },
    {
      "cell_type": "code",
      "metadata": {
        "id": "OteyAiAZaugR",
        "colab_type": "code",
        "colab": {}
      },
      "source": [
        "X_train, X_test, Y_train, Y_test = train_test_split(X, Y, test_size = 0.2, random_state = 1)"
      ],
      "execution_count": 0,
      "outputs": []
    },
    {
      "cell_type": "code",
      "metadata": {
        "id": "kJj92QCzbc99",
        "colab_type": "code",
        "outputId": "5cddf86b-6dc8-47b0-a79a-06b1807dafaf",
        "colab": {
          "base_uri": "https://localhost:8080/",
          "height": 90
        }
      },
      "source": [
        "print(X_train.shape)\n",
        "print(Y_train.shape)\n",
        "print(X_test.shape)\n",
        "print(Y_test.shape)"
      ],
      "execution_count": 0,
      "outputs": [
        {
          "output_type": "stream",
          "text": [
            "(6028, 16)\n",
            "(6028,)\n",
            "(1508, 16)\n",
            "(1508,)\n"
          ],
          "name": "stdout"
        }
      ]
    },
    {
      "cell_type": "code",
      "metadata": {
        "id": "gruWHK2qaWnu",
        "colab_type": "code",
        "outputId": "313adf19-e967-4cc4-9612-bd71629b6d8d",
        "colab": {
          "base_uri": "https://localhost:8080/",
          "height": 35
        }
      },
      "source": [
        "model = LinearRegression()\n",
        "model.fit(X_train, Y_train)"
      ],
      "execution_count": 0,
      "outputs": [
        {
          "output_type": "execute_result",
          "data": {
            "text/plain": [
              "LinearRegression(copy_X=True, fit_intercept=True, n_jobs=None, normalize=False)"
            ]
          },
          "metadata": {
            "tags": []
          },
          "execution_count": 490
        }
      ]
    },
    {
      "cell_type": "code",
      "metadata": {
        "id": "Wc9JFCDYkHXH",
        "colab_type": "code",
        "colab": {}
      },
      "source": [
        "from sklearn.metrics import mean_absolute_error"
      ],
      "execution_count": 0,
      "outputs": []
    },
    {
      "cell_type": "code",
      "metadata": {
        "id": "Ylnn09DzkeKi",
        "colab_type": "code",
        "outputId": "b19ba442-30d2-47c9-fb08-790e2c356756",
        "colab": {
          "base_uri": "https://localhost:8080/",
          "height": 35
        }
      },
      "source": [
        "pred = model.predict(X_test)\n",
        "mae = mean_absolute_error(Y_test, pred)\n",
        "mae"
      ],
      "execution_count": 0,
      "outputs": [
        {
          "output_type": "execute_result",
          "data": {
            "text/plain": [
              "304533.59133185877"
            ]
          },
          "metadata": {
            "tags": []
          },
          "execution_count": 492
        }
      ]
    },
    {
      "cell_type": "code",
      "metadata": {
        "id": "V4oIl_9cknaR",
        "colab_type": "code",
        "outputId": "63d01740-6419-4c1d-d53b-005ae7629757",
        "colab": {
          "base_uri": "https://localhost:8080/",
          "height": 35
        }
      },
      "source": [
        "score = model.score(X_test, Y_test)\n",
        "score"
      ],
      "execution_count": 0,
      "outputs": [
        {
          "output_type": "execute_result",
          "data": {
            "text/plain": [
              "0.5373453058661001"
            ]
          },
          "metadata": {
            "tags": []
          },
          "execution_count": 493
        }
      ]
    },
    {
      "cell_type": "code",
      "metadata": {
        "id": "W-Wx3zQRk-96",
        "colab_type": "code",
        "outputId": "dc61390f-2414-4fb9-ade0-485dfdd86071",
        "colab": {
          "base_uri": "https://localhost:8080/",
          "height": 308
        }
      },
      "source": [
        "for i in zip(model.coef_, X_train.columns):\n",
        "  print(i)"
      ],
      "execution_count": 0,
      "outputs": [
        {
          "output_type": "stream",
          "text": [
            "(-1797.5041112196168, 'Suburb')\n",
            "(283661.4041679318, 'Rooms')\n",
            "(-46485.09967889511, 'Distance')\n",
            "(-53347.185389476246, 'Bedroom2')\n",
            "(195552.4706619714, 'Bathroom')\n",
            "(40315.480806558306, 'Car')\n",
            "(918.8094186740927, 'BuildingArea')\n",
            "(-2577.625315327423, 'YearBuilt')\n",
            "(165150.79480458915, 'Type_h')\n",
            "(-125748.92780198134, 'Type_u')\n",
            "(-39401.86700260776, 'Type_t')\n",
            "(31583.346641383494, 'Method_S')\n",
            "(-89911.571481616, 'Method_SP')\n",
            "(3240.7807008640116, 'Method_VB')\n",
            "(-55132.29327816835, 'Method_PI')\n",
            "(110219.7374175367, 'Method_SA')\n"
          ],
          "name": "stdout"
        }
      ]
    },
    {
      "cell_type": "markdown",
      "metadata": {
        "id": "tg-J-ADTyQcT",
        "colab_type": "text"
      },
      "source": [
        "**Decision Tree**"
      ]
    },
    {
      "cell_type": "code",
      "metadata": {
        "id": "XGAw7d2PsqMy",
        "colab_type": "code",
        "colab": {}
      },
      "source": [
        "from sklearn.tree import DecisionTreeRegressor\n",
        "from sklearn.model_selection import GridSearchCV, RandomizedSearchCV"
      ],
      "execution_count": 0,
      "outputs": []
    },
    {
      "cell_type": "code",
      "metadata": {
        "id": "tO-vYCxfy3JF",
        "colab_type": "code",
        "outputId": "ec258886-7501-4e85-be5b-93cd05423a7f",
        "colab": {
          "base_uri": "https://localhost:8080/",
          "height": 108
        }
      },
      "source": [
        "model = DecisionTreeRegressor()\n",
        "\n",
        "model.fit(X_train, Y_train)"
      ],
      "execution_count": 0,
      "outputs": [
        {
          "output_type": "execute_result",
          "data": {
            "text/plain": [
              "DecisionTreeRegressor(criterion='mse', max_depth=None, max_features=None,\n",
              "                      max_leaf_nodes=None, min_impurity_decrease=0.0,\n",
              "                      min_impurity_split=None, min_samples_leaf=1,\n",
              "                      min_samples_split=2, min_weight_fraction_leaf=0.0,\n",
              "                      presort=False, random_state=None, splitter='best')"
            ]
          },
          "metadata": {
            "tags": []
          },
          "execution_count": 496
        }
      ]
    },
    {
      "cell_type": "code",
      "metadata": {
        "id": "THAhnBmNzSgw",
        "colab_type": "code",
        "colab": {}
      },
      "source": [
        "pred = model.predict(X_test)"
      ],
      "execution_count": 0,
      "outputs": []
    },
    {
      "cell_type": "code",
      "metadata": {
        "id": "5eYLSNILzvlR",
        "colab_type": "code",
        "outputId": "184d67c4-8330-4c0b-e998-18831199b456",
        "colab": {
          "base_uri": "https://localhost:8080/",
          "height": 35
        }
      },
      "source": [
        "mean_absolute_error(Y_test, pred)"
      ],
      "execution_count": 0,
      "outputs": [
        {
          "output_type": "execute_result",
          "data": {
            "text/plain": [
              "278451.54876118194"
            ]
          },
          "metadata": {
            "tags": []
          },
          "execution_count": 498
        }
      ]
    },
    {
      "cell_type": "code",
      "metadata": {
        "id": "Nhpxf47NzX5-",
        "colab_type": "code",
        "outputId": "573e95fd-025e-45fb-a348-9ae244837aa1",
        "colab": {
          "base_uri": "https://localhost:8080/",
          "height": 35
        }
      },
      "source": [
        "print(model.score(X_test, Y_test))"
      ],
      "execution_count": 0,
      "outputs": [
        {
          "output_type": "stream",
          "text": [
            "0.4840319050146969\n"
          ],
          "name": "stdout"
        }
      ]
    },
    {
      "cell_type": "code",
      "metadata": {
        "id": "5XAb4SlOzf71",
        "colab_type": "code",
        "colab": {}
      },
      "source": [
        "params = {\n",
        "    'max_depth' : [10, 20, 30],\n",
        "    'min_samples_leaf':[9],\n",
        "    'min_samples_split':[2, 3, 4, 5, 10, 20]\n",
        "}"
      ],
      "execution_count": 0,
      "outputs": []
    },
    {
      "cell_type": "code",
      "metadata": {
        "id": "xjXwH8Yk0Q5-",
        "colab_type": "code",
        "colab": {}
      },
      "source": [
        "random_search = RandomizedSearchCV(model, cv = 10, param_distributions = params, \n",
        "                                   scoring = 'neg_mean_absolute_error', n_iter = 10)"
      ],
      "execution_count": 0,
      "outputs": []
    },
    {
      "cell_type": "code",
      "metadata": {
        "id": "bF09Sy1d0xak",
        "colab_type": "code",
        "outputId": "9d4a83fd-f153-45c5-a4aa-01fd278df8b8",
        "colab": {
          "base_uri": "https://localhost:8080/",
          "height": 399
        }
      },
      "source": [
        "random_search.fit(X_train, Y_train)"
      ],
      "execution_count": 0,
      "outputs": [
        {
          "output_type": "execute_result",
          "data": {
            "text/plain": [
              "RandomizedSearchCV(cv=10, error_score='raise-deprecating',\n",
              "                   estimator=DecisionTreeRegressor(criterion='mse',\n",
              "                                                   max_depth=None,\n",
              "                                                   max_features=None,\n",
              "                                                   max_leaf_nodes=None,\n",
              "                                                   min_impurity_decrease=0.0,\n",
              "                                                   min_impurity_split=None,\n",
              "                                                   min_samples_leaf=1,\n",
              "                                                   min_samples_split=2,\n",
              "                                                   min_weight_fraction_leaf=0.0,\n",
              "                                                   presort=False,\n",
              "                                                   random_state=None,\n",
              "                                                   splitter='best'),\n",
              "                   iid='warn', n_iter=10, n_jobs=None,\n",
              "                   param_distributions={'max_depth': [10, 20, 30],\n",
              "                                        'min_samples_leaf': [9],\n",
              "                                        'min_samples_split': [2, 3, 4, 5, 10,\n",
              "                                                              20]},\n",
              "                   pre_dispatch='2*n_jobs', random_state=None, refit=True,\n",
              "                   return_train_score=False, scoring='neg_mean_absolute_error',\n",
              "                   verbose=0)"
            ]
          },
          "metadata": {
            "tags": []
          },
          "execution_count": 541
        }
      ]
    },
    {
      "cell_type": "code",
      "metadata": {
        "id": "MUx63FUv02Go",
        "colab_type": "code",
        "outputId": "6e849f63-f246-40f2-ed93-7a4dc8bb7792",
        "colab": {
          "base_uri": "https://localhost:8080/",
          "height": 108
        }
      },
      "source": [
        "random_search.best_estimator_"
      ],
      "execution_count": 0,
      "outputs": [
        {
          "output_type": "execute_result",
          "data": {
            "text/plain": [
              "DecisionTreeRegressor(criterion='mse', max_depth=30, max_features=None,\n",
              "                      max_leaf_nodes=None, min_impurity_decrease=0.0,\n",
              "                      min_impurity_split=None, min_samples_leaf=9,\n",
              "                      min_samples_split=5, min_weight_fraction_leaf=0.0,\n",
              "                      presort=False, random_state=None, splitter='best')"
            ]
          },
          "metadata": {
            "tags": []
          },
          "execution_count": 542
        }
      ]
    },
    {
      "cell_type": "code",
      "metadata": {
        "id": "VdjdZ8sq05Ga",
        "colab_type": "code",
        "outputId": "10c7afcc-9385-4650-ceaf-d393ce499b4d",
        "colab": {
          "base_uri": "https://localhost:8080/",
          "height": 54
        }
      },
      "source": [
        "best = random_search.best_estimator_\n",
        "print(mean_absolute_error(Y_test, best.predict(X_test)))\n",
        "best.score(X_test, Y_test)*100"
      ],
      "execution_count": 0,
      "outputs": [
        {
          "output_type": "stream",
          "text": [
            "242256.77346448\n"
          ],
          "name": "stdout"
        },
        {
          "output_type": "execute_result",
          "data": {
            "text/plain": [
              "65.3427136236294"
            ]
          },
          "metadata": {
            "tags": []
          },
          "execution_count": 546
        }
      ]
    },
    {
      "cell_type": "code",
      "metadata": {
        "id": "HgY6ROL94hVm",
        "colab_type": "code",
        "outputId": "b0c6b24e-df7f-463b-b368-4c0c763e3534",
        "colab": {
          "base_uri": "https://localhost:8080/",
          "height": 55
        }
      },
      "source": [
        ""
      ],
      "execution_count": 0,
      "outputs": [
        {
          "output_type": "stream",
          "text": [
            "0.14291739512316148 0.3251308428080916 0.23114043590994054 0.0013481849274908772 0.04297325175919998 0.00948620815602848 0.09386664365775359 0.029254394615203794 0.11600114684862148 0.0002027082652804883 0.0008446216451012081 0.0053496345430375175 0.0012602248320943805 8.753156194324507e-05 0.00013677534705150248 0.0\n"
          ],
          "name": "stdout"
        }
      ]
    },
    {
      "cell_type": "markdown",
      "metadata": {
        "id": "gRVRK00S4Ptr",
        "colab_type": "text"
      },
      "source": [
        "**Random Forest**"
      ]
    },
    {
      "cell_type": "code",
      "metadata": {
        "id": "cXn2w4xx4PTC",
        "colab_type": "code",
        "colab": {}
      },
      "source": [
        "from sklearn.ensemble import RandomForestRegressor"
      ],
      "execution_count": 0,
      "outputs": []
    },
    {
      "cell_type": "code",
      "metadata": {
        "id": "NiP3KMdf1d3-",
        "colab_type": "code",
        "colab": {}
      },
      "source": [
        "param_dist = {\"n_estimators\":[50, 100, 200, 300, 500, 600, 700],\n",
        "              \"max_features\": [1, 2, 3, 4, 5, 10, 13, 16],\n",
        "              \"bootstrap\": [ False], \n",
        "                'criterion':['mse'],\n",
        "                'max_depth':[None,5,30, 40, 50],\n",
        "                'min_samples_leaf':[2, 5,20], \n",
        "                'min_samples_split':[2,10]\n",
        "                  }"
      ],
      "execution_count": 0,
      "outputs": []
    },
    {
      "cell_type": "code",
      "metadata": {
        "id": "WZ49Dljs1Gne",
        "colab_type": "code",
        "outputId": "9289ad5c-9d80-48ac-c936-2171993f3d22",
        "colab": {
          "base_uri": "https://localhost:8080/",
          "height": 563
        }
      },
      "source": [
        "model = RandomForestRegressor()\n",
        "\n",
        "random_search = RandomizedSearchCV(model, param_distributions=param_dist,\n",
        "                                   n_iter=10,scoring='neg_mean_absolute_error',cv=5, verbose=1)\n",
        "random_search.fit(X_train, Y_train)"
      ],
      "execution_count": 0,
      "outputs": [
        {
          "output_type": "stream",
          "text": [
            "Fitting 5 folds for each of 10 candidates, totalling 50 fits\n"
          ],
          "name": "stdout"
        },
        {
          "output_type": "stream",
          "text": [
            "[Parallel(n_jobs=1)]: Using backend SequentialBackend with 1 concurrent workers.\n",
            "[Parallel(n_jobs=1)]: Done  50 out of  50 | elapsed:  1.9min finished\n"
          ],
          "name": "stderr"
        },
        {
          "output_type": "execute_result",
          "data": {
            "text/plain": [
              "RandomizedSearchCV(cv=5, error_score='raise-deprecating',\n",
              "                   estimator=RandomForestRegressor(bootstrap=True,\n",
              "                                                   criterion='mse',\n",
              "                                                   max_depth=None,\n",
              "                                                   max_features='auto',\n",
              "                                                   max_leaf_nodes=None,\n",
              "                                                   min_impurity_decrease=0.0,\n",
              "                                                   min_impurity_split=None,\n",
              "                                                   min_samples_leaf=1,\n",
              "                                                   min_samples_split=2,\n",
              "                                                   min_weight_fraction_leaf=0.0,\n",
              "                                                   n_estimators='warn',\n",
              "                                                   n_jobs=None, oob_score=False,\n",
              "                                                   random_sta...\n",
              "                   iid='warn', n_iter=10, n_jobs=None,\n",
              "                   param_distributions={'bootstrap': [False],\n",
              "                                        'criterion': ['mse'],\n",
              "                                        'max_depth': [None, 5, 30, 40, 50],\n",
              "                                        'max_features': [1, 2, 3, 4, 5, 10, 13,\n",
              "                                                         16],\n",
              "                                        'min_samples_leaf': [2, 5, 20],\n",
              "                                        'min_samples_split': [2, 10],\n",
              "                                        'n_estimators': [50, 100, 200, 300, 500,\n",
              "                                                         600, 700]},\n",
              "                   pre_dispatch='2*n_jobs', random_state=None, refit=True,\n",
              "                   return_train_score=False, scoring='neg_mean_absolute_error',\n",
              "                   verbose=1)"
            ]
          },
          "metadata": {
            "tags": []
          },
          "execution_count": 570
        }
      ]
    },
    {
      "cell_type": "code",
      "metadata": {
        "id": "SNkTq8ACBr2i",
        "colab_type": "code",
        "outputId": "22b2a7d7-b09e-4a29-e007-a1ace78d35d0",
        "colab": {
          "base_uri": "https://localhost:8080/",
          "height": 145
        }
      },
      "source": [
        "random_search.best_estimator_"
      ],
      "execution_count": 0,
      "outputs": [
        {
          "output_type": "execute_result",
          "data": {
            "text/plain": [
              "RandomForestRegressor(bootstrap=False, criterion='mse', max_depth=40,\n",
              "                      max_features=5, max_leaf_nodes=None,\n",
              "                      min_impurity_decrease=0.0, min_impurity_split=None,\n",
              "                      min_samples_leaf=2, min_samples_split=2,\n",
              "                      min_weight_fraction_leaf=0.0, n_estimators=700,\n",
              "                      n_jobs=None, oob_score=False, random_state=None,\n",
              "                      verbose=0, warm_start=False)"
            ]
          },
          "metadata": {
            "tags": []
          },
          "execution_count": 571
        }
      ]
    },
    {
      "cell_type": "code",
      "metadata": {
        "id": "sLzRcSyOB1bJ",
        "colab_type": "code",
        "outputId": "6b859418-cdf1-47f0-8041-c030761f999c",
        "colab": {
          "base_uri": "https://localhost:8080/",
          "height": 54
        }
      },
      "source": [
        "best = random_search.best_estimator_\n",
        "print(mean_absolute_error(Y_test, best.predict(X_test)))\n",
        "best.score(X_test, Y_test)*100"
      ],
      "execution_count": 0,
      "outputs": [
        {
          "output_type": "stream",
          "text": [
            "213776.24752281318\n"
          ],
          "name": "stdout"
        },
        {
          "output_type": "execute_result",
          "data": {
            "text/plain": [
              "74.9088351365285"
            ]
          },
          "metadata": {
            "tags": []
          },
          "execution_count": 572
        }
      ]
    },
    {
      "cell_type": "markdown",
      "metadata": {
        "id": "q3eks0IvDmDl",
        "colab_type": "text"
      },
      "source": [
        "XGB"
      ]
    },
    {
      "cell_type": "code",
      "metadata": {
        "id": "QtXPZg4ZCIjs",
        "colab_type": "code",
        "colab": {}
      },
      "source": [
        "from sklearn.ensemble import GradientBoostingRegressor\n",
        "from xgboost.sklearn import XGBRegressor"
      ],
      "execution_count": 0,
      "outputs": []
    },
    {
      "cell_type": "code",
      "metadata": {
        "id": "k6v65De1D_0R",
        "colab_type": "code",
        "colab": {}
      },
      "source": [
        "gbm_params={'n_estimators':[10,50,100, 200, 300, 400],\n",
        "           'learning_rate': [0.1 ,0.2, 0.4, 0.6, 0.8,1],\n",
        "            'max_depth':[1,2,3,4,5,6, 7, 8],\n",
        "           'min_samples_split':[2,5,10,20, 30, 40, 50, 60],\n",
        "             'min_samples_leaf':[2,5,10,20, 30, 40, 50, 60],\n",
        "            'subsample':[0.1,0.5,0.8,1],\n",
        "            'max_features':[1, 3, 5, 7, 8, 9, 10, 12, 14, 16]\n",
        "           }"
      ],
      "execution_count": 0,
      "outputs": []
    },
    {
      "cell_type": "code",
      "metadata": {
        "id": "A50JueO3ED-q",
        "colab_type": "code",
        "colab": {}
      },
      "source": [
        "gbm = GradientBoostingRegressor()"
      ],
      "execution_count": 0,
      "outputs": []
    },
    {
      "cell_type": "code",
      "metadata": {
        "id": "egAC2yB2EITw",
        "colab_type": "code",
        "colab": {}
      },
      "source": [
        "random_search = RandomizedSearchCV(gbm, param_distributions=gbm_params, cv = 5, n_iter=10, n_jobs = -1, scoring='neg_mean_absolute_error')"
      ],
      "execution_count": 0,
      "outputs": []
    },
    {
      "cell_type": "code",
      "metadata": {
        "id": "MuJ8rR9NEjLo",
        "colab_type": "code",
        "outputId": "31b95e28-0b66-4cbd-f298-c112ed571173",
        "colab": {
          "base_uri": "https://localhost:8080/",
          "height": 526
        }
      },
      "source": [
        "random_search.fit(X_train, Y_train)"
      ],
      "execution_count": 0,
      "outputs": [
        {
          "output_type": "execute_result",
          "data": {
            "text/plain": [
              "RandomizedSearchCV(cv=5, error_score='raise-deprecating',\n",
              "                   estimator=GradientBoostingRegressor(alpha=0.9,\n",
              "                                                       criterion='friedman_mse',\n",
              "                                                       init=None,\n",
              "                                                       learning_rate=0.1,\n",
              "                                                       loss='ls', max_depth=3,\n",
              "                                                       max_features=None,\n",
              "                                                       max_leaf_nodes=None,\n",
              "                                                       min_impurity_decrease=0.0,\n",
              "                                                       min_impurity_split=None,\n",
              "                                                       min_samples_leaf=1,\n",
              "                                                       min_samples_split=2,\n",
              "                                                       min_weight_fraction_leaf=0.0,\n",
              "                                                       n_estimators=100,...\n",
              "                                                          0.8, 1],\n",
              "                                        'max_depth': [1, 2, 3, 4, 5, 6, 7, 8],\n",
              "                                        'max_features': [1, 3, 5, 7, 8, 9, 10,\n",
              "                                                         12, 14, 16],\n",
              "                                        'min_samples_leaf': [2, 5, 10, 20, 30,\n",
              "                                                             40, 50, 60],\n",
              "                                        'min_samples_split': [2, 5, 10, 20, 30,\n",
              "                                                              40, 50, 60],\n",
              "                                        'n_estimators': [10, 50, 100, 200, 300,\n",
              "                                                         400],\n",
              "                                        'subsample': [0.1, 0.5, 0.8, 1]},\n",
              "                   pre_dispatch='2*n_jobs', random_state=None, refit=True,\n",
              "                   return_train_score=False, scoring='neg_mean_absolute_error',\n",
              "                   verbose=0)"
            ]
          },
          "metadata": {
            "tags": []
          },
          "execution_count": 625
        }
      ]
    },
    {
      "cell_type": "code",
      "metadata": {
        "id": "H4XhVg1QEv1i",
        "colab_type": "code",
        "outputId": "b529a8fc-e22c-4814-b43c-d73030f9dc6a",
        "colab": {
          "base_uri": "https://localhost:8080/",
          "height": 181
        }
      },
      "source": [
        "random_search.best_estimator_"
      ],
      "execution_count": 0,
      "outputs": [
        {
          "output_type": "execute_result",
          "data": {
            "text/plain": [
              "GradientBoostingRegressor(alpha=0.9, criterion='friedman_mse', init=None,\n",
              "                          learning_rate=0.1, loss='ls', max_depth=7,\n",
              "                          max_features=16, max_leaf_nodes=None,\n",
              "                          min_impurity_decrease=0.0, min_impurity_split=None,\n",
              "                          min_samples_leaf=2, min_samples_split=40,\n",
              "                          min_weight_fraction_leaf=0.0, n_estimators=300,\n",
              "                          n_iter_no_change=None, presort='auto',\n",
              "                          random_state=None, subsample=0.8, tol=0.0001,\n",
              "                          validation_fraction=0.1, verbose=0, warm_start=False)"
            ]
          },
          "metadata": {
            "tags": []
          },
          "execution_count": 626
        }
      ]
    },
    {
      "cell_type": "code",
      "metadata": {
        "id": "2jHGMbPsFBa5",
        "colab_type": "code",
        "outputId": "ca3fce4d-a24e-4ce0-83fd-3a338dc2a0f1",
        "colab": {
          "base_uri": "https://localhost:8080/",
          "height": 54
        }
      },
      "source": [
        "best = random_search.best_estimator_\n",
        "print(mean_absolute_error(Y_test, best.predict(X_test)))\n",
        "best.score(X_test, Y_test)*100"
      ],
      "execution_count": 0,
      "outputs": [
        {
          "output_type": "stream",
          "text": [
            "194366.0507889061\n"
          ],
          "name": "stdout"
        },
        {
          "output_type": "execute_result",
          "data": {
            "text/plain": [
              "78.62795903357154"
            ]
          },
          "metadata": {
            "tags": []
          },
          "execution_count": 627
        }
      ]
    },
    {
      "cell_type": "code",
      "metadata": {
        "id": "8X_yUKqAFh3f",
        "colab_type": "code",
        "outputId": "eabef357-5c70-48b5-88a3-0d1c35d41472",
        "colab": {
          "base_uri": "https://localhost:8080/",
          "height": 90
        }
      },
      "source": [
        "best.feature_importances_"
      ],
      "execution_count": 0,
      "outputs": [
        {
          "output_type": "execute_result",
          "data": {
            "text/plain": [
              "array([0.16285719, 0.24706394, 0.20334577, 0.01382632, 0.05083713,\n",
              "       0.02131148, 0.12400212, 0.05679688, 0.08153061, 0.0191629 ,\n",
              "       0.00111799, 0.0068942 , 0.00142634, 0.00554322, 0.00253601,\n",
              "       0.0017479 ])"
            ]
          },
          "metadata": {
            "tags": []
          },
          "execution_count": 628
        }
      ]
    },
    {
      "cell_type": "code",
      "metadata": {
        "id": "2X84S-78F9is",
        "colab_type": "code",
        "colab": {}
      },
      "source": [
        "xgb_params = {  \n",
        "                \"learning_rate\":[0.01,0.05,0.1,0.2,0.3,0.4,0.5],\n",
        "                \"gamma\":[i/10.0 for i in range(0,10)],\n",
        "                \"max_depth\": [2,3,4,5,6,7,8],\n",
        "                \"min_child_weight\":[1,2,5,10],\n",
        "                \"max_delta_step\":[0,1,2,5,10],\n",
        "                \"subsample\":[i/10.0 for i in range(5,10)],\n",
        "                \"colsample_bytree\":[i/10.0 for i in range(5,10)],\n",
        "                \"colsample_bylevel\":[i/10.0 for i in range(5,10)],\n",
        "                \"reg_lambda\":[1e-5, 1e-2, 0.1, 1, 100], \n",
        "                \"reg_alpha\":[1e-5, 1e-2, 0.1, 1, 100],\n",
        "                \"scale_pos_weight\":[1,2,3,4,5,6,7,8,9],\n",
        "                \"n_estimators\":[100,500,700,1000, 1100, 1200]\n",
        "             }"
      ],
      "execution_count": 0,
      "outputs": []
    },
    {
      "cell_type": "code",
      "metadata": {
        "id": "pRamE8zdH9PE",
        "colab_type": "code",
        "colab": {}
      },
      "source": [
        "xgb = XGBRegressor()"
      ],
      "execution_count": 0,
      "outputs": []
    },
    {
      "cell_type": "code",
      "metadata": {
        "id": "AIjRpYtRICKx",
        "colab_type": "code",
        "colab": {}
      },
      "source": [
        "random_search = RandomizedSearchCV(xgb, n_jobs = -1, cv = 5, param_distributions=xgb_params, n_iter=10, scoring='neg_mean_absolute_error')"
      ],
      "execution_count": 0,
      "outputs": []
    },
    {
      "cell_type": "code",
      "metadata": {
        "id": "Sa6IQmGfIfLO",
        "colab_type": "code",
        "outputId": "449f8a51-8afc-4cbd-de61-0a3c1af17584",
        "colab": {
          "base_uri": "https://localhost:8080/",
          "height": 526
        }
      },
      "source": [
        "random_search.fit(X_train, Y_train)"
      ],
      "execution_count": 0,
      "outputs": [
        {
          "output_type": "stream",
          "text": [
            "/usr/local/lib/python3.6/dist-packages/xgboost/core.py:587: FutureWarning: Series.base is deprecated and will be removed in a future version\n",
            "  if getattr(data, 'base', None) is not None and \\\n"
          ],
          "name": "stderr"
        },
        {
          "output_type": "stream",
          "text": [
            "[11:19:38] WARNING: /workspace/src/objective/regression_obj.cu:152: reg:linear is now deprecated in favor of reg:squarederror.\n"
          ],
          "name": "stdout"
        },
        {
          "output_type": "execute_result",
          "data": {
            "text/plain": [
              "RandomizedSearchCV(cv=5, error_score='raise-deprecating',\n",
              "                   estimator=XGBRegressor(base_score=0.5, booster='gbtree',\n",
              "                                          colsample_bylevel=1,\n",
              "                                          colsample_bynode=1,\n",
              "                                          colsample_bytree=1, gamma=0,\n",
              "                                          importance_type='gain',\n",
              "                                          learning_rate=0.1, max_delta_step=0,\n",
              "                                          max_depth=3, min_child_weight=1,\n",
              "                                          missing=None, n_estimators=100,\n",
              "                                          n_jobs=1, nthread=None,\n",
              "                                          objective='reg:linear',\n",
              "                                          random_st...\n",
              "                                        'max_depth': [2, 3, 4, 5, 6, 7, 8],\n",
              "                                        'min_child_weight': [1, 2, 5, 10],\n",
              "                                        'n_estimators': [100, 500, 700, 1000,\n",
              "                                                         1100, 1200],\n",
              "                                        'reg_alpha': [1e-05, 0.01, 0.1, 1, 100],\n",
              "                                        'reg_lambda': [1e-05, 0.01, 0.1, 1,\n",
              "                                                       100],\n",
              "                                        'scale_pos_weight': [1, 2, 3, 4, 5, 6,\n",
              "                                                             7, 8, 9],\n",
              "                                        'subsample': [0.5, 0.6, 0.7, 0.8, 0.9]},\n",
              "                   pre_dispatch='2*n_jobs', random_state=None, refit=True,\n",
              "                   return_train_score=False, scoring='neg_mean_absolute_error',\n",
              "                   verbose=0)"
            ]
          },
          "metadata": {
            "tags": []
          },
          "execution_count": 641
        }
      ]
    },
    {
      "cell_type": "code",
      "metadata": {
        "id": "g0DiIe7AIlky",
        "colab_type": "code",
        "outputId": "15036a1b-f6e4-4b7b-a882-df22909a7960",
        "colab": {
          "base_uri": "https://localhost:8080/",
          "height": 145
        }
      },
      "source": [
        "random_search.best_estimator_"
      ],
      "execution_count": 0,
      "outputs": [
        {
          "output_type": "execute_result",
          "data": {
            "text/plain": [
              "XGBRegressor(base_score=0.5, booster='gbtree', colsample_bylevel=0.8,\n",
              "             colsample_bynode=1, colsample_bytree=0.7, gamma=0.1,\n",
              "             importance_type='gain', learning_rate=0.01, max_delta_step=0,\n",
              "             max_depth=7, min_child_weight=1, missing=None, n_estimators=1000,\n",
              "             n_jobs=1, nthread=None, objective='reg:linear', random_state=0,\n",
              "             reg_alpha=1, reg_lambda=1e-05, scale_pos_weight=2, seed=None,\n",
              "             silent=None, subsample=0.7, verbosity=1)"
            ]
          },
          "metadata": {
            "tags": []
          },
          "execution_count": 642
        }
      ]
    },
    {
      "cell_type": "code",
      "metadata": {
        "id": "MU73la9DIqa2",
        "colab_type": "code",
        "outputId": "c97aa6f4-8365-4247-dd21-802e2a191d14",
        "colab": {
          "base_uri": "https://localhost:8080/",
          "height": 54
        }
      },
      "source": [
        "best = random_search.best_estimator_\n",
        "print(mean_absolute_error(Y_test, best.predict(X_test)))\n",
        "best.score(X_test, Y_test)*100"
      ],
      "execution_count": 0,
      "outputs": [
        {
          "output_type": "stream",
          "text": [
            "187571.1743306532\n"
          ],
          "name": "stdout"
        },
        {
          "output_type": "execute_result",
          "data": {
            "text/plain": [
              "80.23610769284743"
            ]
          },
          "metadata": {
            "tags": []
          },
          "execution_count": 643
        }
      ]
    }
  ]
}